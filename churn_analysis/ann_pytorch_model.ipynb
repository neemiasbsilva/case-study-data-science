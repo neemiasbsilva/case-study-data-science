{
  "nbformat": 4,
  "nbformat_minor": 0,
  "metadata": {
    "colab": {
      "name": "ann_pytorch_model.ipynb",
      "provenance": [],
      "toc_visible": true,
      "mount_file_id": "1aNeAJxdtySn3ATEMQ7xTGG6APY5aFH-_",
      "authorship_tag": "ABX9TyMB08QH2s+itW+XYpcWkssC"
    },
    "kernelspec": {
      "name": "python3",
      "display_name": "Python 3"
    },
    "language_info": {
      "name": "python"
    },
    "accelerator": "GPU",
    "gpuClass": "standard"
  },
  "cells": [
    {
      "cell_type": "markdown",
      "source": [
        "# Setup & Import libraries"
      ],
      "metadata": {
        "id": "TS-mS_9iX1-k"
      }
    },
    {
      "cell_type": "code",
      "execution_count": null,
      "metadata": {
        "id": "Gxf_VlgJXqx8"
      },
      "outputs": [],
      "source": [
        "import os\n",
        "import numpy as np\n",
        "\n",
        "import torch\n",
        "from sklearn.metrics import classification_report"
      ]
    },
    {
      "cell_type": "code",
      "source": [
        "os.chdir(\"/content/drive/MyDrive/datascience_projects/customer_churn_analysis\")\n",
        "%ls"
      ],
      "metadata": {
        "colab": {
          "base_uri": "https://localhost:8080/"
        },
        "id": "L7CoMs4pX7tL",
        "outputId": "05ab9952-1e71-4829-a6d2-f8f90a431dfa"
      },
      "execution_count": null,
      "outputs": [
        {
          "output_type": "stream",
          "name": "stdout",
          "text": [
            "\u001b[0m\u001b[01;34mdata\u001b[0m/  \u001b[01;34mnotebook\u001b[0m/\n"
          ]
        }
      ]
    },
    {
      "cell_type": "markdown",
      "source": [
        "# Load Dataset"
      ],
      "metadata": {
        "id": "SV1biMSSYJyI"
      }
    },
    {
      "cell_type": "code",
      "source": [
        "train_dataset = np.load(\"data/train_binary_data.npz\")\n",
        "validation_dataset = np.load(\"data/validation_binary_data.npz\")\n",
        "test_dataset = np.load(\"data/test_binary_data.npz\")"
      ],
      "metadata": {
        "id": "4iVspP49YCCI"
      },
      "execution_count": null,
      "outputs": []
    },
    {
      "cell_type": "markdown",
      "source": [
        "# Create Dataset Pytorch Class"
      ],
      "metadata": {
        "id": "yh1SvSl5Yl4M"
      }
    },
    {
      "cell_type": "code",
      "source": [
        "class NumpyDataset(torch.utils.data.Dataset):\n",
        "\n",
        "    def __init__(self, X, y, transform=None, target_transform=None):\n",
        "        self.X = X\n",
        "        self.y = y\n",
        "        self.transform = transform\n",
        "        self.target_transform = target_transform\n",
        "\n",
        "        # check if all features are float type\n",
        "        self.X = self.X.astype(\"float32\")\n",
        "        self.y = self.y.astype(\"float32\")\n",
        "        self.y = np.reshape(self.y, (len(self.y), -1))\n",
        "\n",
        "    # number of rows in dataset\n",
        "    def __len__(self):\n",
        "        return len(self.X)\n",
        "    \n",
        "    # get a row at an index\n",
        "    def __getitem__(self, index):\n",
        "        sample, target = self.X[index], self.y[index]\n",
        "        if (self.transform):\n",
        "            self.transform(sample)\n",
        "            self.target_transform(target)\n",
        "        return sample, target"
      ],
      "metadata": {
        "id": "-H8Fb6kKYjoT"
      },
      "execution_count": null,
      "outputs": []
    },
    {
      "cell_type": "code",
      "source": [
        "train_dataset = NumpyDataset(train_dataset['x'], train_dataset['y'])"
      ],
      "metadata": {
        "id": "yeu8V7wwZumo"
      },
      "execution_count": null,
      "outputs": []
    },
    {
      "cell_type": "code",
      "source": [
        "train_dataset.__len__()"
      ],
      "metadata": {
        "colab": {
          "base_uri": "https://localhost:8080/"
        },
        "id": "ARJpkNzxZ_Eb",
        "outputId": "b096e122-151d-4b45-9843-557ac36360d8"
      },
      "execution_count": null,
      "outputs": [
        {
          "output_type": "execute_result",
          "data": {
            "text/plain": [
              "6400"
            ]
          },
          "metadata": {},
          "execution_count": 6
        }
      ]
    },
    {
      "cell_type": "code",
      "source": [
        "validation_dataset = NumpyDataset(validation_dataset['x'], validation_dataset['y'])"
      ],
      "metadata": {
        "id": "ExpTHGxTaHCS"
      },
      "execution_count": null,
      "outputs": []
    },
    {
      "cell_type": "code",
      "source": [
        "validation_dataset.__len__()"
      ],
      "metadata": {
        "colab": {
          "base_uri": "https://localhost:8080/"
        },
        "outputId": "03975975-3735-431f-97a3-836975474211",
        "id": "73P7tcdzaHCT"
      },
      "execution_count": null,
      "outputs": [
        {
          "output_type": "execute_result",
          "data": {
            "text/plain": [
              "1600"
            ]
          },
          "metadata": {},
          "execution_count": 8
        }
      ]
    },
    {
      "cell_type": "code",
      "source": [
        "test_dataset = NumpyDataset(test_dataset['x'], test_dataset['y'])"
      ],
      "metadata": {
        "id": "ui8w8aRIaHSj"
      },
      "execution_count": null,
      "outputs": []
    },
    {
      "cell_type": "code",
      "source": [
        "test_dataset.__len__()"
      ],
      "metadata": {
        "colab": {
          "base_uri": "https://localhost:8080/"
        },
        "outputId": "ab2ceb79-f993-475b-9091-1c3395c137fd",
        "id": "g-JmEyZXaHSk"
      },
      "execution_count": null,
      "outputs": [
        {
          "output_type": "execute_result",
          "data": {
            "text/plain": [
              "2000"
            ]
          },
          "metadata": {},
          "execution_count": 10
        }
      ]
    },
    {
      "cell_type": "markdown",
      "source": [
        "# Create Model Architecture"
      ],
      "metadata": {
        "id": "7E5W4RhLaQk5"
      }
    },
    {
      "cell_type": "code",
      "source": [
        "class AnnModel(torch.nn.Module):\n",
        "\n",
        "    def __init__(self, n_features):\n",
        "        # calling constructor of parents class\n",
        "        super().__init__()\n",
        "\n",
        "        # defining the inputs to the first hidden layer\n",
        "        self.hid1 = torch.nn.Linear(in_features=n_features, out_features=6)\n",
        "        torch.nn.init.kaiming_uniform_(self.hid1.weight, nonlinearity=\"relu\")\n",
        "        self.act1 = torch.nn.ReLU()\n",
        "\n",
        "        # defining the inputs to the first hidden layer\n",
        "        self.hid2 = torch.nn.Linear(in_features=6, out_features=6)\n",
        "        torch.nn.init.kaiming_uniform_(self.hid1.weight, nonlinearity=\"relu\")\n",
        "        self.act2 = torch.nn.ReLU()\n",
        "\n",
        "        self.hid3 = torch.nn.Linear(in_features=6, out_features=1)\n",
        "        torch.nn.init.xavier_uniform_(self.hid3.weight)\n",
        "        # self.act3 = torch.nn.Sigmoid()\n",
        "\n",
        "\n",
        "    def forward(self, X):\n",
        "        #input and act for layer 1\n",
        "        X = self.hid1(X)\n",
        "        X = self.act1(X)\n",
        "        \n",
        "        #input and act for layer 2\n",
        "        X = self.hid2(X)\n",
        "        X = self.act2(X)\n",
        "        \n",
        "        #input and act for layer 3\n",
        "        X = self.hid3(X)\n",
        "        # X = self.act3(X)\n",
        "        \n",
        "        return X"
      ],
      "metadata": {
        "id": "Xe4lbwKVaCM6"
      },
      "execution_count": null,
      "outputs": []
    },
    {
      "cell_type": "markdown",
      "source": [
        "# Preparing Data in PyTorch"
      ],
      "metadata": {
        "id": "I51X2vQ9dBiG"
      }
    },
    {
      "cell_type": "code",
      "source": [
        "train_dl = torch.utils.data.DataLoader(dataset=train_dataset, batch_size=32,\n",
        "                            shuffle=True)\n",
        "validation_dl = torch.utils.data.DataLoader(dataset=validation_dataset, batch_size=32,\n",
        "                            shuffle=False)"
      ],
      "metadata": {
        "id": "Swg0BAEidEoV"
      },
      "execution_count": null,
      "outputs": []
    },
    {
      "cell_type": "code",
      "source": [
        "test_dl = torch.utils.data.DataLoader(dataset=test_dataset, batch_size=1, shuffle=False)"
      ],
      "metadata": {
        "id": "10gR_jGqgXYO"
      },
      "execution_count": null,
      "outputs": []
    },
    {
      "cell_type": "markdown",
      "source": [
        "# Train the Model"
      ],
      "metadata": {
        "id": "mRgiOWoje-5b"
      }
    },
    {
      "cell_type": "code",
      "source": [
        "device = torch.device(\"cuda:0\" if torch.cuda.is_available() else \"cpu\")\n",
        "print(device)"
      ],
      "metadata": {
        "colab": {
          "base_uri": "https://localhost:8080/"
        },
        "id": "bqgp61H8cTjb",
        "outputId": "92f3ce95-6c08-43c1-de6f-a802239a0e7d"
      },
      "execution_count": null,
      "outputs": [
        {
          "output_type": "stream",
          "name": "stdout",
          "text": [
            "cuda:0\n"
          ]
        }
      ]
    },
    {
      "cell_type": "code",
      "source": [
        "model = AnnModel(train_dataset.X.shape[1])\n",
        "model.to(device)"
      ],
      "metadata": {
        "colab": {
          "base_uri": "https://localhost:8080/"
        },
        "id": "FZcVX3BGfCSQ",
        "outputId": "b7b250df-208a-460d-fd1f-a10143a37cf6"
      },
      "execution_count": null,
      "outputs": [
        {
          "output_type": "execute_result",
          "data": {
            "text/plain": [
              "AnnModel(\n",
              "  (hid1): Linear(in_features=12, out_features=6, bias=True)\n",
              "  (act1): ReLU()\n",
              "  (hid2): Linear(in_features=6, out_features=6, bias=True)\n",
              "  (act2): ReLU()\n",
              "  (hid3): Linear(in_features=6, out_features=1, bias=True)\n",
              ")"
            ]
          },
          "metadata": {},
          "execution_count": 57
        }
      ]
    },
    {
      "cell_type": "code",
      "source": [
        "epochs=100\n",
        "learning_rate = 0.01\n",
        "optimizer = torch.optim.Adam(model.parameters(), lr=learning_rate)\n",
        "criterion = torch.nn.BCEWithLogitsLoss()"
      ],
      "metadata": {
        "id": "5O5WRMO7fY0_"
      },
      "execution_count": null,
      "outputs": []
    },
    {
      "cell_type": "code",
      "source": [
        "def binary_acc(y_pred, y_test):\n",
        "    y_pred_tag = torch.round(torch.sigmoid(y_pred))\n",
        "\n",
        "    correct_results_sum = (y_pred_tag == y_test).sum().float()\n",
        "    acc = correct_results_sum/y_test.shape[0]\n",
        "    acc = torch.round(acc * 100)\n",
        "    \n",
        "    return acc\n",
        "\n",
        "model.train()\n",
        "for epoch in range(epochs):\n",
        "    epoch_loss = 0\n",
        "    epoch_acc = 0\n",
        "    # go through all the batches generated by dataloader\n",
        "    for i, (inputs, targets) in enumerate(train_dl):\n",
        "        inputs, targets = inputs.to(device), targets.to(device)\n",
        "        # clear the gradients\n",
        "        optimizer.zero_grad()\n",
        "        # compute the model output\n",
        "        yhat = model(inputs)\n",
        "        targets = torch.reshape(targets, (-1, 1))\n",
        "        # print(yhat.shape, targets.shape)\n",
        "        # calculate loss\n",
        "        loss = criterion(yhat, targets)\n",
        "        acc = binary_acc(yhat, targets)\n",
        "        # credit assignment\n",
        "        loss.backward()\n",
        "        # update model weights\n",
        "        optimizer.step()\n",
        "        epoch_loss += loss.item()\n",
        "        epoch_acc += acc.item()\n",
        "\n",
        "    print(f'Epoch {epoch+1:03}: | Train Loss: {epoch_loss/len(train_dl):.5f} | Train Acc: {epoch_acc/len(train_dl):.3f}', end=\"\\n\\t\")\n",
        "    epoch_loss = 0.0\n",
        "    epoch_acc = 0\n",
        "    model.eval()     # Optional when not using Model Specific layer\n",
        "    for inputs, targets in validation_dl:\n",
        "        if torch.cuda.is_available():\n",
        "            inputs, targets = inputs.cuda(), targets.cuda()\n",
        "        \n",
        "        yhat = model(inputs)\n",
        "        loss = criterion(yhat, targets)\n",
        "        epoch_loss += loss.item()\n",
        "        acc = binary_acc(yhat, targets)\n",
        "        epoch_acc += acc.item()\n",
        "\n",
        "    print(f'Epoch {epoch+1} | Validation Loss: {epoch_loss / len(validation_dl)} | Validation Acc: {epoch_acc/len(validation_dl):.3f}')\n",
        "    \n"
      ],
      "metadata": {
        "colab": {
          "base_uri": "https://localhost:8080/"
        },
        "id": "rNTK9oqXgZka",
        "outputId": "de2ab9f9-1823-4d24-eec5-74d411bbd085"
      },
      "execution_count": null,
      "outputs": [
        {
          "output_type": "stream",
          "name": "stdout",
          "text": [
            "Epoch 001: | Train Loss: 0.46811 | Train Acc: 79.380\n",
            "\tEpoch 1 | Validation Loss: 0.42561756938695905 | Validation Acc: 80.700\n",
            "Epoch 002: | Train Loss: 0.42939 | Train Acc: 81.785\n",
            "\tEpoch 2 | Validation Loss: 0.3958232843875885 | Validation Acc: 82.140\n",
            "Epoch 003: | Train Loss: 0.38294 | Train Acc: 84.225\n",
            "\tEpoch 3 | Validation Loss: 0.35729788631200793 | Validation Acc: 85.540\n",
            "Epoch 004: | Train Loss: 0.36250 | Train Acc: 85.435\n",
            "\tEpoch 4 | Validation Loss: 0.3413339702785015 | Validation Acc: 86.440\n",
            "Epoch 005: | Train Loss: 0.35703 | Train Acc: 85.525\n",
            "\tEpoch 5 | Validation Loss: 0.34571986079216005 | Validation Acc: 85.140\n",
            "Epoch 006: | Train Loss: 0.35328 | Train Acc: 85.830\n",
            "\tEpoch 6 | Validation Loss: 0.34778309673070906 | Validation Acc: 86.380\n",
            "Epoch 007: | Train Loss: 0.35220 | Train Acc: 85.775\n",
            "\tEpoch 7 | Validation Loss: 0.34064441978931426 | Validation Acc: 86.660\n",
            "Epoch 008: | Train Loss: 0.34961 | Train Acc: 85.795\n",
            "\tEpoch 8 | Validation Loss: 0.3455420881509781 | Validation Acc: 86.480\n",
            "Epoch 009: | Train Loss: 0.35012 | Train Acc: 86.145\n",
            "\tEpoch 9 | Validation Loss: 0.33832119286060336 | Validation Acc: 86.960\n",
            "Epoch 010: | Train Loss: 0.34970 | Train Acc: 85.725\n",
            "\tEpoch 10 | Validation Loss: 0.3466002923250198 | Validation Acc: 86.040\n",
            "Epoch 011: | Train Loss: 0.34922 | Train Acc: 86.080\n",
            "\tEpoch 11 | Validation Loss: 0.342715185880661 | Validation Acc: 86.520\n",
            "Epoch 012: | Train Loss: 0.34895 | Train Acc: 86.040\n",
            "\tEpoch 12 | Validation Loss: 0.3396139805018902 | Validation Acc: 86.460\n",
            "Epoch 013: | Train Loss: 0.34956 | Train Acc: 86.185\n",
            "\tEpoch 13 | Validation Loss: 0.3441085782647133 | Validation Acc: 85.900\n",
            "Epoch 014: | Train Loss: 0.34650 | Train Acc: 85.950\n",
            "\tEpoch 14 | Validation Loss: 0.3416088631749153 | Validation Acc: 85.960\n",
            "Epoch 015: | Train Loss: 0.34924 | Train Acc: 85.945\n",
            "\tEpoch 15 | Validation Loss: 0.343270163834095 | Validation Acc: 86.760\n",
            "Epoch 016: | Train Loss: 0.34782 | Train Acc: 86.210\n",
            "\tEpoch 16 | Validation Loss: 0.3369139441847801 | Validation Acc: 86.540\n",
            "Epoch 017: | Train Loss: 0.34727 | Train Acc: 85.945\n",
            "\tEpoch 17 | Validation Loss: 0.34187198877334596 | Validation Acc: 86.340\n",
            "Epoch 018: | Train Loss: 0.34552 | Train Acc: 86.155\n",
            "\tEpoch 18 | Validation Loss: 0.3416061234474182 | Validation Acc: 86.000\n",
            "Epoch 019: | Train Loss: 0.34602 | Train Acc: 85.930\n",
            "\tEpoch 19 | Validation Loss: 0.34097512483596804 | Validation Acc: 86.560\n",
            "Epoch 020: | Train Loss: 0.34596 | Train Acc: 85.880\n",
            "\tEpoch 20 | Validation Loss: 0.33437136620283125 | Validation Acc: 86.120\n",
            "Epoch 021: | Train Loss: 0.34462 | Train Acc: 86.310\n",
            "\tEpoch 21 | Validation Loss: 0.33622888058423994 | Validation Acc: 86.320\n",
            "Epoch 022: | Train Loss: 0.34613 | Train Acc: 86.120\n",
            "\tEpoch 22 | Validation Loss: 0.3372929829359055 | Validation Acc: 86.340\n",
            "Epoch 023: | Train Loss: 0.34546 | Train Acc: 86.325\n",
            "\tEpoch 23 | Validation Loss: 0.34351194113492967 | Validation Acc: 85.440\n",
            "Epoch 024: | Train Loss: 0.34489 | Train Acc: 86.165\n",
            "\tEpoch 24 | Validation Loss: 0.33365397721529005 | Validation Acc: 86.280\n",
            "Epoch 025: | Train Loss: 0.34262 | Train Acc: 86.250\n",
            "\tEpoch 25 | Validation Loss: 0.3402347928285599 | Validation Acc: 86.660\n",
            "Epoch 026: | Train Loss: 0.34480 | Train Acc: 86.035\n",
            "\tEpoch 26 | Validation Loss: 0.33943080604076387 | Validation Acc: 86.660\n",
            "Epoch 027: | Train Loss: 0.34437 | Train Acc: 86.025\n",
            "\tEpoch 27 | Validation Loss: 0.33498893916606903 | Validation Acc: 86.680\n",
            "Epoch 028: | Train Loss: 0.34464 | Train Acc: 86.095\n",
            "\tEpoch 28 | Validation Loss: 0.33708415925502777 | Validation Acc: 86.380\n",
            "Epoch 029: | Train Loss: 0.34405 | Train Acc: 85.910\n",
            "\tEpoch 29 | Validation Loss: 0.3363619187474251 | Validation Acc: 86.360\n",
            "Epoch 030: | Train Loss: 0.34335 | Train Acc: 86.200\n",
            "\tEpoch 30 | Validation Loss: 0.33890764594078066 | Validation Acc: 86.560\n",
            "Epoch 031: | Train Loss: 0.34353 | Train Acc: 86.125\n",
            "\tEpoch 31 | Validation Loss: 0.34114118188619613 | Validation Acc: 86.480\n",
            "Epoch 032: | Train Loss: 0.34258 | Train Acc: 86.025\n",
            "\tEpoch 32 | Validation Loss: 0.3425160682201385 | Validation Acc: 86.200\n",
            "Epoch 033: | Train Loss: 0.34638 | Train Acc: 86.245\n",
            "\tEpoch 33 | Validation Loss: 0.3415580388903618 | Validation Acc: 86.640\n",
            "Epoch 034: | Train Loss: 0.34311 | Train Acc: 85.900\n",
            "\tEpoch 34 | Validation Loss: 0.33722799360752104 | Validation Acc: 87.100\n",
            "Epoch 035: | Train Loss: 0.34450 | Train Acc: 86.280\n",
            "\tEpoch 35 | Validation Loss: 0.3400049787759781 | Validation Acc: 86.820\n",
            "Epoch 036: | Train Loss: 0.34465 | Train Acc: 85.970\n",
            "\tEpoch 36 | Validation Loss: 0.34231854826211927 | Validation Acc: 86.320\n",
            "Epoch 037: | Train Loss: 0.34367 | Train Acc: 86.090\n",
            "\tEpoch 37 | Validation Loss: 0.3388194093108177 | Validation Acc: 86.200\n",
            "Epoch 038: | Train Loss: 0.34429 | Train Acc: 86.075\n",
            "\tEpoch 38 | Validation Loss: 0.33815217673778536 | Validation Acc: 86.900\n",
            "Epoch 039: | Train Loss: 0.34254 | Train Acc: 86.115\n",
            "\tEpoch 39 | Validation Loss: 0.3340996241569519 | Validation Acc: 86.100\n",
            "Epoch 040: | Train Loss: 0.34125 | Train Acc: 86.400\n",
            "\tEpoch 40 | Validation Loss: 0.3417146587371826 | Validation Acc: 86.520\n",
            "Epoch 041: | Train Loss: 0.34161 | Train Acc: 86.210\n",
            "\tEpoch 41 | Validation Loss: 0.33653860092163085 | Validation Acc: 86.320\n",
            "Epoch 042: | Train Loss: 0.34387 | Train Acc: 86.100\n",
            "\tEpoch 42 | Validation Loss: 0.33661536157131194 | Validation Acc: 86.100\n",
            "Epoch 043: | Train Loss: 0.34319 | Train Acc: 86.175\n",
            "\tEpoch 43 | Validation Loss: 0.33520195752382276 | Validation Acc: 86.420\n",
            "Epoch 044: | Train Loss: 0.34184 | Train Acc: 86.130\n",
            "\tEpoch 44 | Validation Loss: 0.3312031197547913 | Validation Acc: 86.560\n",
            "Epoch 045: | Train Loss: 0.34110 | Train Acc: 86.275\n",
            "\tEpoch 45 | Validation Loss: 0.34256081402301786 | Validation Acc: 86.180\n",
            "Epoch 046: | Train Loss: 0.34284 | Train Acc: 86.050\n",
            "\tEpoch 46 | Validation Loss: 0.3391219834983349 | Validation Acc: 86.040\n",
            "Epoch 047: | Train Loss: 0.34187 | Train Acc: 86.225\n",
            "\tEpoch 47 | Validation Loss: 0.3356882128119469 | Validation Acc: 86.240\n",
            "Epoch 048: | Train Loss: 0.34151 | Train Acc: 86.390\n",
            "\tEpoch 48 | Validation Loss: 0.3430743628740311 | Validation Acc: 85.780\n",
            "Epoch 049: | Train Loss: 0.34218 | Train Acc: 85.790\n",
            "\tEpoch 49 | Validation Loss: 0.3372507846355438 | Validation Acc: 86.580\n",
            "Epoch 050: | Train Loss: 0.34066 | Train Acc: 86.190\n",
            "\tEpoch 50 | Validation Loss: 0.3353144735097885 | Validation Acc: 86.400\n",
            "Epoch 051: | Train Loss: 0.34006 | Train Acc: 86.115\n",
            "\tEpoch 51 | Validation Loss: 0.3373615965247154 | Validation Acc: 86.380\n",
            "Epoch 052: | Train Loss: 0.33992 | Train Acc: 86.120\n",
            "\tEpoch 52 | Validation Loss: 0.3304636365175247 | Validation Acc: 86.620\n",
            "Epoch 053: | Train Loss: 0.34088 | Train Acc: 86.290\n",
            "\tEpoch 53 | Validation Loss: 0.33429478034377097 | Validation Acc: 86.500\n",
            "Epoch 054: | Train Loss: 0.34036 | Train Acc: 86.015\n",
            "\tEpoch 54 | Validation Loss: 0.33640261977910996 | Validation Acc: 86.660\n",
            "Epoch 055: | Train Loss: 0.33856 | Train Acc: 86.400\n",
            "\tEpoch 55 | Validation Loss: 0.33776003897190093 | Validation Acc: 86.800\n",
            "Epoch 056: | Train Loss: 0.33885 | Train Acc: 86.510\n",
            "\tEpoch 56 | Validation Loss: 0.3340715542435646 | Validation Acc: 86.420\n",
            "Epoch 057: | Train Loss: 0.33826 | Train Acc: 86.070\n",
            "\tEpoch 57 | Validation Loss: 0.33578585177659986 | Validation Acc: 86.580\n",
            "Epoch 058: | Train Loss: 0.34153 | Train Acc: 86.095\n",
            "\tEpoch 58 | Validation Loss: 0.3363328963518143 | Validation Acc: 85.540\n",
            "Epoch 059: | Train Loss: 0.33908 | Train Acc: 86.005\n",
            "\tEpoch 59 | Validation Loss: 0.33563810467720034 | Validation Acc: 85.920\n",
            "Epoch 060: | Train Loss: 0.33925 | Train Acc: 86.180\n",
            "\tEpoch 60 | Validation Loss: 0.33702884763479235 | Validation Acc: 86.540\n",
            "Epoch 061: | Train Loss: 0.33692 | Train Acc: 86.455\n",
            "\tEpoch 61 | Validation Loss: 0.3386510568857193 | Validation Acc: 85.920\n",
            "Epoch 062: | Train Loss: 0.33908 | Train Acc: 86.155\n",
            "\tEpoch 62 | Validation Loss: 0.3352977046370506 | Validation Acc: 86.700\n",
            "Epoch 063: | Train Loss: 0.33916 | Train Acc: 86.430\n",
            "\tEpoch 63 | Validation Loss: 0.33600478947162626 | Validation Acc: 85.960\n",
            "Epoch 064: | Train Loss: 0.33837 | Train Acc: 86.315\n",
            "\tEpoch 64 | Validation Loss: 0.3342441827058792 | Validation Acc: 86.900\n",
            "Epoch 065: | Train Loss: 0.33856 | Train Acc: 86.210\n",
            "\tEpoch 65 | Validation Loss: 0.33552693367004394 | Validation Acc: 86.320\n",
            "Epoch 066: | Train Loss: 0.33907 | Train Acc: 86.490\n",
            "\tEpoch 66 | Validation Loss: 0.3356487490236759 | Validation Acc: 86.560\n",
            "Epoch 067: | Train Loss: 0.33908 | Train Acc: 86.235\n",
            "\tEpoch 67 | Validation Loss: 0.3330243867635727 | Validation Acc: 86.000\n",
            "Epoch 068: | Train Loss: 0.33795 | Train Acc: 86.270\n",
            "\tEpoch 68 | Validation Loss: 0.3414022508263588 | Validation Acc: 86.420\n",
            "Epoch 069: | Train Loss: 0.33622 | Train Acc: 86.300\n",
            "\tEpoch 69 | Validation Loss: 0.34145221501588824 | Validation Acc: 86.720\n",
            "Epoch 070: | Train Loss: 0.33570 | Train Acc: 86.255\n",
            "\tEpoch 70 | Validation Loss: 0.3439009517431259 | Validation Acc: 86.760\n",
            "Epoch 071: | Train Loss: 0.33806 | Train Acc: 86.245\n",
            "\tEpoch 71 | Validation Loss: 0.3414291352033615 | Validation Acc: 86.020\n",
            "Epoch 072: | Train Loss: 0.34013 | Train Acc: 85.830\n",
            "\tEpoch 72 | Validation Loss: 0.33323130518198013 | Validation Acc: 86.700\n",
            "Epoch 073: | Train Loss: 0.33870 | Train Acc: 86.330\n",
            "\tEpoch 73 | Validation Loss: 0.3394638493657112 | Validation Acc: 86.080\n",
            "Epoch 074: | Train Loss: 0.33918 | Train Acc: 86.145\n",
            "\tEpoch 74 | Validation Loss: 0.3355655455589294 | Validation Acc: 86.340\n",
            "Epoch 075: | Train Loss: 0.33611 | Train Acc: 86.350\n",
            "\tEpoch 75 | Validation Loss: 0.3359592494368553 | Validation Acc: 86.800\n",
            "Epoch 076: | Train Loss: 0.33700 | Train Acc: 86.265\n",
            "\tEpoch 76 | Validation Loss: 0.33960440784692764 | Validation Acc: 86.020\n",
            "Epoch 077: | Train Loss: 0.33846 | Train Acc: 86.305\n",
            "\tEpoch 77 | Validation Loss: 0.3341362199187279 | Validation Acc: 86.980\n",
            "Epoch 078: | Train Loss: 0.33746 | Train Acc: 86.090\n",
            "\tEpoch 78 | Validation Loss: 0.3351403996348381 | Validation Acc: 86.460\n",
            "Epoch 079: | Train Loss: 0.33787 | Train Acc: 86.360\n",
            "\tEpoch 79 | Validation Loss: 0.33523120522499084 | Validation Acc: 86.340\n",
            "Epoch 080: | Train Loss: 0.33761 | Train Acc: 86.455\n",
            "\tEpoch 80 | Validation Loss: 0.33527239710092543 | Validation Acc: 86.080\n",
            "Epoch 081: | Train Loss: 0.33745 | Train Acc: 86.420\n",
            "\tEpoch 81 | Validation Loss: 0.3350831210613251 | Validation Acc: 86.140\n",
            "Epoch 082: | Train Loss: 0.33660 | Train Acc: 86.065\n",
            "\tEpoch 82 | Validation Loss: 0.34009418219327925 | Validation Acc: 86.060\n",
            "Epoch 083: | Train Loss: 0.33754 | Train Acc: 86.365\n",
            "\tEpoch 83 | Validation Loss: 0.33590120017528535 | Validation Acc: 86.560\n",
            "Epoch 084: | Train Loss: 0.33700 | Train Acc: 86.360\n",
            "\tEpoch 84 | Validation Loss: 0.3348539397120476 | Validation Acc: 85.840\n",
            "Epoch 085: | Train Loss: 0.33748 | Train Acc: 86.275\n",
            "\tEpoch 85 | Validation Loss: 0.3355612799525261 | Validation Acc: 86.380\n",
            "Epoch 086: | Train Loss: 0.33611 | Train Acc: 86.185\n",
            "\tEpoch 86 | Validation Loss: 0.3385895362496376 | Validation Acc: 86.620\n",
            "Epoch 087: | Train Loss: 0.33664 | Train Acc: 86.285\n",
            "\tEpoch 87 | Validation Loss: 0.3367479908466339 | Validation Acc: 85.840\n",
            "Epoch 088: | Train Loss: 0.33738 | Train Acc: 86.130\n",
            "\tEpoch 88 | Validation Loss: 0.3373489961028099 | Validation Acc: 86.300\n",
            "Epoch 089: | Train Loss: 0.33685 | Train Acc: 86.485\n",
            "\tEpoch 89 | Validation Loss: 0.33221067517995834 | Validation Acc: 86.160\n",
            "Epoch 090: | Train Loss: 0.33573 | Train Acc: 86.415\n",
            "\tEpoch 90 | Validation Loss: 0.3411509400606155 | Validation Acc: 86.520\n",
            "Epoch 091: | Train Loss: 0.33709 | Train Acc: 86.300\n",
            "\tEpoch 91 | Validation Loss: 0.337167934179306 | Validation Acc: 86.080\n",
            "Epoch 092: | Train Loss: 0.33643 | Train Acc: 86.320\n",
            "\tEpoch 92 | Validation Loss: 0.35022871181368825 | Validation Acc: 85.940\n",
            "Epoch 093: | Train Loss: 0.33664 | Train Acc: 86.220\n",
            "\tEpoch 93 | Validation Loss: 0.3359584078192711 | Validation Acc: 85.900\n",
            "Epoch 094: | Train Loss: 0.33649 | Train Acc: 86.380\n",
            "\tEpoch 94 | Validation Loss: 0.33730182409286497 | Validation Acc: 86.660\n",
            "Epoch 095: | Train Loss: 0.33691 | Train Acc: 86.310\n",
            "\tEpoch 95 | Validation Loss: 0.3361266773939133 | Validation Acc: 86.900\n",
            "Epoch 096: | Train Loss: 0.33663 | Train Acc: 86.195\n",
            "\tEpoch 96 | Validation Loss: 0.33331761494278905 | Validation Acc: 86.080\n",
            "Epoch 097: | Train Loss: 0.33659 | Train Acc: 86.210\n",
            "\tEpoch 97 | Validation Loss: 0.33776066720485687 | Validation Acc: 86.500\n",
            "Epoch 098: | Train Loss: 0.33943 | Train Acc: 86.015\n",
            "\tEpoch 98 | Validation Loss: 0.3339760518074036 | Validation Acc: 86.500\n",
            "Epoch 099: | Train Loss: 0.33587 | Train Acc: 86.100\n",
            "\tEpoch 99 | Validation Loss: 0.34429921001195907 | Validation Acc: 86.340\n",
            "Epoch 100: | Train Loss: 0.33529 | Train Acc: 86.295\n",
            "\tEpoch 100 | Validation Loss: 0.3356984385848045 | Validation Acc: 86.040\n"
          ]
        }
      ]
    },
    {
      "cell_type": "markdown",
      "source": [
        "# Evaluate the test set"
      ],
      "metadata": {
        "id": "3ML0mO5agDTn"
      }
    },
    {
      "cell_type": "code",
      "source": [
        "y_pred_list = []\n",
        "model.eval()\n",
        "with torch.no_grad():\n",
        "    for X_batch, y_batch in test_dl:\n",
        "        X_batch, y_batch = X_batch.to(device), y_batch.to(device)\n",
        "        y_test_pred = model(X_batch)\n",
        "        y_test_pred = torch.sigmoid(y_test_pred)\n",
        "        y_pred_tag = torch.round(y_test_pred)\n",
        "        y_pred_list.append(y_pred_tag.cpu().numpy())\n",
        "\n",
        "y_pred_list = [a.squeeze().tolist() for a in y_pred_list]"
      ],
      "metadata": {
        "id": "C-ej-RB8hpsg"
      },
      "execution_count": null,
      "outputs": []
    },
    {
      "cell_type": "code",
      "source": [
        "y_true = test_dataset.y"
      ],
      "metadata": {
        "id": "TyUtCa67hOxm"
      },
      "execution_count": null,
      "outputs": []
    },
    {
      "cell_type": "code",
      "source": [
        "print(classification_report(y_true, y_pred_list))"
      ],
      "metadata": {
        "colab": {
          "base_uri": "https://localhost:8080/"
        },
        "id": "-juaLlW9gmRa",
        "outputId": "018f5b68-fd2f-4168-db91-66262b3c79d1"
      },
      "execution_count": null,
      "outputs": [
        {
          "output_type": "stream",
          "name": "stdout",
          "text": [
            "              precision    recall  f1-score   support\n",
            "\n",
            "         0.0       0.88      0.97      0.92      1607\n",
            "         1.0       0.76      0.45      0.56       393\n",
            "\n",
            "    accuracy                           0.86      2000\n",
            "   macro avg       0.82      0.71      0.74      2000\n",
            "weighted avg       0.85      0.86      0.85      2000\n",
            "\n"
          ]
        }
      ]
    },
    {
      "cell_type": "code",
      "source": [
        ""
      ],
      "metadata": {
        "id": "A_28jKkehUJV"
      },
      "execution_count": null,
      "outputs": []
    }
  ]
}