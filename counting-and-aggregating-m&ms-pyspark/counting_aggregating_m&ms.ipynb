{
  "nbformat": 4,
  "nbformat_minor": 0,
  "metadata": {
    "colab": {
      "name": "counting_aggregating_m&ms.ipynb",
      "provenance": [],
      "mount_file_id": "1-1_SHQwYeDEuBE9afYWfz27-s8NmqdsK",
      "authorship_tag": "ABX9TyMnI0jVKyzqM/h080/4noOI"
    },
    "kernelspec": {
      "name": "python3",
      "display_name": "Python 3"
    },
    "language_info": {
      "name": "python"
    },
    "gpuClass": "standard"
  },
  "cells": [
    {
      "cell_type": "markdown",
      "source": [
        "# Setup & Import libraries"
      ],
      "metadata": {
        "id": "XnmBzxhp-juc"
      }
    },
    {
      "cell_type": "code",
      "source": [
        "!pip install pyspark -q"
      ],
      "metadata": {
        "colab": {
          "base_uri": "https://localhost:8080/"
        },
        "id": "JPcD1kLlAVE8",
        "outputId": "a521d175-7722-455c-a740-e08cd94c8d04"
      },
      "execution_count": 3,
      "outputs": [
        {
          "output_type": "stream",
          "name": "stdout",
          "text": [
            "\u001b[K     |████████████████████████████████| 281.3 MB 45 kB/s \n",
            "\u001b[K     |████████████████████████████████| 199 kB 56.6 MB/s \n",
            "\u001b[?25h  Building wheel for pyspark (setup.py) ... \u001b[?25l\u001b[?25hdone\n"
          ]
        }
      ]
    },
    {
      "cell_type": "code",
      "execution_count": 4,
      "metadata": {
        "id": "wwkiyTBR-WGd"
      },
      "outputs": [],
      "source": [
        "import sys\n",
        "\n",
        "from pyspark.sql import SparkSession\n",
        "from pyspark.sql.functions import count"
      ]
    },
    {
      "cell_type": "markdown",
      "source": [
        "# Build a Spark Session using SparkSession APIs."
      ],
      "metadata": {
        "id": "KCyAqd9KAlvI"
      }
    },
    {
      "cell_type": "code",
      "source": [
        "spark = (SparkSession.builder.appName(\"PythonMnMCount\").getOrCreate())"
      ],
      "metadata": {
        "id": "UY7R9ujk-zTP"
      },
      "execution_count": 5,
      "outputs": []
    },
    {
      "cell_type": "markdown",
      "source": [
        "# Load M&M dataset"
      ],
      "metadata": {
        "id": "V4rzDtnJBC7z"
      }
    },
    {
      "cell_type": "code",
      "source": [
        "dataset_path = \"mncount.csv\""
      ],
      "metadata": {
        "id": "tRz03pL3BAT_"
      },
      "execution_count": 10,
      "outputs": []
    },
    {
      "cell_type": "code",
      "source": [
        "mnm_df = (spark.read.format(\"csv\").option(\"header\", \"true\").option(\"inferSchema\", \"true\").load(dataset_path))"
      ],
      "metadata": {
        "id": "pYU8k5xCBTX9"
      },
      "execution_count": 11,
      "outputs": []
    },
    {
      "cell_type": "code",
      "source": [
        "mnm_df.show(5)"
      ],
      "metadata": {
        "colab": {
          "base_uri": "https://localhost:8080/"
        },
        "id": "zkjgj5PoBqNV",
        "outputId": "02715c01-0a13-4cf7-c0a3-6c2ad77257d4"
      },
      "execution_count": 13,
      "outputs": [
        {
          "output_type": "stream",
          "name": "stdout",
          "text": [
            "+-----+------+-----+\n",
            "|State| Color|Count|\n",
            "+-----+------+-----+\n",
            "|   TX|   Red|   20|\n",
            "|   NV|  Blue|   66|\n",
            "|   CO|  Blue|   79|\n",
            "|   OR|  Blue|   71|\n",
            "|   WA|Yellow|   93|\n",
            "+-----+------+-----+\n",
            "only showing top 5 rows\n",
            "\n"
          ]
        }
      ]
    },
    {
      "cell_type": "code",
      "source": [
        "mnm_df.limit(5).toPandas()"
      ],
      "metadata": {
        "colab": {
          "base_uri": "https://localhost:8080/",
          "height": 206
        },
        "id": "GU6gPN1WBrxM",
        "outputId": "6f4d9af5-4c71-4f65-8bbb-287a791a5a9f"
      },
      "execution_count": 14,
      "outputs": [
        {
          "output_type": "execute_result",
          "data": {
            "text/plain": [
              "  State   Color  Count\n",
              "0    TX     Red     20\n",
              "1    NV    Blue     66\n",
              "2    CO    Blue     79\n",
              "3    OR    Blue     71\n",
              "4    WA  Yellow     93"
            ],
            "text/html": [
              "\n",
              "  <div id=\"df-0201974b-8481-4949-8668-06b5a2a10b0a\">\n",
              "    <div class=\"colab-df-container\">\n",
              "      <div>\n",
              "<style scoped>\n",
              "    .dataframe tbody tr th:only-of-type {\n",
              "        vertical-align: middle;\n",
              "    }\n",
              "\n",
              "    .dataframe tbody tr th {\n",
              "        vertical-align: top;\n",
              "    }\n",
              "\n",
              "    .dataframe thead th {\n",
              "        text-align: right;\n",
              "    }\n",
              "</style>\n",
              "<table border=\"1\" class=\"dataframe\">\n",
              "  <thead>\n",
              "    <tr style=\"text-align: right;\">\n",
              "      <th></th>\n",
              "      <th>State</th>\n",
              "      <th>Color</th>\n",
              "      <th>Count</th>\n",
              "    </tr>\n",
              "  </thead>\n",
              "  <tbody>\n",
              "    <tr>\n",
              "      <th>0</th>\n",
              "      <td>TX</td>\n",
              "      <td>Red</td>\n",
              "      <td>20</td>\n",
              "    </tr>\n",
              "    <tr>\n",
              "      <th>1</th>\n",
              "      <td>NV</td>\n",
              "      <td>Blue</td>\n",
              "      <td>66</td>\n",
              "    </tr>\n",
              "    <tr>\n",
              "      <th>2</th>\n",
              "      <td>CO</td>\n",
              "      <td>Blue</td>\n",
              "      <td>79</td>\n",
              "    </tr>\n",
              "    <tr>\n",
              "      <th>3</th>\n",
              "      <td>OR</td>\n",
              "      <td>Blue</td>\n",
              "      <td>71</td>\n",
              "    </tr>\n",
              "    <tr>\n",
              "      <th>4</th>\n",
              "      <td>WA</td>\n",
              "      <td>Yellow</td>\n",
              "      <td>93</td>\n",
              "    </tr>\n",
              "  </tbody>\n",
              "</table>\n",
              "</div>\n",
              "      <button class=\"colab-df-convert\" onclick=\"convertToInteractive('df-0201974b-8481-4949-8668-06b5a2a10b0a')\"\n",
              "              title=\"Convert this dataframe to an interactive table.\"\n",
              "              style=\"display:none;\">\n",
              "        \n",
              "  <svg xmlns=\"http://www.w3.org/2000/svg\" height=\"24px\"viewBox=\"0 0 24 24\"\n",
              "       width=\"24px\">\n",
              "    <path d=\"M0 0h24v24H0V0z\" fill=\"none\"/>\n",
              "    <path d=\"M18.56 5.44l.94 2.06.94-2.06 2.06-.94-2.06-.94-.94-2.06-.94 2.06-2.06.94zm-11 1L8.5 8.5l.94-2.06 2.06-.94-2.06-.94L8.5 2.5l-.94 2.06-2.06.94zm10 10l.94 2.06.94-2.06 2.06-.94-2.06-.94-.94-2.06-.94 2.06-2.06.94z\"/><path d=\"M17.41 7.96l-1.37-1.37c-.4-.4-.92-.59-1.43-.59-.52 0-1.04.2-1.43.59L10.3 9.45l-7.72 7.72c-.78.78-.78 2.05 0 2.83L4 21.41c.39.39.9.59 1.41.59.51 0 1.02-.2 1.41-.59l7.78-7.78 2.81-2.81c.8-.78.8-2.07 0-2.86zM5.41 20L4 18.59l7.72-7.72 1.47 1.35L5.41 20z\"/>\n",
              "  </svg>\n",
              "      </button>\n",
              "      \n",
              "  <style>\n",
              "    .colab-df-container {\n",
              "      display:flex;\n",
              "      flex-wrap:wrap;\n",
              "      gap: 12px;\n",
              "    }\n",
              "\n",
              "    .colab-df-convert {\n",
              "      background-color: #E8F0FE;\n",
              "      border: none;\n",
              "      border-radius: 50%;\n",
              "      cursor: pointer;\n",
              "      display: none;\n",
              "      fill: #1967D2;\n",
              "      height: 32px;\n",
              "      padding: 0 0 0 0;\n",
              "      width: 32px;\n",
              "    }\n",
              "\n",
              "    .colab-df-convert:hover {\n",
              "      background-color: #E2EBFA;\n",
              "      box-shadow: 0px 1px 2px rgba(60, 64, 67, 0.3), 0px 1px 3px 1px rgba(60, 64, 67, 0.15);\n",
              "      fill: #174EA6;\n",
              "    }\n",
              "\n",
              "    [theme=dark] .colab-df-convert {\n",
              "      background-color: #3B4455;\n",
              "      fill: #D2E3FC;\n",
              "    }\n",
              "\n",
              "    [theme=dark] .colab-df-convert:hover {\n",
              "      background-color: #434B5C;\n",
              "      box-shadow: 0px 1px 3px 1px rgba(0, 0, 0, 0.15);\n",
              "      filter: drop-shadow(0px 1px 2px rgba(0, 0, 0, 0.3));\n",
              "      fill: #FFFFFF;\n",
              "    }\n",
              "  </style>\n",
              "\n",
              "      <script>\n",
              "        const buttonEl =\n",
              "          document.querySelector('#df-0201974b-8481-4949-8668-06b5a2a10b0a button.colab-df-convert');\n",
              "        buttonEl.style.display =\n",
              "          google.colab.kernel.accessAllowed ? 'block' : 'none';\n",
              "\n",
              "        async function convertToInteractive(key) {\n",
              "          const element = document.querySelector('#df-0201974b-8481-4949-8668-06b5a2a10b0a');\n",
              "          const dataTable =\n",
              "            await google.colab.kernel.invokeFunction('convertToInteractive',\n",
              "                                                     [key], {});\n",
              "          if (!dataTable) return;\n",
              "\n",
              "          const docLinkHtml = 'Like what you see? Visit the ' +\n",
              "            '<a target=\"_blank\" href=https://colab.research.google.com/notebooks/data_table.ipynb>data table notebook</a>'\n",
              "            + ' to learn more about interactive tables.';\n",
              "          element.innerHTML = '';\n",
              "          dataTable['output_type'] = 'display_data';\n",
              "          await google.colab.output.renderOutput(dataTable, element);\n",
              "          const docLink = document.createElement('div');\n",
              "          docLink.innerHTML = docLinkHtml;\n",
              "          element.appendChild(docLink);\n",
              "        }\n",
              "      </script>\n",
              "    </div>\n",
              "  </div>\n",
              "  "
            ]
          },
          "metadata": {},
          "execution_count": 14
        }
      ]
    },
    {
      "cell_type": "markdown",
      "source": [
        "# Group each state and M&M color count and Ordering in descending order"
      ],
      "metadata": {
        "id": "wtIo3pFHIfQV"
      }
    },
    {
      "cell_type": "code",
      "source": [
        "count_mnm_df = (mnm_df\n",
        "            .select(\"State\", \"Color\", \"Count\")\n",
        "            .groupBy(\"State\", \"Color\")\n",
        "            .agg(count(\"Count\").alias(\"Total\"))\n",
        "            .orderBy(\"Total\", ascending=False))"
      ],
      "metadata": {
        "id": "0lmaFgYHIY19"
      },
      "execution_count": 15,
      "outputs": []
    },
    {
      "cell_type": "code",
      "source": [
        "count_mnm_df.show(n=60, truncate=False)"
      ],
      "metadata": {
        "colab": {
          "base_uri": "https://localhost:8080/"
        },
        "id": "UTF9RzFGJRHr",
        "outputId": "c7fbc186-a439-4cb5-e95a-4a93bc3df835"
      },
      "execution_count": 17,
      "outputs": [
        {
          "output_type": "stream",
          "name": "stdout",
          "text": [
            "+-----+------+-----+\n",
            "|State|Color |Total|\n",
            "+-----+------+-----+\n",
            "|CA   |Yellow|1807 |\n",
            "|WA   |Green |1779 |\n",
            "|OR   |Orange|1743 |\n",
            "|TX   |Green |1737 |\n",
            "|TX   |Red   |1725 |\n",
            "|CA   |Green |1723 |\n",
            "|CO   |Yellow|1721 |\n",
            "|CA   |Brown |1718 |\n",
            "|CO   |Green |1713 |\n",
            "|NV   |Orange|1712 |\n",
            "|TX   |Yellow|1703 |\n",
            "|NV   |Green |1698 |\n",
            "|AZ   |Brown |1698 |\n",
            "|WY   |Green |1695 |\n",
            "|CO   |Blue  |1695 |\n",
            "|NM   |Red   |1690 |\n",
            "|AZ   |Orange|1689 |\n",
            "|NM   |Yellow|1688 |\n",
            "|NM   |Brown |1687 |\n",
            "|UT   |Orange|1684 |\n",
            "|NM   |Green |1682 |\n",
            "|UT   |Red   |1680 |\n",
            "|AZ   |Green |1676 |\n",
            "|NV   |Yellow|1675 |\n",
            "|NV   |Blue  |1673 |\n",
            "|WA   |Red   |1671 |\n",
            "|WY   |Red   |1670 |\n",
            "|WA   |Brown |1669 |\n",
            "|NM   |Orange|1665 |\n",
            "|WY   |Blue  |1664 |\n",
            "|WA   |Yellow|1663 |\n",
            "|WA   |Orange|1658 |\n",
            "|CA   |Orange|1657 |\n",
            "|NV   |Brown |1657 |\n",
            "|CA   |Red   |1656 |\n",
            "|CO   |Brown |1656 |\n",
            "|UT   |Blue  |1655 |\n",
            "|AZ   |Yellow|1654 |\n",
            "|TX   |Orange|1652 |\n",
            "|AZ   |Red   |1648 |\n",
            "|OR   |Blue  |1646 |\n",
            "|UT   |Yellow|1645 |\n",
            "|OR   |Red   |1645 |\n",
            "|CO   |Orange|1642 |\n",
            "|TX   |Brown |1641 |\n",
            "|NM   |Blue  |1638 |\n",
            "|AZ   |Blue  |1636 |\n",
            "|OR   |Green |1634 |\n",
            "|UT   |Brown |1631 |\n",
            "|WY   |Yellow|1626 |\n",
            "|WA   |Blue  |1625 |\n",
            "|CO   |Red   |1624 |\n",
            "|OR   |Brown |1621 |\n",
            "|TX   |Blue  |1614 |\n",
            "|OR   |Yellow|1614 |\n",
            "|NV   |Red   |1610 |\n",
            "|CA   |Blue  |1603 |\n",
            "|WY   |Orange|1595 |\n",
            "|UT   |Green |1591 |\n",
            "|WY   |Brown |1532 |\n",
            "+-----+------+-----+\n",
            "\n"
          ]
        }
      ]
    },
    {
      "cell_type": "code",
      "source": [
        "print(f\"Total Rows (state): {count_mnm_df.count()}\")"
      ],
      "metadata": {
        "colab": {
          "base_uri": "https://localhost:8080/"
        },
        "id": "sgaUhnq-JVYB",
        "outputId": "21835639-dcaf-44bb-9409-ea505e96e58a"
      },
      "execution_count": 20,
      "outputs": [
        {
          "output_type": "stream",
          "name": "stdout",
          "text": [
            "Total Rows (state): 60\n"
          ]
        }
      ]
    },
    {
      "cell_type": "markdown",
      "source": [
        "# Aggregate for a particular state, e.g. CA"
      ],
      "metadata": {
        "id": "aXCFeN6yJvcE"
      }
    },
    {
      "cell_type": "code",
      "source": [
        "ca_count_mnm_df = (mnm_df\n",
        "        .select(\"State\", \"Color\", \"Count\")\n",
        "        .where(mnm_df.State == \"CA\")\n",
        "        .groupBy(\"State\", \"Color\")\n",
        "        .agg(count(\"Count\").alias(\"Total\"))\n",
        "        .orderBy(\"Total\", ascending=False))"
      ],
      "metadata": {
        "id": "TLcC5iZQJmS9"
      },
      "execution_count": 21,
      "outputs": []
    },
    {
      "cell_type": "code",
      "source": [
        "ca_count_mnm_df.show(n=10, truncate=False)"
      ],
      "metadata": {
        "colab": {
          "base_uri": "https://localhost:8080/"
        },
        "id": "HUUUOHKMKfxa",
        "outputId": "abd08392-3380-46a2-909c-10067a4bdc36"
      },
      "execution_count": 23,
      "outputs": [
        {
          "output_type": "stream",
          "name": "stdout",
          "text": [
            "+-----+------+-----+\n",
            "|State|Color |Total|\n",
            "+-----+------+-----+\n",
            "|CA   |Yellow|1807 |\n",
            "|CA   |Green |1723 |\n",
            "|CA   |Brown |1718 |\n",
            "|CA   |Orange|1657 |\n",
            "|CA   |Red   |1656 |\n",
            "|CA   |Blue  |1603 |\n",
            "+-----+------+-----+\n",
            "\n"
          ]
        }
      ]
    },
    {
      "cell_type": "code",
      "source": [
        "spark.stop()"
      ],
      "metadata": {
        "id": "r_mr6NbzKhwK"
      },
      "execution_count": 24,
      "outputs": []
    }
  ]
}