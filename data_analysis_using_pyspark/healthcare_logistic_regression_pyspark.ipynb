{
  "nbformat": 4,
  "nbformat_minor": 0,
  "metadata": {
    "colab": {
      "name": "healthcare_logistic_regression_pyspark.ipynb",
      "provenance": [],
      "toc_visible": true,
      "mount_file_id": "1V488sN_F5gjpvQmXUAC8sLT8sYlOVp9b",
      "authorship_tag": "ABX9TyO03jD/UhwdBmSXddTPwID4"
    },
    "kernelspec": {
      "name": "python3",
      "display_name": "Python 3"
    },
    "language_info": {
      "name": "python"
    },
    "gpuClass": "standard"
  },
  "cells": [
    {
      "cell_type": "markdown",
      "source": [
        "# Setup & Import Libraries"
      ],
      "metadata": {
        "id": "wcwHxsgMXoNR"
      }
    },
    {
      "cell_type": "code",
      "source": [
        "!pip install pyspark -q"
      ],
      "metadata": {
        "colab": {
          "base_uri": "https://localhost:8080/"
        },
        "id": "nTRNvqqGX4-f",
        "outputId": "b5c16fd0-a52f-45b5-bbe2-6af42c159836"
      },
      "execution_count": 2,
      "outputs": [
        {
          "output_type": "stream",
          "name": "stdout",
          "text": [
            "\u001b[K     |████████████████████████████████| 281.3 MB 46 kB/s \n",
            "\u001b[K     |████████████████████████████████| 199 kB 53.1 MB/s \n",
            "\u001b[?25h  Building wheel for pyspark (setup.py) ... \u001b[?25l\u001b[?25hdone\n"
          ]
        }
      ]
    },
    {
      "cell_type": "code",
      "execution_count": 219,
      "metadata": {
        "id": "PekZTp36XgHN"
      },
      "outputs": [],
      "source": [
        "import pyspark.sql.functions as f\n",
        "import pyspark.sql.types as t\n",
        "import pyspark.sql.functions as f\n",
        "from pyspark.context import SparkContext\n",
        "from pyspark.sql.session import SparkSession\n",
        "import os\n",
        "\n",
        "from pyspark.ml  import Pipeline \n",
        "from pyspark.ml.classification import LogisticRegression\n",
        "from pyspark.ml.feature import StringIndexer, VectorAssembler\n",
        "from pyspark.ml.feature import StringIndexer, IndexToString\n",
        "from pyspark.ml.tuning import CrossValidator, ParamGridBuilder, TrainValidationSplit\n",
        "from pyspark.ml.evaluation import MulticlassClassificationEvaluator\n",
        "from pyspark.mllib.evaluation import BinaryClassificationMetrics as metric\n",
        "\n",
        "from sklearn.metrics import roc_curve, auc\n",
        "\n",
        "import seaborn as sns\n",
        "import matplotlib.pyplot as plt\n",
        "%matplotlib inline"
      ]
    },
    {
      "cell_type": "markdown",
      "source": [
        "# Load data"
      ],
      "metadata": {
        "id": "lP1R1Jt_Y8VS"
      }
    },
    {
      "cell_type": "code",
      "source": [
        "# sc = SparkContext('local')\n",
        "spark = SparkSession.builder.appName(\"Play with Pyspark\").getOrCreate()"
      ],
      "metadata": {
        "id": "wHtOLlZJZvlr"
      },
      "execution_count": 87,
      "outputs": []
    },
    {
      "cell_type": "code",
      "source": [
        "data_path = \"data/data.csv\"\n",
        "data = spark.read.format(\"csv\").load(data_path, header=True, ferSchema='True')"
      ],
      "metadata": {
        "id": "atq3HJMRY9yx"
      },
      "execution_count": 88,
      "outputs": []
    },
    {
      "cell_type": "code",
      "source": [
        "display(data)"
      ],
      "metadata": {
        "colab": {
          "base_uri": "https://localhost:8080/",
          "height": 86
        },
        "id": "4NQrxY0WZi7c",
        "outputId": "32243374-01f4-466b-94ba-d76bb0f0f7c8"
      },
      "execution_count": 89,
      "outputs": [
        {
          "output_type": "display_data",
          "data": {
            "text/plain": [
              "DataFrame[age: string, anaemia: string, creatinine_phosphokinase: string, diabetes: string, ejection_fraction: string, high_blood_pressure: string, platelets: string, serum_creatinine: string, serum_sodium: string, sex: string, smoking: string, time: string, DEATH_EVENT: string]"
            ]
          },
          "metadata": {}
        }
      ]
    },
    {
      "cell_type": "code",
      "source": [
        "data.show(5)"
      ],
      "metadata": {
        "colab": {
          "base_uri": "https://localhost:8080/"
        },
        "id": "F3cei6BSZ5Bu",
        "outputId": "9bdb427c-3612-4ec5-e9e8-7ede1b711c7e"
      },
      "execution_count": 90,
      "outputs": [
        {
          "output_type": "stream",
          "name": "stdout",
          "text": [
            "+---+-------+------------------------+--------+-----------------+-------------------+---------+----------------+------------+---+-------+----+-----------+\n",
            "|age|anaemia|creatinine_phosphokinase|diabetes|ejection_fraction|high_blood_pressure|platelets|serum_creatinine|serum_sodium|sex|smoking|time|DEATH_EVENT|\n",
            "+---+-------+------------------------+--------+-----------------+-------------------+---------+----------------+------------+---+-------+----+-----------+\n",
            "| 75|      0|                     582|       0|               20|                  1|   265000|             1.9|         130|  1|      0|   4|          1|\n",
            "| 55|      0|                    7861|       0|               38|                  0|263358.03|             1.1|         136|  1|      0|   6|          1|\n",
            "| 65|      0|                     146|       0|               20|                  0|   162000|             1.3|         129|  1|      1|   7|          1|\n",
            "| 50|      1|                     111|       0|               20|                  0|   210000|             1.9|         137|  1|      0|   7|          1|\n",
            "| 65|      1|                     160|       1|               20|                  0|   327000|             2.7|         116|  0|      0|   8|          1|\n",
            "+---+-------+------------------------+--------+-----------------+-------------------+---------+----------------+------------+---+-------+----+-----------+\n",
            "only showing top 5 rows\n",
            "\n"
          ]
        }
      ]
    },
    {
      "cell_type": "markdown",
      "source": [
        "# Data Overview"
      ],
      "metadata": {
        "id": "riBJhW26buqA"
      }
    },
    {
      "cell_type": "code",
      "source": [
        "data.limit(3).toPandas()"
      ],
      "metadata": {
        "colab": {
          "base_uri": "https://localhost:8080/",
          "height": 207
        },
        "id": "yRfwIfXWgWU8",
        "outputId": "e72bab4b-2eb4-48d0-b0ac-c3a1123d96f0"
      },
      "execution_count": 86,
      "outputs": [
        {
          "output_type": "execute_result",
          "data": {
            "text/plain": [
              "  age anaemia creatinine_phosphokinase diabetes ejection_fraction  \\\n",
              "0  75       0                      582        0                20   \n",
              "1  55       0                     7861        0                38   \n",
              "2  65       0                      146        0                20   \n",
              "\n",
              "  high_blood_pressure  platelets serum_creatinine serum_sodium sex smoking  \\\n",
              "0                   1     265000              1.9          130   1       0   \n",
              "1                   0  263358.03              1.1          136   1       0   \n",
              "2                   0     162000              1.3          129   1       1   \n",
              "\n",
              "  time DEATH_EVENT  \n",
              "0    4           1  \n",
              "1    6           1  \n",
              "2    7           1  "
            ],
            "text/html": [
              "\n",
              "  <div id=\"df-a8e59aa5-7b52-46d2-9d29-5def2e14815f\">\n",
              "    <div class=\"colab-df-container\">\n",
              "      <div>\n",
              "<style scoped>\n",
              "    .dataframe tbody tr th:only-of-type {\n",
              "        vertical-align: middle;\n",
              "    }\n",
              "\n",
              "    .dataframe tbody tr th {\n",
              "        vertical-align: top;\n",
              "    }\n",
              "\n",
              "    .dataframe thead th {\n",
              "        text-align: right;\n",
              "    }\n",
              "</style>\n",
              "<table border=\"1\" class=\"dataframe\">\n",
              "  <thead>\n",
              "    <tr style=\"text-align: right;\">\n",
              "      <th></th>\n",
              "      <th>age</th>\n",
              "      <th>anaemia</th>\n",
              "      <th>creatinine_phosphokinase</th>\n",
              "      <th>diabetes</th>\n",
              "      <th>ejection_fraction</th>\n",
              "      <th>high_blood_pressure</th>\n",
              "      <th>platelets</th>\n",
              "      <th>serum_creatinine</th>\n",
              "      <th>serum_sodium</th>\n",
              "      <th>sex</th>\n",
              "      <th>smoking</th>\n",
              "      <th>time</th>\n",
              "      <th>DEATH_EVENT</th>\n",
              "    </tr>\n",
              "  </thead>\n",
              "  <tbody>\n",
              "    <tr>\n",
              "      <th>0</th>\n",
              "      <td>75</td>\n",
              "      <td>0</td>\n",
              "      <td>582</td>\n",
              "      <td>0</td>\n",
              "      <td>20</td>\n",
              "      <td>1</td>\n",
              "      <td>265000</td>\n",
              "      <td>1.9</td>\n",
              "      <td>130</td>\n",
              "      <td>1</td>\n",
              "      <td>0</td>\n",
              "      <td>4</td>\n",
              "      <td>1</td>\n",
              "    </tr>\n",
              "    <tr>\n",
              "      <th>1</th>\n",
              "      <td>55</td>\n",
              "      <td>0</td>\n",
              "      <td>7861</td>\n",
              "      <td>0</td>\n",
              "      <td>38</td>\n",
              "      <td>0</td>\n",
              "      <td>263358.03</td>\n",
              "      <td>1.1</td>\n",
              "      <td>136</td>\n",
              "      <td>1</td>\n",
              "      <td>0</td>\n",
              "      <td>6</td>\n",
              "      <td>1</td>\n",
              "    </tr>\n",
              "    <tr>\n",
              "      <th>2</th>\n",
              "      <td>65</td>\n",
              "      <td>0</td>\n",
              "      <td>146</td>\n",
              "      <td>0</td>\n",
              "      <td>20</td>\n",
              "      <td>0</td>\n",
              "      <td>162000</td>\n",
              "      <td>1.3</td>\n",
              "      <td>129</td>\n",
              "      <td>1</td>\n",
              "      <td>1</td>\n",
              "      <td>7</td>\n",
              "      <td>1</td>\n",
              "    </tr>\n",
              "  </tbody>\n",
              "</table>\n",
              "</div>\n",
              "      <button class=\"colab-df-convert\" onclick=\"convertToInteractive('df-a8e59aa5-7b52-46d2-9d29-5def2e14815f')\"\n",
              "              title=\"Convert this dataframe to an interactive table.\"\n",
              "              style=\"display:none;\">\n",
              "        \n",
              "  <svg xmlns=\"http://www.w3.org/2000/svg\" height=\"24px\"viewBox=\"0 0 24 24\"\n",
              "       width=\"24px\">\n",
              "    <path d=\"M0 0h24v24H0V0z\" fill=\"none\"/>\n",
              "    <path d=\"M18.56 5.44l.94 2.06.94-2.06 2.06-.94-2.06-.94-.94-2.06-.94 2.06-2.06.94zm-11 1L8.5 8.5l.94-2.06 2.06-.94-2.06-.94L8.5 2.5l-.94 2.06-2.06.94zm10 10l.94 2.06.94-2.06 2.06-.94-2.06-.94-.94-2.06-.94 2.06-2.06.94z\"/><path d=\"M17.41 7.96l-1.37-1.37c-.4-.4-.92-.59-1.43-.59-.52 0-1.04.2-1.43.59L10.3 9.45l-7.72 7.72c-.78.78-.78 2.05 0 2.83L4 21.41c.39.39.9.59 1.41.59.51 0 1.02-.2 1.41-.59l7.78-7.78 2.81-2.81c.8-.78.8-2.07 0-2.86zM5.41 20L4 18.59l7.72-7.72 1.47 1.35L5.41 20z\"/>\n",
              "  </svg>\n",
              "      </button>\n",
              "      \n",
              "  <style>\n",
              "    .colab-df-container {\n",
              "      display:flex;\n",
              "      flex-wrap:wrap;\n",
              "      gap: 12px;\n",
              "    }\n",
              "\n",
              "    .colab-df-convert {\n",
              "      background-color: #E8F0FE;\n",
              "      border: none;\n",
              "      border-radius: 50%;\n",
              "      cursor: pointer;\n",
              "      display: none;\n",
              "      fill: #1967D2;\n",
              "      height: 32px;\n",
              "      padding: 0 0 0 0;\n",
              "      width: 32px;\n",
              "    }\n",
              "\n",
              "    .colab-df-convert:hover {\n",
              "      background-color: #E2EBFA;\n",
              "      box-shadow: 0px 1px 2px rgba(60, 64, 67, 0.3), 0px 1px 3px 1px rgba(60, 64, 67, 0.15);\n",
              "      fill: #174EA6;\n",
              "    }\n",
              "\n",
              "    [theme=dark] .colab-df-convert {\n",
              "      background-color: #3B4455;\n",
              "      fill: #D2E3FC;\n",
              "    }\n",
              "\n",
              "    [theme=dark] .colab-df-convert:hover {\n",
              "      background-color: #434B5C;\n",
              "      box-shadow: 0px 1px 3px 1px rgba(0, 0, 0, 0.15);\n",
              "      filter: drop-shadow(0px 1px 2px rgba(0, 0, 0, 0.3));\n",
              "      fill: #FFFFFF;\n",
              "    }\n",
              "  </style>\n",
              "\n",
              "      <script>\n",
              "        const buttonEl =\n",
              "          document.querySelector('#df-a8e59aa5-7b52-46d2-9d29-5def2e14815f button.colab-df-convert');\n",
              "        buttonEl.style.display =\n",
              "          google.colab.kernel.accessAllowed ? 'block' : 'none';\n",
              "\n",
              "        async function convertToInteractive(key) {\n",
              "          const element = document.querySelector('#df-a8e59aa5-7b52-46d2-9d29-5def2e14815f');\n",
              "          const dataTable =\n",
              "            await google.colab.kernel.invokeFunction('convertToInteractive',\n",
              "                                                     [key], {});\n",
              "          if (!dataTable) return;\n",
              "\n",
              "          const docLinkHtml = 'Like what you see? Visit the ' +\n",
              "            '<a target=\"_blank\" href=https://colab.research.google.com/notebooks/data_table.ipynb>data table notebook</a>'\n",
              "            + ' to learn more about interactive tables.';\n",
              "          element.innerHTML = '';\n",
              "          dataTable['output_type'] = 'display_data';\n",
              "          await google.colab.output.renderOutput(dataTable, element);\n",
              "          const docLink = document.createElement('div');\n",
              "          docLink.innerHTML = docLinkHtml;\n",
              "          element.appendChild(docLink);\n",
              "        }\n",
              "      </script>\n",
              "    </div>\n",
              "  </div>\n",
              "  "
            ]
          },
          "metadata": {},
          "execution_count": 86
        }
      ]
    },
    {
      "cell_type": "code",
      "source": [
        "data.printSchema()"
      ],
      "metadata": {
        "colab": {
          "base_uri": "https://localhost:8080/"
        },
        "id": "1XYSGOBuZ9M8",
        "outputId": "e76ed6b1-db48-4b5f-bbbb-2e75c7001b1e"
      },
      "execution_count": 91,
      "outputs": [
        {
          "output_type": "stream",
          "name": "stdout",
          "text": [
            "root\n",
            " |-- age: string (nullable = true)\n",
            " |-- anaemia: string (nullable = true)\n",
            " |-- creatinine_phosphokinase: string (nullable = true)\n",
            " |-- diabetes: string (nullable = true)\n",
            " |-- ejection_fraction: string (nullable = true)\n",
            " |-- high_blood_pressure: string (nullable = true)\n",
            " |-- platelets: string (nullable = true)\n",
            " |-- serum_creatinine: string (nullable = true)\n",
            " |-- serum_sodium: string (nullable = true)\n",
            " |-- sex: string (nullable = true)\n",
            " |-- smoking: string (nullable = true)\n",
            " |-- time: string (nullable = true)\n",
            " |-- DEATH_EVENT: string (nullable = true)\n",
            "\n"
          ]
        }
      ]
    },
    {
      "cell_type": "code",
      "source": [
        "selected_data = data.selectExpr(\"time as Time\", \"age as Age\", \"sex as Sex\",\n",
        "                                \"smoking as Smoking\")\n",
        "\n",
        "display(selected_data)"
      ],
      "metadata": {
        "colab": {
          "base_uri": "https://localhost:8080/",
          "height": 34
        },
        "id": "DjreI5uUbz3b",
        "outputId": "30b01510-6de5-406a-a32f-42e7195486bc"
      },
      "execution_count": 34,
      "outputs": [
        {
          "output_type": "display_data",
          "data": {
            "text/plain": [
              "DataFrame[Time: string, Age: string, Sex: string, Smoking: string]"
            ]
          },
          "metadata": {}
        }
      ]
    },
    {
      "cell_type": "code",
      "source": [
        "data.count()"
      ],
      "metadata": {
        "colab": {
          "base_uri": "https://localhost:8080/"
        },
        "id": "7qRDo842cjPm",
        "outputId": "e63ac2a7-0061-4ac0-b387-ecc9ad78c488"
      },
      "execution_count": 35,
      "outputs": [
        {
          "output_type": "execute_result",
          "data": {
            "text/plain": [
              "299"
            ]
          },
          "metadata": {},
          "execution_count": 35
        }
      ]
    },
    {
      "cell_type": "code",
      "source": [
        "selected_data.select(\"Age\").count()"
      ],
      "metadata": {
        "colab": {
          "base_uri": "https://localhost:8080/"
        },
        "id": "RO-lszAQdKQ8",
        "outputId": "2f9150f2-f6a9-4cd8-d2f1-dae492f26873"
      },
      "execution_count": 36,
      "outputs": [
        {
          "output_type": "execute_result",
          "data": {
            "text/plain": [
              "299"
            ]
          },
          "metadata": {},
          "execution_count": 36
        }
      ]
    },
    {
      "cell_type": "code",
      "source": [
        "selected_data.select(\"Age\").distinct().count()"
      ],
      "metadata": {
        "colab": {
          "base_uri": "https://localhost:8080/"
        },
        "id": "smjBOTg-dSqf",
        "outputId": "01eb32ee-4a5b-4045-c3ac-de228f3c3e7f"
      },
      "execution_count": 37,
      "outputs": [
        {
          "output_type": "execute_result",
          "data": {
            "text/plain": [
              "47"
            ]
          },
          "metadata": {},
          "execution_count": 37
        }
      ]
    },
    {
      "cell_type": "code",
      "source": [
        "selected_data.select(\"Age\").distinct().show(10)"
      ],
      "metadata": {
        "colab": {
          "base_uri": "https://localhost:8080/"
        },
        "id": "-9WCB0PCdsb3",
        "outputId": "ed69867d-7523-474a-ef90-a5fa811d7430"
      },
      "execution_count": 38,
      "outputs": [
        {
          "output_type": "stream",
          "name": "stdout",
          "text": [
            "+---+\n",
            "|Age|\n",
            "+---+\n",
            "| 51|\n",
            "| 54|\n",
            "| 69|\n",
            "| 42|\n",
            "| 87|\n",
            "| 73|\n",
            "| 64|\n",
            "| 59|\n",
            "| 85|\n",
            "| 52|\n",
            "+---+\n",
            "only showing top 10 rows\n",
            "\n"
          ]
        }
      ]
    },
    {
      "cell_type": "code",
      "source": [
        "display(selected_data.select(\"Smoking\").distinct().show(5))"
      ],
      "metadata": {
        "colab": {
          "base_uri": "https://localhost:8080/",
          "height": 156
        },
        "id": "dYqGcvzEdbiD",
        "outputId": "13f76758-f536-4eca-d46d-4c2848818d7a"
      },
      "execution_count": 24,
      "outputs": [
        {
          "output_type": "stream",
          "name": "stdout",
          "text": [
            "+-------+\n",
            "|Smoking|\n",
            "+-------+\n",
            "|      0|\n",
            "|      1|\n",
            "+-------+\n",
            "\n"
          ]
        },
        {
          "output_type": "display_data",
          "data": {
            "text/plain": [
              "None"
            ]
          },
          "metadata": {}
        }
      ]
    },
    {
      "cell_type": "code",
      "source": [
        "display(selected_data.filter(\"Smoking == 1\").show(5))"
      ],
      "metadata": {
        "colab": {
          "base_uri": "https://localhost:8080/",
          "height": 225
        },
        "id": "FHOlOiK5dhUh",
        "outputId": "0a74d7d5-18c9-42b5-f1ad-0178dea5e4fe"
      },
      "execution_count": 42,
      "outputs": [
        {
          "output_type": "stream",
          "name": "stdout",
          "text": [
            "+----+---+---+-------+\n",
            "|Time|Age|Sex|Smoking|\n",
            "+----+---+---+-------+\n",
            "|   7| 65|  1|      1|\n",
            "|   8| 90|  1|      1|\n",
            "|  10| 60|  1|      1|\n",
            "|  10| 80|  1|      1|\n",
            "|  10| 75|  1|      1|\n",
            "+----+---+---+-------+\n",
            "only showing top 5 rows\n",
            "\n"
          ]
        },
        {
          "output_type": "display_data",
          "data": {
            "text/plain": [
              "None"
            ]
          },
          "metadata": {}
        }
      ]
    },
    {
      "cell_type": "code",
      "source": [
        "selected_data.filter(\"Smoking == 1\").count()"
      ],
      "metadata": {
        "colab": {
          "base_uri": "https://localhost:8080/"
        },
        "id": "pC4FHbHleIbB",
        "outputId": "1338d280-4d1d-4a85-8f19-3127b6d0f935"
      },
      "execution_count": 29,
      "outputs": [
        {
          "output_type": "execute_result",
          "data": {
            "text/plain": [
              "96"
            ]
          },
          "metadata": {},
          "execution_count": 29
        }
      ]
    },
    {
      "cell_type": "code",
      "source": [
        "selected_data.filter(\"Smoking == 0\").count()"
      ],
      "metadata": {
        "colab": {
          "base_uri": "https://localhost:8080/"
        },
        "id": "l1UK3qJneQXi",
        "outputId": "4e1faec4-b0e9-4411-acc7-4abc25109103"
      },
      "execution_count": 30,
      "outputs": [
        {
          "output_type": "execute_result",
          "data": {
            "text/plain": [
              "203"
            ]
          },
          "metadata": {},
          "execution_count": 30
        }
      ]
    },
    {
      "cell_type": "code",
      "source": [
        "num_females = selected_data.filter(\"Sex == 0\").count()\n",
        "num_males = selected_data.filter(\"Sex == 1\").count()"
      ],
      "metadata": {
        "id": "WPtQSTwleTfg"
      },
      "execution_count": 49,
      "outputs": []
    },
    {
      "cell_type": "code",
      "source": [
        "num_females_smoking = selected_data.filter(\"Sex == 0\").filter(\"Smoking == 1\").count()\n",
        "num_males_smoking = selected_data.filter(\"Sex == 1\").filter(\"Smoking == 1\").count()"
      ],
      "metadata": {
        "id": "B1thnsM8euy9"
      },
      "execution_count": 50,
      "outputs": []
    },
    {
      "cell_type": "code",
      "source": [
        "print(f\"Percentage of woman smokin: {num_females_smoking*100/num_females:.2f}\")\n",
        "print(f\"Percentage of men smoking: {num_males_smoking*100/num_males:.2f}\")"
      ],
      "metadata": {
        "colab": {
          "base_uri": "https://localhost:8080/"
        },
        "id": "A96y3A8-e8di",
        "outputId": "39a96a47-d85b-43c0-b95e-7ac99a5d0e5b"
      },
      "execution_count": 51,
      "outputs": [
        {
          "output_type": "stream",
          "name": "stdout",
          "text": [
            "Percentage of woman smokin: 3.81\n",
            "Percentage of men smoking: 47.42\n"
          ]
        }
      ]
    },
    {
      "cell_type": "markdown",
      "source": [
        "# Exploratory Data Analsysis"
      ],
      "metadata": {
        "id": "GYVjZ9dogiC_"
      }
    },
    {
      "cell_type": "code",
      "source": [
        "sns.set(rc={'figure.figsize':(10, 5)})"
      ],
      "metadata": {
        "id": "8Kj6mbjmiCxQ"
      },
      "execution_count": 76,
      "outputs": []
    },
    {
      "cell_type": "code",
      "source": [
        "df_pandas = data.toPandas()\n",
        "\n",
        "# fig = plt.figure(figsize=(10, 5))\n",
        "sns.displot(df_pandas[\"age\"]);\n",
        "plt.title(\"Age distribution among all Peoples\")"
      ],
      "metadata": {
        "colab": {
          "base_uri": "https://localhost:8080/",
          "height": 398
        },
        "id": "2XuO9_hagqY9",
        "outputId": "b0d6e22c-2eef-4674-f0cc-e509a3a51901"
      },
      "execution_count": 77,
      "outputs": [
        {
          "output_type": "execute_result",
          "data": {
            "text/plain": [
              "Text(0.5, 1.0, 'Age distribution among all Peoples')"
            ]
          },
          "metadata": {},
          "execution_count": 77
        },
        {
          "output_type": "display_data",
          "data": {
            "text/plain": [
              "<Figure size 360x360 with 1 Axes>"
            ],
            "image/png": "[encoded data removed]"
          },
          "metadata": {}
        }
      ]
    },
    {
      "cell_type": "code",
      "source": [
        "\n",
        "sns.displot(df_pandas[\"smoking\"]);\n",
        "plt.title(\"Smoking distribution among all Peoples\")"
      ],
      "metadata": {
        "colab": {
          "base_uri": "https://localhost:8080/",
          "height": 398
        },
        "id": "4s0TtRheizob",
        "outputId": "380a30f6-e310-489f-fd03-7c8108f8cf51"
      },
      "execution_count": 79,
      "outputs": [
        {
          "output_type": "execute_result",
          "data": {
            "text/plain": [
              "Text(0.5, 1.0, 'Age distribution among all Peoples')"
            ]
          },
          "metadata": {},
          "execution_count": 79
        },
        {
          "output_type": "display_data",
          "data": {
            "text/plain": [
              "<Figure size 360x360 with 1 Axes>"
            ],
            "image/png": "[encoded data removed]"
          },
          "metadata": {}
        }
      ]
    },
    {
      "cell_type": "markdown",
      "source": [
        "**Checking for Missin Values**"
      ],
      "metadata": {
        "id": "R2CRuKmJirCI"
      }
    },
    {
      "cell_type": "code",
      "source": [
        "data.select([f.count(f.when(f.isnan(c) | f.col(c).isNull(), c)).alias(c) for c in data.columns]).show()"
      ],
      "metadata": {
        "colab": {
          "base_uri": "https://localhost:8080/"
        },
        "id": "hZpaYPsyhN3x",
        "outputId": "e9a170bb-4122-450c-947d-015d74c1eb86"
      },
      "execution_count": 81,
      "outputs": [
        {
          "output_type": "stream",
          "name": "stdout",
          "text": [
            "+---+-------+------------------------+--------+-----------------+-------------------+---------+----------------+------------+---+-------+----+-----------+\n",
            "|age|anaemia|creatinine_phosphokinase|diabetes|ejection_fraction|high_blood_pressure|platelets|serum_creatinine|serum_sodium|sex|smoking|time|DEATH_EVENT|\n",
            "+---+-------+------------------------+--------+-----------------+-------------------+---------+----------------+------------+---+-------+----+-----------+\n",
            "|  0|      0|                       0|       0|                0|                  0|        0|               0|           0|  0|      0|   0|          0|\n",
            "+---+-------+------------------------+--------+-----------------+-------------------+---------+----------------+------------+---+-------+----+-----------+\n",
            "\n"
          ]
        }
      ]
    },
    {
      "cell_type": "markdown",
      "source": [
        "# Machine Learning in PySpark"
      ],
      "metadata": {
        "id": "_oAN9oNWltgH"
      }
    },
    {
      "cell_type": "markdown",
      "source": [
        "**Split up into train and test**"
      ],
      "metadata": {
        "id": "KxThNpBcm1dS"
      }
    },
    {
      "cell_type": "code",
      "source": [
        "stringIndexer = StringIndexer(inputCol='sex', outputCol='sex_new')\n",
        "# Applying stringindexer object on dataframe movie title column\n",
        "model = stringIndexer.fit(data)\n",
        "#creating new dataframe with transformed values\n",
        "indexed = model.transform(data)\n",
        "#validate the numerical title values\n",
        "indexed.limit(5).toPandas()"
      ],
      "metadata": {
        "colab": {
          "base_uri": "https://localhost:8080/",
          "height": 270
        },
        "id": "YMZR66FHoHuG",
        "outputId": "960a4a83-cc50-456f-9682-75d048149dc3"
      },
      "execution_count": 97,
      "outputs": [
        {
          "output_type": "execute_result",
          "data": {
            "text/plain": [
              "  age anaemia creatinine_phosphokinase diabetes ejection_fraction  \\\n",
              "0  75       0                      582        0                20   \n",
              "1  55       0                     7861        0                38   \n",
              "2  65       0                      146        0                20   \n",
              "3  50       1                      111        0                20   \n",
              "4  65       1                      160        1                20   \n",
              "\n",
              "  high_blood_pressure  platelets serum_creatinine serum_sodium sex smoking  \\\n",
              "0                   1     265000              1.9          130   1       0   \n",
              "1                   0  263358.03              1.1          136   1       0   \n",
              "2                   0     162000              1.3          129   1       1   \n",
              "3                   0     210000              1.9          137   1       0   \n",
              "4                   0     327000              2.7          116   0       0   \n",
              "\n",
              "  time DEATH_EVENT  sex_new  \n",
              "0    4           1      0.0  \n",
              "1    6           1      0.0  \n",
              "2    7           1      0.0  \n",
              "3    7           1      0.0  \n",
              "4    8           1      1.0  "
            ],
            "text/html": [
              "\n",
              "  <div id=\"df-35a3873f-62b3-4309-b17b-7bc1e5f056ff\">\n",
              "    <div class=\"colab-df-container\">\n",
              "      <div>\n",
              "<style scoped>\n",
              "    .dataframe tbody tr th:only-of-type {\n",
              "        vertical-align: middle;\n",
              "    }\n",
              "\n",
              "    .dataframe tbody tr th {\n",
              "        vertical-align: top;\n",
              "    }\n",
              "\n",
              "    .dataframe thead th {\n",
              "        text-align: right;\n",
              "    }\n",
              "</style>\n",
              "<table border=\"1\" class=\"dataframe\">\n",
              "  <thead>\n",
              "    <tr style=\"text-align: right;\">\n",
              "      <th></th>\n",
              "      <th>age</th>\n",
              "      <th>anaemia</th>\n",
              "      <th>creatinine_phosphokinase</th>\n",
              "      <th>diabetes</th>\n",
              "      <th>ejection_fraction</th>\n",
              "      <th>high_blood_pressure</th>\n",
              "      <th>platelets</th>\n",
              "      <th>serum_creatinine</th>\n",
              "      <th>serum_sodium</th>\n",
              "      <th>sex</th>\n",
              "      <th>smoking</th>\n",
              "      <th>time</th>\n",
              "      <th>DEATH_EVENT</th>\n",
              "      <th>sex_new</th>\n",
              "    </tr>\n",
              "  </thead>\n",
              "  <tbody>\n",
              "    <tr>\n",
              "      <th>0</th>\n",
              "      <td>75</td>\n",
              "      <td>0</td>\n",
              "      <td>582</td>\n",
              "      <td>0</td>\n",
              "      <td>20</td>\n",
              "      <td>1</td>\n",
              "      <td>265000</td>\n",
              "      <td>1.9</td>\n",
              "      <td>130</td>\n",
              "      <td>1</td>\n",
              "      <td>0</td>\n",
              "      <td>4</td>\n",
              "      <td>1</td>\n",
              "      <td>0.0</td>\n",
              "    </tr>\n",
              "    <tr>\n",
              "      <th>1</th>\n",
              "      <td>55</td>\n",
              "      <td>0</td>\n",
              "      <td>7861</td>\n",
              "      <td>0</td>\n",
              "      <td>38</td>\n",
              "      <td>0</td>\n",
              "      <td>263358.03</td>\n",
              "      <td>1.1</td>\n",
              "      <td>136</td>\n",
              "      <td>1</td>\n",
              "      <td>0</td>\n",
              "      <td>6</td>\n",
              "      <td>1</td>\n",
              "      <td>0.0</td>\n",
              "    </tr>\n",
              "    <tr>\n",
              "      <th>2</th>\n",
              "      <td>65</td>\n",
              "      <td>0</td>\n",
              "      <td>146</td>\n",
              "      <td>0</td>\n",
              "      <td>20</td>\n",
              "      <td>0</td>\n",
              "      <td>162000</td>\n",
              "      <td>1.3</td>\n",
              "      <td>129</td>\n",
              "      <td>1</td>\n",
              "      <td>1</td>\n",
              "      <td>7</td>\n",
              "      <td>1</td>\n",
              "      <td>0.0</td>\n",
              "    </tr>\n",
              "    <tr>\n",
              "      <th>3</th>\n",
              "      <td>50</td>\n",
              "      <td>1</td>\n",
              "      <td>111</td>\n",
              "      <td>0</td>\n",
              "      <td>20</td>\n",
              "      <td>0</td>\n",
              "      <td>210000</td>\n",
              "      <td>1.9</td>\n",
              "      <td>137</td>\n",
              "      <td>1</td>\n",
              "      <td>0</td>\n",
              "      <td>7</td>\n",
              "      <td>1</td>\n",
              "      <td>0.0</td>\n",
              "    </tr>\n",
              "    <tr>\n",
              "      <th>4</th>\n",
              "      <td>65</td>\n",
              "      <td>1</td>\n",
              "      <td>160</td>\n",
              "      <td>1</td>\n",
              "      <td>20</td>\n",
              "      <td>0</td>\n",
              "      <td>327000</td>\n",
              "      <td>2.7</td>\n",
              "      <td>116</td>\n",
              "      <td>0</td>\n",
              "      <td>0</td>\n",
              "      <td>8</td>\n",
              "      <td>1</td>\n",
              "      <td>1.0</td>\n",
              "    </tr>\n",
              "  </tbody>\n",
              "</table>\n",
              "</div>\n",
              "      <button class=\"colab-df-convert\" onclick=\"convertToInteractive('df-35a3873f-62b3-4309-b17b-7bc1e5f056ff')\"\n",
              "              title=\"Convert this dataframe to an interactive table.\"\n",
              "              style=\"display:none;\">\n",
              "        \n",
              "  <svg xmlns=\"http://www.w3.org/2000/svg\" height=\"24px\"viewBox=\"0 0 24 24\"\n",
              "       width=\"24px\">\n",
              "    <path d=\"M0 0h24v24H0V0z\" fill=\"none\"/>\n",
              "    <path d=\"M18.56 5.44l.94 2.06.94-2.06 2.06-.94-2.06-.94-.94-2.06-.94 2.06-2.06.94zm-11 1L8.5 8.5l.94-2.06 2.06-.94-2.06-.94L8.5 2.5l-.94 2.06-2.06.94zm10 10l.94 2.06.94-2.06 2.06-.94-2.06-.94-.94-2.06-.94 2.06-2.06.94z\"/><path d=\"M17.41 7.96l-1.37-1.37c-.4-.4-.92-.59-1.43-.59-.52 0-1.04.2-1.43.59L10.3 9.45l-7.72 7.72c-.78.78-.78 2.05 0 2.83L4 21.41c.39.39.9.59 1.41.59.51 0 1.02-.2 1.41-.59l7.78-7.78 2.81-2.81c.8-.78.8-2.07 0-2.86zM5.41 20L4 18.59l7.72-7.72 1.47 1.35L5.41 20z\"/>\n",
              "  </svg>\n",
              "      </button>\n",
              "      \n",
              "  <style>\n",
              "    .colab-df-container {\n",
              "      display:flex;\n",
              "      flex-wrap:wrap;\n",
              "      gap: 12px;\n",
              "    }\n",
              "\n",
              "    .colab-df-convert {\n",
              "      background-color: #E8F0FE;\n",
              "      border: none;\n",
              "      border-radius: 50%;\n",
              "      cursor: pointer;\n",
              "      display: none;\n",
              "      fill: #1967D2;\n",
              "      height: 32px;\n",
              "      padding: 0 0 0 0;\n",
              "      width: 32px;\n",
              "    }\n",
              "\n",
              "    .colab-df-convert:hover {\n",
              "      background-color: #E2EBFA;\n",
              "      box-shadow: 0px 1px 2px rgba(60, 64, 67, 0.3), 0px 1px 3px 1px rgba(60, 64, 67, 0.15);\n",
              "      fill: #174EA6;\n",
              "    }\n",
              "\n",
              "    [theme=dark] .colab-df-convert {\n",
              "      background-color: #3B4455;\n",
              "      fill: #D2E3FC;\n",
              "    }\n",
              "\n",
              "    [theme=dark] .colab-df-convert:hover {\n",
              "      background-color: #434B5C;\n",
              "      box-shadow: 0px 1px 3px 1px rgba(0, 0, 0, 0.15);\n",
              "      filter: drop-shadow(0px 1px 2px rgba(0, 0, 0, 0.3));\n",
              "      fill: #FFFFFF;\n",
              "    }\n",
              "  </style>\n",
              "\n",
              "      <script>\n",
              "        const buttonEl =\n",
              "          document.querySelector('#df-35a3873f-62b3-4309-b17b-7bc1e5f056ff button.colab-df-convert');\n",
              "        buttonEl.style.display =\n",
              "          google.colab.kernel.accessAllowed ? 'block' : 'none';\n",
              "\n",
              "        async function convertToInteractive(key) {\n",
              "          const element = document.querySelector('#df-35a3873f-62b3-4309-b17b-7bc1e5f056ff');\n",
              "          const dataTable =\n",
              "            await google.colab.kernel.invokeFunction('convertToInteractive',\n",
              "                                                     [key], {});\n",
              "          if (!dataTable) return;\n",
              "\n",
              "          const docLinkHtml = 'Like what you see? Visit the ' +\n",
              "            '<a target=\"_blank\" href=https://colab.research.google.com/notebooks/data_table.ipynb>data table notebook</a>'\n",
              "            + ' to learn more about interactive tables.';\n",
              "          element.innerHTML = '';\n",
              "          dataTable['output_type'] = 'display_data';\n",
              "          await google.colab.output.renderOutput(dataTable, element);\n",
              "          const docLink = document.createElement('div');\n",
              "          docLink.innerHTML = docLinkHtml;\n",
              "          element.appendChild(docLink);\n",
              "        }\n",
              "      </script>\n",
              "    </div>\n",
              "  </div>\n",
              "  "
            ]
          },
          "metadata": {},
          "execution_count": 97
        }
      ]
    },
    {
      "cell_type": "code",
      "source": [
        "indexers = [StringIndexer(inputCol=column, outputCol=column+\"_index\").fit(data) for column in [\"smoking\", \"age\",\"anaemia\",\"creatinine_phosphokinase\",\n",
        "                                                                                            \"diabetes\", \"ejection_fraction\", \"high_blood_pressure\",\n",
        "                                                                                             \"platelets\", \"serum_sodium\", \"serum_creatinine\", \"sex\",\n",
        "                                                                                              \"time\", \"DEATH_EVENT\"]]\n",
        "pipeline = Pipeline(stages=indexers)"
      ],
      "metadata": {
        "id": "3--wxT6wnt-l"
      },
      "execution_count": 195,
      "outputs": []
    },
    {
      "cell_type": "code",
      "source": [
        "df = pipeline.fit(data).transform(data)\n",
        "\n",
        "df.limit(3).toPandas()"
      ],
      "metadata": {
        "colab": {
          "base_uri": "https://localhost:8080/",
          "height": 237
        },
        "id": "tcw_CznXtfFk",
        "outputId": "e4fdd48a-47a4-4164-e35e-e4dc6eff5a10"
      },
      "execution_count": 196,
      "outputs": [
        {
          "output_type": "execute_result",
          "data": {
            "text/plain": [
              "  age anaemia creatinine_phosphokinase diabetes ejection_fraction  \\\n",
              "0  75       0                      582        0                20   \n",
              "1  55       0                     7861        0                38   \n",
              "2  65       0                      146        0                20   \n",
              "\n",
              "  high_blood_pressure  platelets serum_creatinine serum_sodium sex  ...  \\\n",
              "0                   1     265000              1.9          130   1  ...   \n",
              "1                   0  263358.03              1.1          136   1  ...   \n",
              "2                   0     162000              1.3          129   1  ...   \n",
              "\n",
              "  creatinine_phosphokinase_index diabetes_index ejection_fraction_index  \\\n",
              "0                            0.0            0.0                     8.0   \n",
              "1                          186.0            0.0                     1.0   \n",
              "2                           61.0            0.0                     8.0   \n",
              "\n",
              "   high_blood_pressure_index  platelets_index  serum_sodium_index  \\\n",
              "0                        1.0             21.0                11.0   \n",
              "1                        0.0              0.0                 0.0   \n",
              "2                        0.0             31.0                18.0   \n",
              "\n",
              "   serum_creatinine_index  sex_index  time_index  DEATH_EVENT_index  \n",
              "0                    13.0        0.0       125.0                1.0  \n",
              "1                     2.0        0.0       134.0                1.0  \n",
              "2                     5.0        0.0        62.0                1.0  \n",
              "\n",
              "[3 rows x 26 columns]"
            ],
            "text/html": [
              "\n",
              "  <div id=\"df-dfad3c2c-236e-4775-b14a-7f592590b2a4\">\n",
              "    <div class=\"colab-df-container\">\n",
              "      <div>\n",
              "<style scoped>\n",
              "    .dataframe tbody tr th:only-of-type {\n",
              "        vertical-align: middle;\n",
              "    }\n",
              "\n",
              "    .dataframe tbody tr th {\n",
              "        vertical-align: top;\n",
              "    }\n",
              "\n",
              "    .dataframe thead th {\n",
              "        text-align: right;\n",
              "    }\n",
              "</style>\n",
              "<table border=\"1\" class=\"dataframe\">\n",
              "  <thead>\n",
              "    <tr style=\"text-align: right;\">\n",
              "      <th></th>\n",
              "      <th>age</th>\n",
              "      <th>anaemia</th>\n",
              "      <th>creatinine_phosphokinase</th>\n",
              "      <th>diabetes</th>\n",
              "      <th>ejection_fraction</th>\n",
              "      <th>high_blood_pressure</th>\n",
              "      <th>platelets</th>\n",
              "      <th>serum_creatinine</th>\n",
              "      <th>serum_sodium</th>\n",
              "      <th>sex</th>\n",
              "      <th>...</th>\n",
              "      <th>creatinine_phosphokinase_index</th>\n",
              "      <th>diabetes_index</th>\n",
              "      <th>ejection_fraction_index</th>\n",
              "      <th>high_blood_pressure_index</th>\n",
              "      <th>platelets_index</th>\n",
              "      <th>serum_sodium_index</th>\n",
              "      <th>serum_creatinine_index</th>\n",
              "      <th>sex_index</th>\n",
              "      <th>time_index</th>\n",
              "      <th>DEATH_EVENT_index</th>\n",
              "    </tr>\n",
              "  </thead>\n",
              "  <tbody>\n",
              "    <tr>\n",
              "      <th>0</th>\n",
              "      <td>75</td>\n",
              "      <td>0</td>\n",
              "      <td>582</td>\n",
              "      <td>0</td>\n",
              "      <td>20</td>\n",
              "      <td>1</td>\n",
              "      <td>265000</td>\n",
              "      <td>1.9</td>\n",
              "      <td>130</td>\n",
              "      <td>1</td>\n",
              "      <td>...</td>\n",
              "      <td>0.0</td>\n",
              "      <td>0.0</td>\n",
              "      <td>8.0</td>\n",
              "      <td>1.0</td>\n",
              "      <td>21.0</td>\n",
              "      <td>11.0</td>\n",
              "      <td>13.0</td>\n",
              "      <td>0.0</td>\n",
              "      <td>125.0</td>\n",
              "      <td>1.0</td>\n",
              "    </tr>\n",
              "    <tr>\n",
              "      <th>1</th>\n",
              "      <td>55</td>\n",
              "      <td>0</td>\n",
              "      <td>7861</td>\n",
              "      <td>0</td>\n",
              "      <td>38</td>\n",
              "      <td>0</td>\n",
              "      <td>263358.03</td>\n",
              "      <td>1.1</td>\n",
              "      <td>136</td>\n",
              "      <td>1</td>\n",
              "      <td>...</td>\n",
              "      <td>186.0</td>\n",
              "      <td>0.0</td>\n",
              "      <td>1.0</td>\n",
              "      <td>0.0</td>\n",
              "      <td>0.0</td>\n",
              "      <td>0.0</td>\n",
              "      <td>2.0</td>\n",
              "      <td>0.0</td>\n",
              "      <td>134.0</td>\n",
              "      <td>1.0</td>\n",
              "    </tr>\n",
              "    <tr>\n",
              "      <th>2</th>\n",
              "      <td>65</td>\n",
              "      <td>0</td>\n",
              "      <td>146</td>\n",
              "      <td>0</td>\n",
              "      <td>20</td>\n",
              "      <td>0</td>\n",
              "      <td>162000</td>\n",
              "      <td>1.3</td>\n",
              "      <td>129</td>\n",
              "      <td>1</td>\n",
              "      <td>...</td>\n",
              "      <td>61.0</td>\n",
              "      <td>0.0</td>\n",
              "      <td>8.0</td>\n",
              "      <td>0.0</td>\n",
              "      <td>31.0</td>\n",
              "      <td>18.0</td>\n",
              "      <td>5.0</td>\n",
              "      <td>0.0</td>\n",
              "      <td>62.0</td>\n",
              "      <td>1.0</td>\n",
              "    </tr>\n",
              "  </tbody>\n",
              "</table>\n",
              "<p>3 rows × 26 columns</p>\n",
              "</div>\n",
              "      <button class=\"colab-df-convert\" onclick=\"convertToInteractive('df-dfad3c2c-236e-4775-b14a-7f592590b2a4')\"\n",
              "              title=\"Convert this dataframe to an interactive table.\"\n",
              "              style=\"display:none;\">\n",
              "        \n",
              "  <svg xmlns=\"http://www.w3.org/2000/svg\" height=\"24px\"viewBox=\"0 0 24 24\"\n",
              "       width=\"24px\">\n",
              "    <path d=\"M0 0h24v24H0V0z\" fill=\"none\"/>\n",
              "    <path d=\"M18.56 5.44l.94 2.06.94-2.06 2.06-.94-2.06-.94-.94-2.06-.94 2.06-2.06.94zm-11 1L8.5 8.5l.94-2.06 2.06-.94-2.06-.94L8.5 2.5l-.94 2.06-2.06.94zm10 10l.94 2.06.94-2.06 2.06-.94-2.06-.94-.94-2.06-.94 2.06-2.06.94z\"/><path d=\"M17.41 7.96l-1.37-1.37c-.4-.4-.92-.59-1.43-.59-.52 0-1.04.2-1.43.59L10.3 9.45l-7.72 7.72c-.78.78-.78 2.05 0 2.83L4 21.41c.39.39.9.59 1.41.59.51 0 1.02-.2 1.41-.59l7.78-7.78 2.81-2.81c.8-.78.8-2.07 0-2.86zM5.41 20L4 18.59l7.72-7.72 1.47 1.35L5.41 20z\"/>\n",
              "  </svg>\n",
              "      </button>\n",
              "      \n",
              "  <style>\n",
              "    .colab-df-container {\n",
              "      display:flex;\n",
              "      flex-wrap:wrap;\n",
              "      gap: 12px;\n",
              "    }\n",
              "\n",
              "    .colab-df-convert {\n",
              "      background-color: #E8F0FE;\n",
              "      border: none;\n",
              "      border-radius: 50%;\n",
              "      cursor: pointer;\n",
              "      display: none;\n",
              "      fill: #1967D2;\n",
              "      height: 32px;\n",
              "      padding: 0 0 0 0;\n",
              "      width: 32px;\n",
              "    }\n",
              "\n",
              "    .colab-df-convert:hover {\n",
              "      background-color: #E2EBFA;\n",
              "      box-shadow: 0px 1px 2px rgba(60, 64, 67, 0.3), 0px 1px 3px 1px rgba(60, 64, 67, 0.15);\n",
              "      fill: #174EA6;\n",
              "    }\n",
              "\n",
              "    [theme=dark] .colab-df-convert {\n",
              "      background-color: #3B4455;\n",
              "      fill: #D2E3FC;\n",
              "    }\n",
              "\n",
              "    [theme=dark] .colab-df-convert:hover {\n",
              "      background-color: #434B5C;\n",
              "      box-shadow: 0px 1px 3px 1px rgba(0, 0, 0, 0.15);\n",
              "      filter: drop-shadow(0px 1px 2px rgba(0, 0, 0, 0.3));\n",
              "      fill: #FFFFFF;\n",
              "    }\n",
              "  </style>\n",
              "\n",
              "      <script>\n",
              "        const buttonEl =\n",
              "          document.querySelector('#df-dfad3c2c-236e-4775-b14a-7f592590b2a4 button.colab-df-convert');\n",
              "        buttonEl.style.display =\n",
              "          google.colab.kernel.accessAllowed ? 'block' : 'none';\n",
              "\n",
              "        async function convertToInteractive(key) {\n",
              "          const element = document.querySelector('#df-dfad3c2c-236e-4775-b14a-7f592590b2a4');\n",
              "          const dataTable =\n",
              "            await google.colab.kernel.invokeFunction('convertToInteractive',\n",
              "                                                     [key], {});\n",
              "          if (!dataTable) return;\n",
              "\n",
              "          const docLinkHtml = 'Like what you see? Visit the ' +\n",
              "            '<a target=\"_blank\" href=https://colab.research.google.com/notebooks/data_table.ipynb>data table notebook</a>'\n",
              "            + ' to learn more about interactive tables.';\n",
              "          element.innerHTML = '';\n",
              "          dataTable['output_type'] = 'display_data';\n",
              "          await google.colab.output.renderOutput(dataTable, element);\n",
              "          const docLink = document.createElement('div');\n",
              "          docLink.innerHTML = docLinkHtml;\n",
              "          element.appendChild(docLink);\n",
              "        }\n",
              "      </script>\n",
              "    </div>\n",
              "  </div>\n",
              "  "
            ]
          },
          "metadata": {},
          "execution_count": 196
        }
      ]
    },
    {
      "cell_type": "code",
      "source": [
        "df.printSchema()"
      ],
      "metadata": {
        "colab": {
          "base_uri": "https://localhost:8080/"
        },
        "id": "d7TFSY1MuLsM",
        "outputId": "68e9bd02-15e1-4075-df5c-b36f29b76e78"
      },
      "execution_count": 197,
      "outputs": [
        {
          "output_type": "stream",
          "name": "stdout",
          "text": [
            "root\n",
            " |-- age: string (nullable = true)\n",
            " |-- anaemia: string (nullable = true)\n",
            " |-- creatinine_phosphokinase: string (nullable = true)\n",
            " |-- diabetes: string (nullable = true)\n",
            " |-- ejection_fraction: string (nullable = true)\n",
            " |-- high_blood_pressure: string (nullable = true)\n",
            " |-- platelets: string (nullable = true)\n",
            " |-- serum_creatinine: string (nullable = true)\n",
            " |-- serum_sodium: string (nullable = true)\n",
            " |-- sex: string (nullable = true)\n",
            " |-- smoking: string (nullable = true)\n",
            " |-- time: string (nullable = true)\n",
            " |-- DEATH_EVENT: string (nullable = true)\n",
            " |-- smoking_index: double (nullable = false)\n",
            " |-- age_index: double (nullable = false)\n",
            " |-- anaemia_index: double (nullable = false)\n",
            " |-- creatinine_phosphokinase_index: double (nullable = false)\n",
            " |-- diabetes_index: double (nullable = false)\n",
            " |-- ejection_fraction_index: double (nullable = false)\n",
            " |-- high_blood_pressure_index: double (nullable = false)\n",
            " |-- platelets_index: double (nullable = false)\n",
            " |-- serum_sodium_index: double (nullable = false)\n",
            " |-- serum_creatinine_index: double (nullable = false)\n",
            " |-- sex_index: double (nullable = false)\n",
            " |-- time_index: double (nullable = false)\n",
            " |-- DEATH_EVENT_index: double (nullable = false)\n",
            "\n"
          ]
        }
      ]
    },
    {
      "cell_type": "markdown",
      "source": [
        "## Feature Engineering"
      ],
      "metadata": {
        "id": "ngp9Bd9Zw4yC"
      }
    },
    {
      "cell_type": "code",
      "source": [
        "df = df.drop(\"age\",\"anaemia\",\"creatinine_phosphokinase\", \"diabetes\", \n",
        "             \"ejection_fraction\", \"high_blood_pressure\", \"platelets\", \n",
        "             \"serum_sodium\", \"serum_creatinine\", \"sex\", \"smoking\", \n",
        "             \"time\", \"DEATH_EVENT\")"
      ],
      "metadata": {
        "id": "EQkNGe9lusRe"
      },
      "execution_count": 198,
      "outputs": []
    },
    {
      "cell_type": "code",
      "source": [
        "df.printSchema()"
      ],
      "metadata": {
        "colab": {
          "base_uri": "https://localhost:8080/"
        },
        "id": "ifs0gtt6vA3E",
        "outputId": "a3fffce8-a172-4184-b5eb-312557683be8"
      },
      "execution_count": 199,
      "outputs": [
        {
          "output_type": "stream",
          "name": "stdout",
          "text": [
            "root\n",
            " |-- smoking_index: double (nullable = false)\n",
            " |-- age_index: double (nullable = false)\n",
            " |-- anaemia_index: double (nullable = false)\n",
            " |-- creatinine_phosphokinase_index: double (nullable = false)\n",
            " |-- diabetes_index: double (nullable = false)\n",
            " |-- ejection_fraction_index: double (nullable = false)\n",
            " |-- high_blood_pressure_index: double (nullable = false)\n",
            " |-- platelets_index: double (nullable = false)\n",
            " |-- serum_sodium_index: double (nullable = false)\n",
            " |-- serum_creatinine_index: double (nullable = false)\n",
            " |-- sex_index: double (nullable = false)\n",
            " |-- time_index: double (nullable = false)\n",
            " |-- DEATH_EVENT_index: double (nullable = false)\n",
            "\n"
          ]
        }
      ]
    },
    {
      "cell_type": "code",
      "source": [
        "feature = VectorAssembler(inputCols = df.columns[1:],outputCol=\"features\")\n",
        "feature_vector= feature.transform(df)\n",
        "feature_vector.limit(3).toPandas()"
      ],
      "metadata": {
        "colab": {
          "base_uri": "https://localhost:8080/",
          "height": 416
        },
        "id": "TuoOcnj3rv3M",
        "outputId": "0fc0c543-5c69-4dea-b3dd-e715428350f2"
      },
      "execution_count": 200,
      "outputs": [
        {
          "output_type": "execute_result",
          "data": {
            "text/plain": [
              "   smoking_index  age_index  anaemia_index  creatinine_phosphokinase_index  \\\n",
              "0            0.0        6.0            0.0                             0.0   \n",
              "1            0.0        5.0            0.0                           186.0   \n",
              "2            1.0        2.0            0.0                            61.0   \n",
              "\n",
              "   diabetes_index  ejection_fraction_index  high_blood_pressure_index  \\\n",
              "0             0.0                      8.0                        1.0   \n",
              "1             0.0                      1.0                        0.0   \n",
              "2             0.0                      8.0                        0.0   \n",
              "\n",
              "   platelets_index  serum_sodium_index  serum_creatinine_index  sex_index  \\\n",
              "0             21.0                11.0                    13.0        0.0   \n",
              "1              0.0                 0.0                     2.0        0.0   \n",
              "2             31.0                18.0                     5.0        0.0   \n",
              "\n",
              "   time_index  DEATH_EVENT_index  \\\n",
              "0       125.0                1.0   \n",
              "1       134.0                1.0   \n",
              "2        62.0                1.0   \n",
              "\n",
              "                                            features  \n",
              "0  [6.0, 0.0, 0.0, 0.0, 8.0, 1.0, 21.0, 11.0, 13....  \n",
              "1  (5.0, 0.0, 186.0, 0.0, 1.0, 0.0, 0.0, 0.0, 2.0...  \n",
              "2  [2.0, 0.0, 61.0, 0.0, 8.0, 0.0, 31.0, 18.0, 5....  "
            ],
            "text/html": [
              "\n",
              "  <div id=\"df-3321b0a5-78c4-4b26-bf9f-0eb5a8802e0b\">\n",
              "    <div class=\"colab-df-container\">\n",
              "      <div>\n",
              "<style scoped>\n",
              "    .dataframe tbody tr th:only-of-type {\n",
              "        vertical-align: middle;\n",
              "    }\n",
              "\n",
              "    .dataframe tbody tr th {\n",
              "        vertical-align: top;\n",
              "    }\n",
              "\n",
              "    .dataframe thead th {\n",
              "        text-align: right;\n",
              "    }\n",
              "</style>\n",
              "<table border=\"1\" class=\"dataframe\">\n",
              "  <thead>\n",
              "    <tr style=\"text-align: right;\">\n",
              "      <th></th>\n",
              "      <th>smoking_index</th>\n",
              "      <th>age_index</th>\n",
              "      <th>anaemia_index</th>\n",
              "      <th>creatinine_phosphokinase_index</th>\n",
              "      <th>diabetes_index</th>\n",
              "      <th>ejection_fraction_index</th>\n",
              "      <th>high_blood_pressure_index</th>\n",
              "      <th>platelets_index</th>\n",
              "      <th>serum_sodium_index</th>\n",
              "      <th>serum_creatinine_index</th>\n",
              "      <th>sex_index</th>\n",
              "      <th>time_index</th>\n",
              "      <th>DEATH_EVENT_index</th>\n",
              "      <th>features</th>\n",
              "    </tr>\n",
              "  </thead>\n",
              "  <tbody>\n",
              "    <tr>\n",
              "      <th>0</th>\n",
              "      <td>0.0</td>\n",
              "      <td>6.0</td>\n",
              "      <td>0.0</td>\n",
              "      <td>0.0</td>\n",
              "      <td>0.0</td>\n",
              "      <td>8.0</td>\n",
              "      <td>1.0</td>\n",
              "      <td>21.0</td>\n",
              "      <td>11.0</td>\n",
              "      <td>13.0</td>\n",
              "      <td>0.0</td>\n",
              "      <td>125.0</td>\n",
              "      <td>1.0</td>\n",
              "      <td>[6.0, 0.0, 0.0, 0.0, 8.0, 1.0, 21.0, 11.0, 13....</td>\n",
              "    </tr>\n",
              "    <tr>\n",
              "      <th>1</th>\n",
              "      <td>0.0</td>\n",
              "      <td>5.0</td>\n",
              "      <td>0.0</td>\n",
              "      <td>186.0</td>\n",
              "      <td>0.0</td>\n",
              "      <td>1.0</td>\n",
              "      <td>0.0</td>\n",
              "      <td>0.0</td>\n",
              "      <td>0.0</td>\n",
              "      <td>2.0</td>\n",
              "      <td>0.0</td>\n",
              "      <td>134.0</td>\n",
              "      <td>1.0</td>\n",
              "      <td>(5.0, 0.0, 186.0, 0.0, 1.0, 0.0, 0.0, 0.0, 2.0...</td>\n",
              "    </tr>\n",
              "    <tr>\n",
              "      <th>2</th>\n",
              "      <td>1.0</td>\n",
              "      <td>2.0</td>\n",
              "      <td>0.0</td>\n",
              "      <td>61.0</td>\n",
              "      <td>0.0</td>\n",
              "      <td>8.0</td>\n",
              "      <td>0.0</td>\n",
              "      <td>31.0</td>\n",
              "      <td>18.0</td>\n",
              "      <td>5.0</td>\n",
              "      <td>0.0</td>\n",
              "      <td>62.0</td>\n",
              "      <td>1.0</td>\n",
              "      <td>[2.0, 0.0, 61.0, 0.0, 8.0, 0.0, 31.0, 18.0, 5....</td>\n",
              "    </tr>\n",
              "  </tbody>\n",
              "</table>\n",
              "</div>\n",
              "      <button class=\"colab-df-convert\" onclick=\"convertToInteractive('df-3321b0a5-78c4-4b26-bf9f-0eb5a8802e0b')\"\n",
              "              title=\"Convert this dataframe to an interactive table.\"\n",
              "              style=\"display:none;\">\n",
              "        \n",
              "  <svg xmlns=\"http://www.w3.org/2000/svg\" height=\"24px\"viewBox=\"0 0 24 24\"\n",
              "       width=\"24px\">\n",
              "    <path d=\"M0 0h24v24H0V0z\" fill=\"none\"/>\n",
              "    <path d=\"M18.56 5.44l.94 2.06.94-2.06 2.06-.94-2.06-.94-.94-2.06-.94 2.06-2.06.94zm-11 1L8.5 8.5l.94-2.06 2.06-.94-2.06-.94L8.5 2.5l-.94 2.06-2.06.94zm10 10l.94 2.06.94-2.06 2.06-.94-2.06-.94-.94-2.06-.94 2.06-2.06.94z\"/><path d=\"M17.41 7.96l-1.37-1.37c-.4-.4-.92-.59-1.43-.59-.52 0-1.04.2-1.43.59L10.3 9.45l-7.72 7.72c-.78.78-.78 2.05 0 2.83L4 21.41c.39.39.9.59 1.41.59.51 0 1.02-.2 1.41-.59l7.78-7.78 2.81-2.81c.8-.78.8-2.07 0-2.86zM5.41 20L4 18.59l7.72-7.72 1.47 1.35L5.41 20z\"/>\n",
              "  </svg>\n",
              "      </button>\n",
              "      \n",
              "  <style>\n",
              "    .colab-df-container {\n",
              "      display:flex;\n",
              "      flex-wrap:wrap;\n",
              "      gap: 12px;\n",
              "    }\n",
              "\n",
              "    .colab-df-convert {\n",
              "      background-color: #E8F0FE;\n",
              "      border: none;\n",
              "      border-radius: 50%;\n",
              "      cursor: pointer;\n",
              "      display: none;\n",
              "      fill: #1967D2;\n",
              "      height: 32px;\n",
              "      padding: 0 0 0 0;\n",
              "      width: 32px;\n",
              "    }\n",
              "\n",
              "    .colab-df-convert:hover {\n",
              "      background-color: #E2EBFA;\n",
              "      box-shadow: 0px 1px 2px rgba(60, 64, 67, 0.3), 0px 1px 3px 1px rgba(60, 64, 67, 0.15);\n",
              "      fill: #174EA6;\n",
              "    }\n",
              "\n",
              "    [theme=dark] .colab-df-convert {\n",
              "      background-color: #3B4455;\n",
              "      fill: #D2E3FC;\n",
              "    }\n",
              "\n",
              "    [theme=dark] .colab-df-convert:hover {\n",
              "      background-color: #434B5C;\n",
              "      box-shadow: 0px 1px 3px 1px rgba(0, 0, 0, 0.15);\n",
              "      filter: drop-shadow(0px 1px 2px rgba(0, 0, 0, 0.3));\n",
              "      fill: #FFFFFF;\n",
              "    }\n",
              "  </style>\n",
              "\n",
              "      <script>\n",
              "        const buttonEl =\n",
              "          document.querySelector('#df-3321b0a5-78c4-4b26-bf9f-0eb5a8802e0b button.colab-df-convert');\n",
              "        buttonEl.style.display =\n",
              "          google.colab.kernel.accessAllowed ? 'block' : 'none';\n",
              "\n",
              "        async function convertToInteractive(key) {\n",
              "          const element = document.querySelector('#df-3321b0a5-78c4-4b26-bf9f-0eb5a8802e0b');\n",
              "          const dataTable =\n",
              "            await google.colab.kernel.invokeFunction('convertToInteractive',\n",
              "                                                     [key], {});\n",
              "          if (!dataTable) return;\n",
              "\n",
              "          const docLinkHtml = 'Like what you see? Visit the ' +\n",
              "            '<a target=\"_blank\" href=https://colab.research.google.com/notebooks/data_table.ipynb>data table notebook</a>'\n",
              "            + ' to learn more about interactive tables.';\n",
              "          element.innerHTML = '';\n",
              "          dataTable['output_type'] = 'display_data';\n",
              "          await google.colab.output.renderOutput(dataTable, element);\n",
              "          const docLink = document.createElement('div');\n",
              "          docLink.innerHTML = docLinkHtml;\n",
              "          element.appendChild(docLink);\n",
              "        }\n",
              "      </script>\n",
              "    </div>\n",
              "  </div>\n",
              "  "
            ]
          },
          "metadata": {},
          "execution_count": 200
        }
      ]
    },
    {
      "cell_type": "code",
      "source": [
        "dataset = feature_vector.select(['features','smoking_index'])\n",
        "# Split the dataset to train_df and test_df\n",
        "train_df, test_df = dataset.randomSplit([0.75,0.25])"
      ],
      "metadata": {
        "id": "vnjqQm23rkf9"
      },
      "execution_count": 201,
      "outputs": []
    },
    {
      "cell_type": "code",
      "source": [
        "train_df.printSchema()"
      ],
      "metadata": {
        "colab": {
          "base_uri": "https://localhost:8080/"
        },
        "id": "haaI3_SHwaGm",
        "outputId": "1640a9cc-0ba6-417a-91d4-2562c62bafc2"
      },
      "execution_count": 202,
      "outputs": [
        {
          "output_type": "stream",
          "name": "stdout",
          "text": [
            "root\n",
            " |-- features: vector (nullable = true)\n",
            " |-- smoking_index: double (nullable = false)\n",
            "\n"
          ]
        }
      ]
    },
    {
      "cell_type": "markdown",
      "source": [
        "**Just for pratice, I'll Build a Classifier for known the probability if the user smoke or not.**"
      ],
      "metadata": {
        "id": "IuhZPrCvl7J4"
      }
    },
    {
      "cell_type": "code",
      "source": [
        "model = LogisticRegression(labelCol=\"smoking_index\")"
      ],
      "metadata": {
        "id": "jO2YCgdnjT5a"
      },
      "execution_count": 203,
      "outputs": []
    },
    {
      "cell_type": "markdown",
      "source": [
        "## Build Model Pipeline"
      ],
      "metadata": {
        "id": "JNeH3MDNwx9y"
      }
    },
    {
      "cell_type": "code",
      "source": [
        "paramGrid = ParamGridBuilder().addGrid(model.regParam, (0.01, 0.1))\\\n",
        "                              .addGrid(model.maxIter, (5, 10))\\\n",
        "                              .addGrid(model.tol, (1e-4, 1e-5))\\\n",
        "                              .addGrid(model.elasticNetParam, (0.25,0.75))\\\n",
        "                              .build()"
      ],
      "metadata": {
        "id": "SlcNeHxkwisI"
      },
      "execution_count": 204,
      "outputs": []
    },
    {
      "cell_type": "code",
      "source": [
        "tvs = TrainValidationSplit(estimator=model,\n",
        "                           estimatorParamMaps=paramGrid,\n",
        "                           evaluator=MulticlassClassificationEvaluator(labelCol='smoking_index'),\n",
        "                           trainRatio=0.8)"
      ],
      "metadata": {
        "id": "9UbekTgpxD4_"
      },
      "execution_count": 205,
      "outputs": []
    },
    {
      "cell_type": "code",
      "source": [
        "model = tvs.fit(train_df)"
      ],
      "metadata": {
        "id": "9HJxnWYtxbYe"
      },
      "execution_count": 206,
      "outputs": []
    },
    {
      "cell_type": "code",
      "source": [
        "model_predictions = model.transform(test_df)"
      ],
      "metadata": {
        "id": "YCblhY2ByOji"
      },
      "execution_count": 207,
      "outputs": []
    },
    {
      "cell_type": "markdown",
      "source": [
        "# Evaluation"
      ],
      "metadata": {
        "id": "Rn3kxUjL1moN"
      }
    },
    {
      "cell_type": "code",
      "source": [
        "acc = MulticlassClassificationEvaluator(labelCol='smoking_index',metricName='accuracy').evaluate(model_predictions)"
      ],
      "metadata": {
        "id": "8mTlcZ-IyJ-k"
      },
      "execution_count": 208,
      "outputs": []
    },
    {
      "cell_type": "code",
      "source": [
        "recall = MulticlassClassificationEvaluator(labelCol=\"smoking_index\",\n",
        "                                           metricName=\"weightedRecall\").evaluate(model_predictions)"
      ],
      "metadata": {
        "id": "MICpOqODyl7q"
      },
      "execution_count": 209,
      "outputs": []
    },
    {
      "cell_type": "code",
      "source": [
        "precision = MulticlassClassificationEvaluator(labelCol=\"smoking_index\",\n",
        "                                              metricName=\"weightedPrecision\").evaluate(model_predictions)"
      ],
      "metadata": {
        "id": "Exr2bngtzAAR"
      },
      "execution_count": 210,
      "outputs": []
    },
    {
      "cell_type": "code",
      "source": [
        "print(f\"Accuracy: {acc:.2f}\")\n",
        "print(f\"Recall: {recall:.2f}\")\n",
        "print(f\"Precision: {precision:.2f}\")"
      ],
      "metadata": {
        "colab": {
          "base_uri": "https://localhost:8080/"
        },
        "id": "VU_4VQF6yBfZ",
        "outputId": "31cb7171-eadb-4a9a-bc58-b6dae030add5"
      },
      "execution_count": 211,
      "outputs": [
        {
          "output_type": "stream",
          "name": "stdout",
          "text": [
            "Accuracy: 0.64\n",
            "Recall: 0.64\n",
            "Precision: 0.65\n"
          ]
        }
      ]
    },
    {
      "cell_type": "markdown",
      "source": [
        "**evaluating ROC metric**"
      ],
      "metadata": {
        "id": "6jfiWebW2UmR"
      }
    },
    {
      "cell_type": "code",
      "source": [
        "import warnings\n",
        "warnings.filterwarnings(action=\"ignore\")\n",
        "sc = SparkContext.getOrCreate()\n",
        "results = model_predictions.select([\"probability\",\n",
        "                                    \"smoking_index\"])\n",
        "results_collect = results.collect()\n",
        "results_list = [(float(i[0][0]), 1.0-float(i[1])) for i in results_collect]\n",
        "scoreAndLabels = sc.parallelize(results_list)\n",
        "\n",
        "metrics = metric(scoreAndLabels)\n",
        "print(f\"ROC score: {metrics.areaUnderROC:.2f}\")"
      ],
      "metadata": {
        "colab": {
          "base_uri": "https://localhost:8080/"
        },
        "id": "QIdxxaNY1pav",
        "outputId": "3b81c889-b962-47b7-a607-d53119ddae22"
      },
      "execution_count": 217,
      "outputs": [
        {
          "output_type": "stream",
          "name": "stdout",
          "text": [
            "ROC score: 0.70\n"
          ]
        }
      ]
    },
    {
      "cell_type": "markdown",
      "source": [
        "**Plot AUC**"
      ],
      "metadata": {
        "id": "j-LmafQP3Ohd"
      }
    },
    {
      "cell_type": "code",
      "source": [
        "fpr, tpr = dict(), dict()\n",
        "roc_auc = dict()\n",
        "\n",
        "y_test = [i[1] for i in results_list]\n",
        "y_score = [i[0] for i in results_list]\n",
        "\n",
        "fpr, tpr, _ = roc_curve(y_test, y_score)\n",
        "roc_auc = auc(fpr, tpr)\n",
        "\n",
        "fig = plt.figure(figsize=(10, 5))\n",
        "plt.plot(fpr, tpr, label=f\"ROC curve (area = {roc_auc:.2f})\")\n",
        "plt.plot([0, 1], [0, 1], \"k--\")\n",
        "plt.xlim([0.0, 1.0])\n",
        "plt.ylim([0.0, 1.05])\n",
        "plt.xlabel(\"False Positive Rate\")\n",
        "plt.ylabel(\"True Positive Rate\")\n",
        "plt.title(\"Area under the ROC Curve\")\n",
        "plt.legend(loc=\"lower right\")\n",
        "plt.show()"
      ],
      "metadata": {
        "colab": {
          "base_uri": "https://localhost:8080/",
          "height": 355
        },
        "id": "2GvO5NuL2t1E",
        "outputId": "7c0d90c9-a239-400e-dc7d-eec65f956af2"
      },
      "execution_count": 222,
      "outputs": [
        {
          "output_type": "display_data",
          "data": {
            "text/plain": [
              "<Figure size 720x360 with 1 Axes>"
            ],
            "image/png": "[encoded data removed]"
          },
          "metadata": {
            "needs_background": "light"
          }
        }
      ]
    },
    {
      "cell_type": "code",
      "source": [],
      "metadata": {
        "id": "saiCwxaa4oj-"
      },
      "execution_count": null,
      "outputs": []
    }
  ]
}