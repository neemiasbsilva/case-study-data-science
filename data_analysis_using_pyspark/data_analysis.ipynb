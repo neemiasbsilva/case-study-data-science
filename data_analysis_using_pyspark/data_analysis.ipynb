{
  "nbformat": 4,
  "nbformat_minor": 0,
  "metadata": {
    "colab": {
      "name": "data_analysis.ipynb",
      "provenance": [],
      "mount_file_id": "1V488sN_F5gjpvQmXUAC8sLT8sYlOVp9b",
      "authorship_tag": "ABX9TyMFbA+jAm/jJVHNE3yUWFNR"
    },
    "kernelspec": {
      "name": "python3",
      "display_name": "Python 3"
    },
    "language_info": {
      "name": "python"
    },
    "gpuClass": "standard"
  },
  "cells": [
    {
      "cell_type": "markdown",
      "source": [
        "# Setup & Import Libraries"
      ],
      "metadata": {
        "id": "wcwHxsgMXoNR"
      }
    },
    {
      "cell_type": "code",
      "source": [
        "!pip install pyspark -q"
      ],
      "metadata": {
        "colab": {
          "base_uri": "https://localhost:8080/"
        },
        "id": "nTRNvqqGX4-f",
        "outputId": "b5c16fd0-a52f-45b5-bbe2-6af42c159836"
      },
      "execution_count": 2,
      "outputs": [
        {
          "output_type": "stream",
          "name": "stdout",
          "text": [
            "\u001b[K     |████████████████████████████████| 281.3 MB 46 kB/s \n",
            "\u001b[K     |████████████████████████████████| 199 kB 53.1 MB/s \n",
            "\u001b[?25h  Building wheel for pyspark (setup.py) ... \u001b[?25l\u001b[?25hdone\n"
          ]
        }
      ]
    },
    {
      "cell_type": "code",
      "execution_count": 3,
      "metadata": {
        "id": "PekZTp36XgHN"
      },
      "outputs": [],
      "source": [
        "import pyspark.sql.functions as f\n",
        "import pyspark.sql.types as t\n",
        "import pyspark.sql.functions as f"
      ]
    }
  ]
}