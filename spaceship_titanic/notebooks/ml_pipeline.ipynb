{
  "nbformat": 4,
  "nbformat_minor": 0,
  "metadata": {
    "colab": {
      "provenance": [],
      "collapsed_sections": [],
      "mount_file_id": "1-XeaapTnaMguhuhc1G2J78TEAPmsCsF0",
      "authorship_tag": "ABX9TyNg6nR37SWUtWXb/uU3tj0K"
    },
    "kernelspec": {
      "name": "python3",
      "display_name": "Python 3"
    },
    "language_info": {
      "name": "python"
    },
    "accelerator": "GPU"
  },
  "cells": [
    {
      "cell_type": "markdown",
      "source": [
        "# Import Libraries"
      ],
      "metadata": {
        "id": "_wNjbJ0DWNVI"
      }
    },
    {
      "cell_type": "code",
      "source": [
        "!pip install keras-tuner --upgrade --quiet"
      ],
      "metadata": {
        "id": "LIq7RuCF1rZC"
      },
      "execution_count": 1,
      "outputs": []
    },
    {
      "cell_type": "code",
      "execution_count": 2,
      "metadata": {
        "id": "H79ymnebVV8-"
      },
      "outputs": [],
      "source": [
        "import numpy as np\n",
        "import os\n",
        "import pandas as pd\n",
        "from numpy.random import seed\n",
        "seed(42)\n",
        "\n",
        "import tensorflow\n",
        "tensorflow.random.set_seed(42)\n",
        "from sklearn.model_selection import train_test_split\n",
        "from sklearn.preprocessing import MinMaxScaler, StandardScaler\n",
        "from tensorflow import keras \n",
        "from tensorflow.keras import regularizers\n",
        "from keras_tuner import HyperModel, RandomSearch"
      ]
    },
    {
      "cell_type": "code",
      "source": [
        "os.chdir(\"/content/drive/MyDrive/deep_learning/spaceship_titanic\")\n",
        "%ls"
      ],
      "metadata": {
        "colab": {
          "base_uri": "https://localhost:8080/"
        },
        "id": "Y7Ae6Rj8WZ1b",
        "outputId": "8f2fdf0b-9898-4fee-df19-c543399daa06"
      },
      "execution_count": 3,
      "outputs": [
        {
          "output_type": "stream",
          "name": "stdout",
          "text": [
            "\u001b[0m\u001b[01;34mdata\u001b[0m/  kaggle.json  \u001b[01;34mnotebooks\u001b[0m/  \u001b[01;34mreports\u001b[0m/  test.npz\n"
          ]
        }
      ]
    },
    {
      "cell_type": "markdown",
      "source": [
        "# Load Dataset"
      ],
      "metadata": {
        "id": "AX3zRgYdWTbW"
      }
    },
    {
      "cell_type": "code",
      "source": [
        "data = np.load(\"data/train.npz\", allow_pickle=True)\n",
        "X = data[\"x\"]\n",
        "y = data[\"y\"]\n",
        "X = X.astype(float)\n",
        "y = y.astype(float)\n",
        "X.shape"
      ],
      "metadata": {
        "colab": {
          "base_uri": "https://localhost:8080/"
        },
        "id": "WD_impkaWS0Z",
        "outputId": "4b3ddd74-c2c9-4556-80e8-f02da33491d2"
      },
      "execution_count": 14,
      "outputs": [
        {
          "output_type": "execute_result",
          "data": {
            "text/plain": [
              "(8693, 34)"
            ]
          },
          "metadata": {},
          "execution_count": 14
        }
      ]
    },
    {
      "cell_type": "markdown",
      "source": [
        "# Split into train and validation"
      ],
      "metadata": {
        "id": "mZQyMLjvWt53"
      }
    },
    {
      "cell_type": "code",
      "source": [
        "X_train, X_val, y_train, y_val = train_test_split(X, y, test_size=0.25, random_state=42)\n",
        "\n",
        "print(f\"Amount of Train Samples: {len(X_train)} - Amount of Validation Sample: {len(X_val)}\")"
      ],
      "metadata": {
        "colab": {
          "base_uri": "https://localhost:8080/"
        },
        "id": "cbDT7pH7WtmV",
        "outputId": "d0d9a5df-e852-407b-a800-67b27d82362f"
      },
      "execution_count": 15,
      "outputs": [
        {
          "output_type": "stream",
          "name": "stdout",
          "text": [
            "Amount of Train Samples: 6519 - Amount of Validation Sample: 2174\n"
          ]
        }
      ]
    },
    {
      "cell_type": "markdown",
      "source": [
        "# Standardize Dataset"
      ],
      "metadata": {
        "id": "dxhxKyINcb8k"
      }
    },
    {
      "cell_type": "code",
      "source": [
        "from sklearn.decomposition import PCA\n",
        "\n",
        "pca = PCA(n_components=10) # divide to 10 PCs\n",
        "principal_components = pca.fit_transform(X_train)\n",
        "principal_df = pd.DataFrame(data=principal_components, columns=[\"PC_1\", \"PC_2\", \"PC_3\",\n",
        "                                                                \"PC_4\", \"PC_5\", \"PC_6\",\n",
        "                                                                \"PC_7\", \"PC_8\", \"PC_9\",\n",
        "                                                                \"PC_10\",])\n",
        "principal_df.head()"
      ],
      "metadata": {
        "colab": {
          "base_uri": "https://localhost:8080/",
          "height": 206
        },
        "id": "hwD9Lpsy7DFV",
        "outputId": "858c5442-e1d4-41ff-dee2-e7d16905929c"
      },
      "execution_count": 96,
      "outputs": [
        {
          "output_type": "execute_result",
          "data": {
            "text/plain": [
              "       PC_1      PC_2      PC_3      PC_4      PC_5      PC_6      PC_7  \\\n",
              "0 -0.337425  0.871520  0.142327  0.269201  0.475973  0.048914 -0.308314   \n",
              "1  0.196422  0.002373 -0.421760 -1.290702 -0.330429  0.066755  1.216187   \n",
              "2  0.221750  0.231678 -0.545081 -1.563985 -0.366693  0.128924 -0.125923   \n",
              "3 -1.314897 -1.267963  0.403710  1.070926  0.289026 -0.169372 -0.393964   \n",
              "4 -0.017192  0.413452  0.297602 -1.029677  0.164224  0.245467 -0.458031   \n",
              "\n",
              "       PC_8      PC_9     PC_10  \n",
              "0 -0.707293 -0.460580 -0.065413  \n",
              "1 -0.496475  0.460644 -0.074602  \n",
              "2 -0.638168  0.662788  0.261115  \n",
              "3  0.102290  0.186769 -0.077649  \n",
              "4  0.472297  0.080751 -0.162810  "
            ],
            "text/html": [
              "\n",
              "  <div id=\"df-cfae4032-fd7f-4803-80ee-add321dcfe4e\">\n",
              "    <div class=\"colab-df-container\">\n",
              "      <div>\n",
              "<style scoped>\n",
              "    .dataframe tbody tr th:only-of-type {\n",
              "        vertical-align: middle;\n",
              "    }\n",
              "\n",
              "    .dataframe tbody tr th {\n",
              "        vertical-align: top;\n",
              "    }\n",
              "\n",
              "    .dataframe thead th {\n",
              "        text-align: right;\n",
              "    }\n",
              "</style>\n",
              "<table border=\"1\" class=\"dataframe\">\n",
              "  <thead>\n",
              "    <tr style=\"text-align: right;\">\n",
              "      <th></th>\n",
              "      <th>PC_1</th>\n",
              "      <th>PC_2</th>\n",
              "      <th>PC_3</th>\n",
              "      <th>PC_4</th>\n",
              "      <th>PC_5</th>\n",
              "      <th>PC_6</th>\n",
              "      <th>PC_7</th>\n",
              "      <th>PC_8</th>\n",
              "      <th>PC_9</th>\n",
              "      <th>PC_10</th>\n",
              "    </tr>\n",
              "  </thead>\n",
              "  <tbody>\n",
              "    <tr>\n",
              "      <th>0</th>\n",
              "      <td>-0.337425</td>\n",
              "      <td>0.871520</td>\n",
              "      <td>0.142327</td>\n",
              "      <td>0.269201</td>\n",
              "      <td>0.475973</td>\n",
              "      <td>0.048914</td>\n",
              "      <td>-0.308314</td>\n",
              "      <td>-0.707293</td>\n",
              "      <td>-0.460580</td>\n",
              "      <td>-0.065413</td>\n",
              "    </tr>\n",
              "    <tr>\n",
              "      <th>1</th>\n",
              "      <td>0.196422</td>\n",
              "      <td>0.002373</td>\n",
              "      <td>-0.421760</td>\n",
              "      <td>-1.290702</td>\n",
              "      <td>-0.330429</td>\n",
              "      <td>0.066755</td>\n",
              "      <td>1.216187</td>\n",
              "      <td>-0.496475</td>\n",
              "      <td>0.460644</td>\n",
              "      <td>-0.074602</td>\n",
              "    </tr>\n",
              "    <tr>\n",
              "      <th>2</th>\n",
              "      <td>0.221750</td>\n",
              "      <td>0.231678</td>\n",
              "      <td>-0.545081</td>\n",
              "      <td>-1.563985</td>\n",
              "      <td>-0.366693</td>\n",
              "      <td>0.128924</td>\n",
              "      <td>-0.125923</td>\n",
              "      <td>-0.638168</td>\n",
              "      <td>0.662788</td>\n",
              "      <td>0.261115</td>\n",
              "    </tr>\n",
              "    <tr>\n",
              "      <th>3</th>\n",
              "      <td>-1.314897</td>\n",
              "      <td>-1.267963</td>\n",
              "      <td>0.403710</td>\n",
              "      <td>1.070926</td>\n",
              "      <td>0.289026</td>\n",
              "      <td>-0.169372</td>\n",
              "      <td>-0.393964</td>\n",
              "      <td>0.102290</td>\n",
              "      <td>0.186769</td>\n",
              "      <td>-0.077649</td>\n",
              "    </tr>\n",
              "    <tr>\n",
              "      <th>4</th>\n",
              "      <td>-0.017192</td>\n",
              "      <td>0.413452</td>\n",
              "      <td>0.297602</td>\n",
              "      <td>-1.029677</td>\n",
              "      <td>0.164224</td>\n",
              "      <td>0.245467</td>\n",
              "      <td>-0.458031</td>\n",
              "      <td>0.472297</td>\n",
              "      <td>0.080751</td>\n",
              "      <td>-0.162810</td>\n",
              "    </tr>\n",
              "  </tbody>\n",
              "</table>\n",
              "</div>\n",
              "      <button class=\"colab-df-convert\" onclick=\"convertToInteractive('df-cfae4032-fd7f-4803-80ee-add321dcfe4e')\"\n",
              "              title=\"Convert this dataframe to an interactive table.\"\n",
              "              style=\"display:none;\">\n",
              "        \n",
              "  <svg xmlns=\"http://www.w3.org/2000/svg\" height=\"24px\"viewBox=\"0 0 24 24\"\n",
              "       width=\"24px\">\n",
              "    <path d=\"M0 0h24v24H0V0z\" fill=\"none\"/>\n",
              "    <path d=\"M18.56 5.44l.94 2.06.94-2.06 2.06-.94-2.06-.94-.94-2.06-.94 2.06-2.06.94zm-11 1L8.5 8.5l.94-2.06 2.06-.94-2.06-.94L8.5 2.5l-.94 2.06-2.06.94zm10 10l.94 2.06.94-2.06 2.06-.94-2.06-.94-.94-2.06-.94 2.06-2.06.94z\"/><path d=\"M17.41 7.96l-1.37-1.37c-.4-.4-.92-.59-1.43-.59-.52 0-1.04.2-1.43.59L10.3 9.45l-7.72 7.72c-.78.78-.78 2.05 0 2.83L4 21.41c.39.39.9.59 1.41.59.51 0 1.02-.2 1.41-.59l7.78-7.78 2.81-2.81c.8-.78.8-2.07 0-2.86zM5.41 20L4 18.59l7.72-7.72 1.47 1.35L5.41 20z\"/>\n",
              "  </svg>\n",
              "      </button>\n",
              "      \n",
              "  <style>\n",
              "    .colab-df-container {\n",
              "      display:flex;\n",
              "      flex-wrap:wrap;\n",
              "      gap: 12px;\n",
              "    }\n",
              "\n",
              "    .colab-df-convert {\n",
              "      background-color: #E8F0FE;\n",
              "      border: none;\n",
              "      border-radius: 50%;\n",
              "      cursor: pointer;\n",
              "      display: none;\n",
              "      fill: #1967D2;\n",
              "      height: 32px;\n",
              "      padding: 0 0 0 0;\n",
              "      width: 32px;\n",
              "    }\n",
              "\n",
              "    .colab-df-convert:hover {\n",
              "      background-color: #E2EBFA;\n",
              "      box-shadow: 0px 1px 2px rgba(60, 64, 67, 0.3), 0px 1px 3px 1px rgba(60, 64, 67, 0.15);\n",
              "      fill: #174EA6;\n",
              "    }\n",
              "\n",
              "    [theme=dark] .colab-df-convert {\n",
              "      background-color: #3B4455;\n",
              "      fill: #D2E3FC;\n",
              "    }\n",
              "\n",
              "    [theme=dark] .colab-df-convert:hover {\n",
              "      background-color: #434B5C;\n",
              "      box-shadow: 0px 1px 3px 1px rgba(0, 0, 0, 0.15);\n",
              "      filter: drop-shadow(0px 1px 2px rgba(0, 0, 0, 0.3));\n",
              "      fill: #FFFFFF;\n",
              "    }\n",
              "  </style>\n",
              "\n",
              "      <script>\n",
              "        const buttonEl =\n",
              "          document.querySelector('#df-cfae4032-fd7f-4803-80ee-add321dcfe4e button.colab-df-convert');\n",
              "        buttonEl.style.display =\n",
              "          google.colab.kernel.accessAllowed ? 'block' : 'none';\n",
              "\n",
              "        async function convertToInteractive(key) {\n",
              "          const element = document.querySelector('#df-cfae4032-fd7f-4803-80ee-add321dcfe4e');\n",
              "          const dataTable =\n",
              "            await google.colab.kernel.invokeFunction('convertToInteractive',\n",
              "                                                     [key], {});\n",
              "          if (!dataTable) return;\n",
              "\n",
              "          const docLinkHtml = 'Like what you see? Visit the ' +\n",
              "            '<a target=\"_blank\" href=https://colab.research.google.com/notebooks/data_table.ipynb>data table notebook</a>'\n",
              "            + ' to learn more about interactive tables.';\n",
              "          element.innerHTML = '';\n",
              "          dataTable['output_type'] = 'display_data';\n",
              "          await google.colab.output.renderOutput(dataTable, element);\n",
              "          const docLink = document.createElement('div');\n",
              "          docLink.innerHTML = docLinkHtml;\n",
              "          element.appendChild(docLink);\n",
              "        }\n",
              "      </script>\n",
              "    </div>\n",
              "  </div>\n",
              "  "
            ]
          },
          "metadata": {},
          "execution_count": 96
        }
      ]
    },
    {
      "cell_type": "code",
      "source": [
        "import matplotlib.pyplot as plt\n",
        "\n",
        "PC_values = np.arange(pca.n_components_) + 1\n",
        "plt.plot(PC_values, pca.explained_variance_ratio_, \"bo-\", linewidth=2, color=\"grey\")\n",
        "plt.title(\"Analyze Elbow Rule for PCA\")\n",
        "plt.xlabel(\"Principal Components\")\n",
        "plt.ylabel(\"Variation Percentage - PV\")\n",
        "plt.show()"
      ],
      "metadata": {
        "colab": {
          "base_uri": "https://localhost:8080/",
          "height": 295
        },
        "id": "bgEF-l2p7yg_",
        "outputId": "efe67a58-548c-4195-8809-18499f6e964f"
      },
      "execution_count": 98,
      "outputs": [
        {
          "output_type": "display_data",
          "data": {
            "text/plain": [
              "<Figure size 432x288 with 1 Axes>"
            ],
            "image/png": "[encoded data removed]"
          },
          "metadata": {
            "needs_background": "light"
          }
        }
      ]
    },
    {
      "cell_type": "code",
      "source": [
        "sum = pd.DataFrame(np.cumsum(pca.explained_variance_ratio_)*100, columns=[\"Cumulative_PV\"])\n",
        "print(\"Cumulative Variation Percentage (PV) Explained:\")\n",
        "print(sum)"
      ],
      "metadata": {
        "colab": {
          "base_uri": "https://localhost:8080/"
        },
        "id": "PbqZ4eQL75zw",
        "outputId": "99d21d5e-77fc-4a46-f579-cb2da1438c28"
      },
      "execution_count": 100,
      "outputs": [
        {
          "output_type": "stream",
          "name": "stdout",
          "text": [
            "Cumulative Variation Percentage (PV) Explained:\n",
            "   Cumulative_PV\n",
            "0      23.778697\n",
            "1      39.945091\n",
            "2      53.052731\n",
            "3      65.036201\n",
            "4      76.413312\n",
            "5      86.453666\n",
            "6      91.261003\n",
            "7      95.616088\n",
            "8      97.749771\n",
            "9      99.207152\n"
          ]
        }
      ]
    },
    {
      "cell_type": "code",
      "source": [
        "pca = PCA(n_components=10) # divide to 10 PCs\n",
        "X_train_pca = pca.fit_transform(X_train)\n",
        "X_val_pca = pca.transform(X_val)"
      ],
      "metadata": {
        "id": "nqrYjNxC8HHq"
      },
      "execution_count": 101,
      "outputs": []
    },
    {
      "cell_type": "code",
      "source": [
        "# scaler = MinMaxScaler()\n",
        "# scaler = StandardScaler()\n",
        "# X_train = scaler.fit_transform(X_train)\n",
        "# X_val = scaler.transform(X_val) \n",
        "# X_train = np.reshape(X_train, newshape=(X_train.shape[0], X_train.shape[1], 1))\n",
        "# X_val = np.reshape(X_val, newshape=(X_val.shape[0], X_val.shape[1], 1))"
      ],
      "metadata": {
        "id": "UHvuWX8wcbDE"
      },
      "execution_count": 99,
      "outputs": []
    },
    {
      "cell_type": "markdown",
      "source": [
        "# Build FeedFoward Neural Network Model applying Tuner"
      ],
      "metadata": {
        "id": "mVMMteOOXHtH"
      }
    },
    {
      "cell_type": "code",
      "source": [
        "class BuildHyperModel(HyperModel):\n",
        "    def __init__(self, n_units_list, n_names_list, shape):\n",
        "        self.n_units_list = n_units_list\n",
        "        self.n_names_list = n_names_list\n",
        "        self.shape = shape\n",
        "\n",
        "    def build(self, hp):\n",
        "        input = keras.Input(shape=self.shape)\n",
        "\n",
        "        for i, (n_units, n_names) in enumerate(zip(self.n_units_list, self.n_names_list)):\n",
        "            if (i == 0):\n",
        "                x = keras.layers.Dense(hp.Int(f\"units_{i+1}\", n_units, n_units*2, default=n_units), \n",
        "                                        activation=hp.Choice(\n",
        "                                            f\"dense_activation_{i+1}\",\n",
        "                                            values=[\"relu\", \"elu\"],\n",
        "                                            default=\"relu\"), \n",
        "                                        name=n_names,\n",
        "                                        kernel_regularizer=regularizers.L2(\n",
        "                                            hp.Choice(\n",
        "                                                f\"l2_{i+1}\",\n",
        "                                                values=[1e-3, 1e-4],\n",
        "                                                default=1e-4\n",
        "                                            )\n",
        "                                            ))(input)\n",
        "                x = keras.layers.BatchNormalization()(x)\n",
        "                x = keras.layers.Dropout(hp.Float(\n",
        "                    f\"dropout_{i+1}\",\n",
        "                    min_value=0.45,\n",
        "                    max_value=0.5,\n",
        "                    default=0.5,\n",
        "                    step = 0.01\n",
        "                ))(x)\n",
        "            else:\n",
        "                x = keras.layers.Dense(hp.Int(f\"units_{i+1}\", n_units, n_units*2, default=n_units), \n",
        "                                        activation=hp.Choice(\n",
        "                                            f\"dense_activation_{i+1}\",\n",
        "                                            values=[\"relu\", \"elu\"],\n",
        "                                            default=\"relu\"), \n",
        "                                        name=n_names,\n",
        "                                        kernel_regularizer=regularizers.L2(\n",
        "                                            hp.Choice(\n",
        "                                                f\"l2_{i+1}\",\n",
        "                                                values=[1e-3, 1e-4],\n",
        "                                                default=1e-4\n",
        "                                            )\n",
        "                                            ))(x)\n",
        "                x = keras.layers.BatchNormalization()(x)\n",
        "                x = keras.layers.Dropout(hp.Float(\n",
        "                    f\"dropout_{i+1}\",\n",
        "                    min_value=0.45,\n",
        "                    max_value=0.5,\n",
        "                    default=0.5,\n",
        "                    step = 0.01\n",
        "                ))(x)\n",
        "\n",
        "        n_units = int(self.n_units_list[-1]//2)\n",
        "        x = keras.layers.Dense(\n",
        "            hp.Int(\n",
        "                \"units_last_hidden\",\n",
        "                n_units, n_units*2, default=n_units\n",
        "                ),\n",
        "            activation=hp.Choice(\n",
        "                \"dense_activation_last_hidden\",\n",
        "                values=[\"relu\", \"elu\"],\n",
        "                default=\"relu\"\n",
        "            ),\n",
        "            kernel_regularizer=regularizers.L2(\n",
        "                hp.Choice(\n",
        "                    \"l2_last_hidden\",\n",
        "                    values=[1e-3, 1e-4],\n",
        "                    default=1e-4\n",
        "                )\n",
        "            ),\n",
        "            name=\"last_hidden\")(x)\n",
        "        output = keras.layers.Dense(1, activation=\"sigmoid\", name=\"output\")(x)\n",
        "        model = keras.Model(inputs=input, outputs=output)\n",
        "        \n",
        "        lr = hp.Choice(\n",
        "            \"learning_rate\",\n",
        "            values=[1e-3, 1e-4]\n",
        "        )\n",
        "        optimizer = keras.optimizers.Adam(learning_rate=lr)\n",
        "        metrics = [\n",
        "            keras.metrics.BinaryAccuracy(name=\"accuracy\"),\n",
        "            keras.metrics.AUC(),\n",
        "        ]\n",
        "        model.compile(loss=keras.losses.BinaryCrossentropy(), optimizer=optimizer, metrics=metrics)\n",
        "        return model"
      ],
      "metadata": {
        "id": "FMGFYNHIWr0F"
      },
      "execution_count": 49,
      "outputs": []
    },
    {
      "cell_type": "code",
      "source": [
        "n_units = [32, 32]\n",
        "n_names = [\"hidden_1\", \"hidden_2\"]\n",
        "shape = X_train.shape[1:]\n",
        "hm = BuildHyperModel(n_units, n_names, shape)"
      ],
      "metadata": {
        "id": "-dRoQi86ZZ3s"
      },
      "execution_count": 50,
      "outputs": []
    },
    {
      "cell_type": "code",
      "source": [
        "rs_tuner = RandomSearch(\n",
        "    hm,\n",
        "    objective=\"val_accuracy\",\n",
        "    seed=42,\n",
        "    max_trials=10,\n",
        "    executions_per_trial=3,\n",
        "    overwrite=True,\n",
        "    directory=\"reports\",\n",
        "    project_name=\"random_search\"\n",
        ")"
      ],
      "metadata": {
        "id": "rmyoNaDO7wvh"
      },
      "execution_count": 51,
      "outputs": []
    },
    {
      "cell_type": "code",
      "source": [
        "rs_tuner.search_space_summary()"
      ],
      "metadata": {
        "colab": {
          "base_uri": "https://localhost:8080/"
        },
        "id": "mjs6dezHWxNx",
        "outputId": "c7167627-2a43-4678-bc4b-6394f877c0b7"
      },
      "execution_count": 52,
      "outputs": [
        {
          "output_type": "stream",
          "name": "stdout",
          "text": [
            "Search space summary\n",
            "Default search space size: 12\n",
            "units_1 (Int)\n",
            "{'default': 32, 'conditions': [], 'min_value': 32, 'max_value': 64, 'step': 1, 'sampling': None}\n",
            "dense_activation_1 (Choice)\n",
            "{'default': 'relu', 'conditions': [], 'values': ['relu', 'elu'], 'ordered': False}\n",
            "l2_1 (Choice)\n",
            "{'default': 0.0001, 'conditions': [], 'values': [0.001, 0.0001], 'ordered': True}\n",
            "dropout_1 (Float)\n",
            "{'default': 0.5, 'conditions': [], 'min_value': 0.45, 'max_value': 0.5, 'step': 0.01, 'sampling': None}\n",
            "units_2 (Int)\n",
            "{'default': 32, 'conditions': [], 'min_value': 32, 'max_value': 64, 'step': 1, 'sampling': None}\n",
            "dense_activation_2 (Choice)\n",
            "{'default': 'relu', 'conditions': [], 'values': ['relu', 'elu'], 'ordered': False}\n",
            "l2_2 (Choice)\n",
            "{'default': 0.0001, 'conditions': [], 'values': [0.001, 0.0001], 'ordered': True}\n",
            "dropout_2 (Float)\n",
            "{'default': 0.5, 'conditions': [], 'min_value': 0.45, 'max_value': 0.5, 'step': 0.01, 'sampling': None}\n",
            "units_last_hidden (Int)\n",
            "{'default': 16, 'conditions': [], 'min_value': 16, 'max_value': 32, 'step': 1, 'sampling': None}\n",
            "dense_activation_last_hidden (Choice)\n",
            "{'default': 'relu', 'conditions': [], 'values': ['relu', 'elu'], 'ordered': False}\n",
            "l2_last_hidden (Choice)\n",
            "{'default': 0.0001, 'conditions': [], 'values': [0.001, 0.0001], 'ordered': True}\n",
            "learning_rate (Choice)\n",
            "{'default': 0.001, 'conditions': [], 'values': [0.001, 0.0001], 'ordered': True}\n"
          ]
        }
      ]
    },
    {
      "cell_type": "markdown",
      "source": [
        "# Run Random Search tuner"
      ],
      "metadata": {
        "id": "HYmUxsct9nJ7"
      }
    },
    {
      "cell_type": "code",
      "source": [
        "callbacks = [\n",
        "    keras.callbacks.EarlyStopping(monitor=\"val_accuracy\", mode=\"max\", patience=8),\n",
        "    keras.callbacks.ReduceLROnPlateau(monitor=\"val_accuracy\", patience=3, mode=\"max\",\n",
        "                                      )\n",
        "]"
      ],
      "metadata": {
        "id": "A6Ie00KS_Ajv"
      },
      "execution_count": 53,
      "outputs": []
    },
    {
      "cell_type": "code",
      "source": [
        "rs_tuner.search(X_train, y_train, epochs=50,\n",
        "                validation_data=(X_val, y_val), verbose=1, callbacks=callbacks,\n",
        "                batch_size=64)"
      ],
      "metadata": {
        "colab": {
          "base_uri": "https://localhost:8080/"
        },
        "id": "jixLPj2y9q0y",
        "outputId": "ec509a81-1485-4962-d192-b51bf50164d6"
      },
      "execution_count": 54,
      "outputs": [
        {
          "output_type": "stream",
          "name": "stdout",
          "text": [
            "Trial 10 Complete [00h 00m 31s]\n",
            "val_accuracy: 0.7798221309979757\n",
            "\n",
            "Best val_accuracy So Far: 0.7865685423215231\n",
            "Total elapsed time: 00h 10m 06s\n"
          ]
        }
      ]
    },
    {
      "cell_type": "code",
      "source": [
        "best_model = rs_tuner.get_best_models(num_models=1)[0]\n",
        "best_model.summary()"
      ],
      "metadata": {
        "colab": {
          "base_uri": "https://localhost:8080/"
        },
        "id": "hDt14oCS9TkZ",
        "outputId": "dfb6f8ee-52cb-4b70-8512-4926d2ea00f9"
      },
      "execution_count": 55,
      "outputs": [
        {
          "output_type": "stream",
          "name": "stdout",
          "text": [
            "Model: \"model\"\n",
            "_________________________________________________________________\n",
            " Layer (type)                Output Shape              Param #   \n",
            "=================================================================\n",
            " input_1 (InputLayer)        [(None, 34)]              0         \n",
            "                                                                 \n",
            " hidden_1 (Dense)            (None, 52)                1820      \n",
            "                                                                 \n",
            " batch_normalization (BatchN  (None, 52)               208       \n",
            " ormalization)                                                   \n",
            "                                                                 \n",
            " dropout (Dropout)           (None, 52)                0         \n",
            "                                                                 \n",
            " hidden_2 (Dense)            (None, 60)                3180      \n",
            "                                                                 \n",
            " batch_normalization_1 (Batc  (None, 60)               240       \n",
            " hNormalization)                                                 \n",
            "                                                                 \n",
            " dropout_1 (Dropout)         (None, 60)                0         \n",
            "                                                                 \n",
            " last_hidden (Dense)         (None, 24)                1464      \n",
            "                                                                 \n",
            " output (Dense)              (None, 1)                 25        \n",
            "                                                                 \n",
            "=================================================================\n",
            "Total params: 6,937\n",
            "Trainable params: 6,713\n",
            "Non-trainable params: 224\n",
            "_________________________________________________________________\n"
          ]
        }
      ]
    },
    {
      "cell_type": "code",
      "source": [
        "loss, accuracy, auc = best_model.evaluate(X_train, y_train)"
      ],
      "metadata": {
        "colab": {
          "base_uri": "https://localhost:8080/"
        },
        "id": "E1BKGO2oceFG",
        "outputId": "ff3e8ab6-2905-48a2-d98b-cf37fb23f088"
      },
      "execution_count": 56,
      "outputs": [
        {
          "output_type": "stream",
          "name": "stdout",
          "text": [
            "204/204 [==============================] - 1s 3ms/step - loss: 0.4204 - accuracy: 0.8106 - auc: 0.8931\n"
          ]
        }
      ]
    },
    {
      "cell_type": "code",
      "source": [
        "loss, accuracy, auc = best_model.evaluate(X_val, y_val)"
      ],
      "metadata": {
        "colab": {
          "base_uri": "https://localhost:8080/"
        },
        "id": "VdHdG6yMGYGl",
        "outputId": "9c6b4e7b-c59e-4c5d-9e00-3fb2d45df05b"
      },
      "execution_count": 57,
      "outputs": [
        {
          "output_type": "stream",
          "name": "stdout",
          "text": [
            "68/68 [==============================] - 0s 3ms/step - loss: 0.4442 - accuracy: 0.7879 - auc: 0.8757\n"
          ]
        }
      ]
    },
    {
      "cell_type": "markdown",
      "source": [
        "# Save Best Model"
      ],
      "metadata": {
        "id": "DOGFoYXJZ7Nu"
      }
    },
    {
      "cell_type": "code",
      "source": [
        "best_model.save(\"reports/final_model.h5\")"
      ],
      "metadata": {
        "id": "aiOKlUytZvlV"
      },
      "execution_count": 58,
      "outputs": []
    },
    {
      "cell_type": "markdown",
      "source": [
        "# Predict Submission Dataset"
      ],
      "metadata": {
        "id": "LHmti67KeXdk"
      }
    },
    {
      "cell_type": "code",
      "source": [
        "X_test = np.load(\"data/test.npz\", allow_pickle=True)[\"x\"]\n",
        "X_test = X_test.astype(float)\n",
        "X_test.shape"
      ],
      "metadata": {
        "colab": {
          "base_uri": "https://localhost:8080/"
        },
        "id": "RRuqK5_aeWzf",
        "outputId": "de00ff1c-0441-4af6-bea8-1aefbcbf83d6"
      },
      "execution_count": 59,
      "outputs": [
        {
          "output_type": "execute_result",
          "data": {
            "text/plain": [
              "(4277, 34)"
            ]
          },
          "metadata": {},
          "execution_count": 59
        }
      ]
    },
    {
      "cell_type": "code",
      "source": [
        "y_pred = best_model.predict(X_test,)"
      ],
      "metadata": {
        "colab": {
          "base_uri": "https://localhost:8080/"
        },
        "id": "UyYUalwHjB71",
        "outputId": "6af771b9-0936-48b1-d159-609814b899bf"
      },
      "execution_count": 60,
      "outputs": [
        {
          "output_type": "stream",
          "name": "stdout",
          "text": [
            "134/134 [==============================] - 0s 2ms/step\n"
          ]
        }
      ]
    },
    {
      "cell_type": "code",
      "source": [
        "print(y_pred[:])"
      ],
      "metadata": {
        "colab": {
          "base_uri": "https://localhost:8080/"
        },
        "id": "ZsHSiKCocuul",
        "outputId": "da3b03e4-b653-4a1c-c959-8ffaeeda7736"
      },
      "execution_count": 61,
      "outputs": [
        {
          "output_type": "stream",
          "name": "stdout",
          "text": [
            "[[0.5964853 ]\n",
            " [0.03084361]\n",
            " [0.9836316 ]\n",
            " ...\n",
            " [0.9426545 ]\n",
            " [0.8852611 ]\n",
            " [0.7083568 ]]\n"
          ]
        }
      ]
    },
    {
      "cell_type": "code",
      "source": [
        "df = pd.read_csv(\"data/sample_submission.csv\")\n",
        "df.head()"
      ],
      "metadata": {
        "colab": {
          "base_uri": "https://localhost:8080/",
          "height": 206
        },
        "id": "PHrpiUc2EVBF",
        "outputId": "81bf1622-c5bf-4942-a738-07aeab35c9e1"
      },
      "execution_count": 62,
      "outputs": [
        {
          "output_type": "execute_result",
          "data": {
            "text/plain": [
              "  PassengerId  Transported\n",
              "0     0013_01        False\n",
              "1     0018_01        False\n",
              "2     0019_01        False\n",
              "3     0021_01        False\n",
              "4     0023_01        False"
            ],
            "text/html": [
              "\n",
              "  <div id=\"df-8500404c-78d2-4fac-b986-fe6af8792007\">\n",
              "    <div class=\"colab-df-container\">\n",
              "      <div>\n",
              "<style scoped>\n",
              "    .dataframe tbody tr th:only-of-type {\n",
              "        vertical-align: middle;\n",
              "    }\n",
              "\n",
              "    .dataframe tbody tr th {\n",
              "        vertical-align: top;\n",
              "    }\n",
              "\n",
              "    .dataframe thead th {\n",
              "        text-align: right;\n",
              "    }\n",
              "</style>\n",
              "<table border=\"1\" class=\"dataframe\">\n",
              "  <thead>\n",
              "    <tr style=\"text-align: right;\">\n",
              "      <th></th>\n",
              "      <th>PassengerId</th>\n",
              "      <th>Transported</th>\n",
              "    </tr>\n",
              "  </thead>\n",
              "  <tbody>\n",
              "    <tr>\n",
              "      <th>0</th>\n",
              "      <td>0013_01</td>\n",
              "      <td>False</td>\n",
              "    </tr>\n",
              "    <tr>\n",
              "      <th>1</th>\n",
              "      <td>0018_01</td>\n",
              "      <td>False</td>\n",
              "    </tr>\n",
              "    <tr>\n",
              "      <th>2</th>\n",
              "      <td>0019_01</td>\n",
              "      <td>False</td>\n",
              "    </tr>\n",
              "    <tr>\n",
              "      <th>3</th>\n",
              "      <td>0021_01</td>\n",
              "      <td>False</td>\n",
              "    </tr>\n",
              "    <tr>\n",
              "      <th>4</th>\n",
              "      <td>0023_01</td>\n",
              "      <td>False</td>\n",
              "    </tr>\n",
              "  </tbody>\n",
              "</table>\n",
              "</div>\n",
              "      <button class=\"colab-df-convert\" onclick=\"convertToInteractive('df-8500404c-78d2-4fac-b986-fe6af8792007')\"\n",
              "              title=\"Convert this dataframe to an interactive table.\"\n",
              "              style=\"display:none;\">\n",
              "        \n",
              "  <svg xmlns=\"http://www.w3.org/2000/svg\" height=\"24px\"viewBox=\"0 0 24 24\"\n",
              "       width=\"24px\">\n",
              "    <path d=\"M0 0h24v24H0V0z\" fill=\"none\"/>\n",
              "    <path d=\"M18.56 5.44l.94 2.06.94-2.06 2.06-.94-2.06-.94-.94-2.06-.94 2.06-2.06.94zm-11 1L8.5 8.5l.94-2.06 2.06-.94-2.06-.94L8.5 2.5l-.94 2.06-2.06.94zm10 10l.94 2.06.94-2.06 2.06-.94-2.06-.94-.94-2.06-.94 2.06-2.06.94z\"/><path d=\"M17.41 7.96l-1.37-1.37c-.4-.4-.92-.59-1.43-.59-.52 0-1.04.2-1.43.59L10.3 9.45l-7.72 7.72c-.78.78-.78 2.05 0 2.83L4 21.41c.39.39.9.59 1.41.59.51 0 1.02-.2 1.41-.59l7.78-7.78 2.81-2.81c.8-.78.8-2.07 0-2.86zM5.41 20L4 18.59l7.72-7.72 1.47 1.35L5.41 20z\"/>\n",
              "  </svg>\n",
              "      </button>\n",
              "      \n",
              "  <style>\n",
              "    .colab-df-container {\n",
              "      display:flex;\n",
              "      flex-wrap:wrap;\n",
              "      gap: 12px;\n",
              "    }\n",
              "\n",
              "    .colab-df-convert {\n",
              "      background-color: #E8F0FE;\n",
              "      border: none;\n",
              "      border-radius: 50%;\n",
              "      cursor: pointer;\n",
              "      display: none;\n",
              "      fill: #1967D2;\n",
              "      height: 32px;\n",
              "      padding: 0 0 0 0;\n",
              "      width: 32px;\n",
              "    }\n",
              "\n",
              "    .colab-df-convert:hover {\n",
              "      background-color: #E2EBFA;\n",
              "      box-shadow: 0px 1px 2px rgba(60, 64, 67, 0.3), 0px 1px 3px 1px rgba(60, 64, 67, 0.15);\n",
              "      fill: #174EA6;\n",
              "    }\n",
              "\n",
              "    [theme=dark] .colab-df-convert {\n",
              "      background-color: #3B4455;\n",
              "      fill: #D2E3FC;\n",
              "    }\n",
              "\n",
              "    [theme=dark] .colab-df-convert:hover {\n",
              "      background-color: #434B5C;\n",
              "      box-shadow: 0px 1px 3px 1px rgba(0, 0, 0, 0.15);\n",
              "      filter: drop-shadow(0px 1px 2px rgba(0, 0, 0, 0.3));\n",
              "      fill: #FFFFFF;\n",
              "    }\n",
              "  </style>\n",
              "\n",
              "      <script>\n",
              "        const buttonEl =\n",
              "          document.querySelector('#df-8500404c-78d2-4fac-b986-fe6af8792007 button.colab-df-convert');\n",
              "        buttonEl.style.display =\n",
              "          google.colab.kernel.accessAllowed ? 'block' : 'none';\n",
              "\n",
              "        async function convertToInteractive(key) {\n",
              "          const element = document.querySelector('#df-8500404c-78d2-4fac-b986-fe6af8792007');\n",
              "          const dataTable =\n",
              "            await google.colab.kernel.invokeFunction('convertToInteractive',\n",
              "                                                     [key], {});\n",
              "          if (!dataTable) return;\n",
              "\n",
              "          const docLinkHtml = 'Like what you see? Visit the ' +\n",
              "            '<a target=\"_blank\" href=https://colab.research.google.com/notebooks/data_table.ipynb>data table notebook</a>'\n",
              "            + ' to learn more about interactive tables.';\n",
              "          element.innerHTML = '';\n",
              "          dataTable['output_type'] = 'display_data';\n",
              "          await google.colab.output.renderOutput(dataTable, element);\n",
              "          const docLink = document.createElement('div');\n",
              "          docLink.innerHTML = docLinkHtml;\n",
              "          element.appendChild(docLink);\n",
              "        }\n",
              "      </script>\n",
              "    </div>\n",
              "  </div>\n",
              "  "
            ]
          },
          "metadata": {},
          "execution_count": 62
        }
      ]
    },
    {
      "cell_type": "code",
      "source": [
        "def get_prediction(test_data):\n",
        "    y_pred = best_model.predict(test_data)\n",
        "    y_pred = [True if y > 0.5 else False for y in y_pred]\n",
        "    df[\"Transported\"] = y_pred"
      ],
      "metadata": {
        "id": "aIrt_7Y9EYBB"
      },
      "execution_count": 63,
      "outputs": []
    },
    {
      "cell_type": "code",
      "source": [
        "get_prediction(X_test)"
      ],
      "metadata": {
        "colab": {
          "base_uri": "https://localhost:8080/"
        },
        "id": "YcbX30ApQgM4",
        "outputId": "77e4e2a5-fe79-496e-9799-09e58e2b1e79"
      },
      "execution_count": 64,
      "outputs": [
        {
          "output_type": "stream",
          "name": "stdout",
          "text": [
            "134/134 [==============================] - 0s 2ms/step\n"
          ]
        }
      ]
    },
    {
      "cell_type": "code",
      "source": [
        "np.unique(df[\"Transported\"])"
      ],
      "metadata": {
        "colab": {
          "base_uri": "https://localhost:8080/"
        },
        "id": "UqILkhvxQiqx",
        "outputId": "4dbd8e02-2d6d-4b98-c421-3d6d9cae8750"
      },
      "execution_count": 65,
      "outputs": [
        {
          "output_type": "execute_result",
          "data": {
            "text/plain": [
              "array([False,  True])"
            ]
          },
          "metadata": {},
          "execution_count": 65
        }
      ]
    },
    {
      "cell_type": "code",
      "source": [
        "df.to_csv(\"reports/output.csv\", index=False)"
      ],
      "metadata": {
        "id": "y_s_rqypdhWx"
      },
      "execution_count": 66,
      "outputs": []
    },
    {
      "cell_type": "code",
      "source": [],
      "metadata": {
        "id": "Z6SkUlZl4AIc"
      },
      "execution_count": null,
      "outputs": []
    }
  ]
}