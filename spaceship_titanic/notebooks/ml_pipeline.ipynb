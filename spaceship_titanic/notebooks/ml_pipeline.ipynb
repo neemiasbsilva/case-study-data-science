{
  "nbformat": 4,
  "nbformat_minor": 0,
  "metadata": {
    "colab": {
      "provenance": [],
      "collapsed_sections": [],
      "toc_visible": true,
      "mount_file_id": "1-XeaapTnaMguhuhc1G2J78TEAPmsCsF0",
      "authorship_tag": "ABX9TyP4RnBErPdy6RgXjTEaDf0V"
    },
    "kernelspec": {
      "name": "python3",
      "display_name": "Python 3"
    },
    "language_info": {
      "name": "python"
    },
    "accelerator": "GPU"
  },
  "cells": [
    {
      "cell_type": "markdown",
      "source": [
        "# Import Libraries"
      ],
      "metadata": {
        "id": "_wNjbJ0DWNVI"
      }
    },
    {
      "cell_type": "code",
      "source": [
        "!pip install keras-tuner --upgrade --quiet"
      ],
      "metadata": {
        "colab": {
          "base_uri": "https://localhost:8080/"
        },
        "id": "LIq7RuCF1rZC",
        "outputId": "5b6750f3-fb6d-4299-ae42-0a4df755be4a"
      },
      "execution_count": 1,
      "outputs": [
        {
          "output_type": "stream",
          "name": "stdout",
          "text": [
            "\u001b[K     |████████████████████████████████| 135 kB 16.3 MB/s \n",
            "\u001b[K     |████████████████████████████████| 1.6 MB 57.5 MB/s \n",
            "\u001b[?25h"
          ]
        }
      ]
    },
    {
      "cell_type": "code",
      "execution_count": 2,
      "metadata": {
        "id": "H79ymnebVV8-"
      },
      "outputs": [],
      "source": [
        "import numpy as np\n",
        "import os\n",
        "import pandas as pd\n",
        "from numpy.random import seed\n",
        "seed(42)\n",
        "\n",
        "import tensorflow\n",
        "tensorflow.random.set_seed(42)\n",
        "from sklearn.model_selection import train_test_split\n",
        "from sklearn.preprocessing import MinMaxScaler, StandardScaler\n",
        "from tensorflow import keras \n",
        "from tensorflow.keras import regularizers\n",
        "from keras_tuner import HyperModel, RandomSearch"
      ]
    },
    {
      "cell_type": "code",
      "source": [
        "os.chdir(\"/content/drive/MyDrive/deep_learning/spaceship_titanic\")\n",
        "%ls"
      ],
      "metadata": {
        "colab": {
          "base_uri": "https://localhost:8080/"
        },
        "id": "Y7Ae6Rj8WZ1b",
        "outputId": "03a194b5-4ca4-49bd-b00a-e620432d293b"
      },
      "execution_count": 3,
      "outputs": [
        {
          "output_type": "stream",
          "name": "stdout",
          "text": [
            "\u001b[0m\u001b[01;34mdata\u001b[0m/  kaggle.json  \u001b[01;34mnotebooks\u001b[0m/  \u001b[01;34mreports\u001b[0m/  test.npz\n"
          ]
        }
      ]
    },
    {
      "cell_type": "markdown",
      "source": [
        "# Load Dataset"
      ],
      "metadata": {
        "id": "AX3zRgYdWTbW"
      }
    },
    {
      "cell_type": "code",
      "source": [
        "data = np.load(\"data/train.npz\")\n",
        "X = data[\"x\"]\n",
        "y = data[\"y\"]\n",
        "X.shape"
      ],
      "metadata": {
        "colab": {
          "base_uri": "https://localhost:8080/"
        },
        "id": "WD_impkaWS0Z",
        "outputId": "1ff70549-c5e5-41f4-f095-9b0933b77e04"
      },
      "execution_count": 4,
      "outputs": [
        {
          "output_type": "execute_result",
          "data": {
            "text/plain": [
              "(8693, 16)"
            ]
          },
          "metadata": {},
          "execution_count": 4
        }
      ]
    },
    {
      "cell_type": "markdown",
      "source": [
        "# Split into train and validation"
      ],
      "metadata": {
        "id": "mZQyMLjvWt53"
      }
    },
    {
      "cell_type": "code",
      "source": [
        "X_train, X_val, y_train, y_val = train_test_split(X, y, test_size=0.25, random_state=42)\n",
        "\n",
        "print(f\"Amount of Train Samples: {len(X_train)} - Amount of Validation Sample: {len(X_val)}\")"
      ],
      "metadata": {
        "colab": {
          "base_uri": "https://localhost:8080/"
        },
        "id": "cbDT7pH7WtmV",
        "outputId": "d83c3e7f-920f-4c67-ba0d-5223c7df7d86"
      },
      "execution_count": 5,
      "outputs": [
        {
          "output_type": "stream",
          "name": "stdout",
          "text": [
            "Amount of Train Samples: 6519 - Amount of Validation Sample: 2174\n"
          ]
        }
      ]
    },
    {
      "cell_type": "markdown",
      "source": [
        "# Standardize Dataset"
      ],
      "metadata": {
        "id": "dxhxKyINcb8k"
      }
    },
    {
      "cell_type": "code",
      "source": [
        "# scaler = MinMaxScaler()\n",
        "# scaler = StandardScaler()\n",
        "# X_train = scaler.fit_transform(X_train)\n",
        "# X_val = scaler.transform(X_val) \n",
        "# X_train = np.reshape(X_train, newshape=(X_train.shape[0], X_train.shape[1], 1))\n",
        "# X_val = np.reshape(X_val, newshape=(X_val.shape[0], X_val.shape[1], 1))"
      ],
      "metadata": {
        "id": "UHvuWX8wcbDE"
      },
      "execution_count": 6,
      "outputs": []
    },
    {
      "cell_type": "markdown",
      "source": [
        "# Build FeedFoward Neural Network Model applying Tuner"
      ],
      "metadata": {
        "id": "mVMMteOOXHtH"
      }
    },
    {
      "cell_type": "code",
      "source": [
        "class BuildHyperModel(HyperModel):\n",
        "    def __init__(self, n_units_list, n_names_list, shape):\n",
        "        self.n_units_list = n_units_list\n",
        "        self.n_names_list = n_names_list\n",
        "        self.shape = shape\n",
        "\n",
        "    def build(self, hp):\n",
        "        input = keras.Input(shape=self.shape)\n",
        "\n",
        "        for i, (n_units, n_names) in enumerate(zip(self.n_units_list, self.n_names_list)):\n",
        "            if (i == 0):\n",
        "                x = keras.layers.Dense(hp.Int(f\"units_{i+1}\", n_units, n_units*2, default=n_units), \n",
        "                                        activation=hp.Choice(\n",
        "                                            f\"dense_activation_{i+1}\",\n",
        "                                            values=[\"relu\", \"elu\"],\n",
        "                                            default=\"relu\"), \n",
        "                                        name=n_names,\n",
        "                                        kernel_regularizer=regularizers.L2(\n",
        "                                            hp.Choice(\n",
        "                                                f\"l2_{i+1}\",\n",
        "                                                values=[1e-3, 1e-4],\n",
        "                                                default=1e-4\n",
        "                                            )\n",
        "                                            ))(input)\n",
        "                x = keras.layers.BatchNormalization()(x)\n",
        "                x = keras.layers.Dropout(hp.Float(\n",
        "                    f\"dropout_{i+1}\",\n",
        "                    min_value=0.45,\n",
        "                    max_value=0.5,\n",
        "                    default=0.5,\n",
        "                    step = 0.01\n",
        "                ))(x)\n",
        "            else:\n",
        "                x = keras.layers.Dense(hp.Int(f\"units_{i+1}\", n_units, n_units*2, default=n_units), \n",
        "                                        activation=hp.Choice(\n",
        "                                            f\"dense_activation_{i+1}\",\n",
        "                                            values=[\"relu\", \"elu\"],\n",
        "                                            default=\"relu\"), \n",
        "                                        name=n_names,\n",
        "                                        kernel_regularizer=regularizers.L2(\n",
        "                                            hp.Choice(\n",
        "                                                f\"l2_{i+1}\",\n",
        "                                                values=[1e-3, 1e-4],\n",
        "                                                default=1e-4\n",
        "                                            )\n",
        "                                            ))(x)\n",
        "                x = keras.layers.BatchNormalization()(x)\n",
        "                x = keras.layers.Dropout(hp.Float(\n",
        "                    f\"dropout_{i+1}\",\n",
        "                    min_value=0.45,\n",
        "                    max_value=0.5,\n",
        "                    default=0.5,\n",
        "                    step = 0.01\n",
        "                ))(x)\n",
        "\n",
        "        n_units = int(self.n_units_list[-1]//2)\n",
        "        x = keras.layers.Dense(\n",
        "            hp.Int(\n",
        "                \"units_last_hidden\",\n",
        "                n_units, n_units*2, default=n_units\n",
        "                ),\n",
        "            activation=hp.Choice(\n",
        "                \"dense_activation_last_hidden\",\n",
        "                values=[\"relu\", \"elu\"],\n",
        "                default=\"relu\"\n",
        "            ),\n",
        "            kernel_regularizer=regularizers.L2(\n",
        "                hp.Choice(\n",
        "                    \"l2_last_hidden\",\n",
        "                    values=[1e-3, 1e-4],\n",
        "                    default=1e-4\n",
        "                )\n",
        "            ),\n",
        "            name=\"last_hidden\")(x)\n",
        "        output = keras.layers.Dense(1, activation=\"sigmoid\", name=\"output\")(x)\n",
        "        model = keras.Model(inputs=input, outputs=output)\n",
        "        \n",
        "        lr = hp.Choice(\n",
        "            \"learning_rate\",\n",
        "            values=[1e-3, 1e-4]\n",
        "        )\n",
        "        optimizer = keras.optimizers.Adam(learning_rate=lr)\n",
        "        metrics = [\n",
        "            keras.metrics.BinaryAccuracy(name=\"accuracy\"),\n",
        "            keras.metrics.AUC(),\n",
        "        ]\n",
        "        model.compile(loss=keras.losses.BinaryCrossentropy(from_logits = True), optimizer=optimizer, metrics=metrics)\n",
        "        return model"
      ],
      "metadata": {
        "id": "FMGFYNHIWr0F"
      },
      "execution_count": 62,
      "outputs": []
    },
    {
      "cell_type": "code",
      "source": [
        "n_units = [16, 32]\n",
        "n_names = [\"hidden_1\"]\n",
        "shape = X_train.shape[1:]\n",
        "hm = BuildHyperModel(n_units, n_names, shape)"
      ],
      "metadata": {
        "id": "-dRoQi86ZZ3s"
      },
      "execution_count": 63,
      "outputs": []
    },
    {
      "cell_type": "code",
      "source": [
        "rs_tuner = RandomSearch(\n",
        "    hm,\n",
        "    objective=\"val_accuracy\",\n",
        "    seed=42,\n",
        "    max_trials=10,\n",
        "    executions_per_trial=3,\n",
        "    overwrite=True,\n",
        "    directory=\"reports\",\n",
        "    project_name=\"random_search\"\n",
        ")"
      ],
      "metadata": {
        "id": "rmyoNaDO7wvh"
      },
      "execution_count": 64,
      "outputs": []
    },
    {
      "cell_type": "code",
      "source": [
        "rs_tuner.search_space_summary()"
      ],
      "metadata": {
        "colab": {
          "base_uri": "https://localhost:8080/"
        },
        "id": "mjs6dezHWxNx",
        "outputId": "6695a68b-da81-4d9a-fdb2-4aad4d30e7c5"
      },
      "execution_count": 65,
      "outputs": [
        {
          "output_type": "stream",
          "name": "stdout",
          "text": [
            "Search space summary\n",
            "Default search space size: 8\n",
            "units_1 (Int)\n",
            "{'default': 16, 'conditions': [], 'min_value': 16, 'max_value': 32, 'step': 1, 'sampling': None}\n",
            "dense_activation_1 (Choice)\n",
            "{'default': 'relu', 'conditions': [], 'values': ['relu', 'elu'], 'ordered': False}\n",
            "l2_1 (Choice)\n",
            "{'default': 0.0001, 'conditions': [], 'values': [0.001, 0.0001], 'ordered': True}\n",
            "dropout_1 (Float)\n",
            "{'default': 0.5, 'conditions': [], 'min_value': 0.45, 'max_value': 0.5, 'step': 0.01, 'sampling': None}\n",
            "units_last_hidden (Int)\n",
            "{'default': 16, 'conditions': [], 'min_value': 16, 'max_value': 32, 'step': 1, 'sampling': None}\n",
            "dense_activation_last_hidden (Choice)\n",
            "{'default': 'relu', 'conditions': [], 'values': ['relu', 'elu'], 'ordered': False}\n",
            "l2_last_hidden (Choice)\n",
            "{'default': 0.0001, 'conditions': [], 'values': [0.001, 0.0001], 'ordered': True}\n",
            "learning_rate (Choice)\n",
            "{'default': 0.001, 'conditions': [], 'values': [0.001, 0.0001], 'ordered': True}\n"
          ]
        }
      ]
    },
    {
      "cell_type": "markdown",
      "source": [
        "# Run Random Search tuner"
      ],
      "metadata": {
        "id": "HYmUxsct9nJ7"
      }
    },
    {
      "cell_type": "code",
      "source": [
        "callbacks = [\n",
        "    keras.callbacks.EarlyStopping(monitor=\"val_accuracy\", mode=\"max\", patience=8),\n",
        "    keras.callbacks.ReduceLROnPlateau(monitor=\"val_accuracy\", patience=3, mode=\"max\",\n",
        "                                      )\n",
        "]"
      ],
      "metadata": {
        "id": "A6Ie00KS_Ajv"
      },
      "execution_count": 66,
      "outputs": []
    },
    {
      "cell_type": "code",
      "source": [
        "rs_tuner.search(X_train, y_train, epochs=200,\n",
        "                validation_data=(X_val, y_val), verbose=1, callbacks=callbacks,\n",
        "                batch_size=64)"
      ],
      "metadata": {
        "colab": {
          "base_uri": "https://localhost:8080/"
        },
        "id": "jixLPj2y9q0y",
        "outputId": "dc0b44bd-8c17-4efb-cb7f-17c1590ad0c4"
      },
      "execution_count": 67,
      "outputs": [
        {
          "output_type": "stream",
          "name": "stdout",
          "text": [
            "Trial 10 Complete [00h 00m 48s]\n",
            "val_accuracy: 0.7850352724393209\n",
            "\n",
            "Best val_accuracy So Far: 0.7850352724393209\n",
            "Total elapsed time: 00h 09m 19s\n"
          ]
        }
      ]
    },
    {
      "cell_type": "code",
      "source": [
        "best_model = rs_tuner.get_best_models(num_models=1)[0]\n",
        "best_model.summary()"
      ],
      "metadata": {
        "colab": {
          "base_uri": "https://localhost:8080/"
        },
        "id": "hDt14oCS9TkZ",
        "outputId": "f0154a32-f4b3-4c91-a00c-da40b415f675"
      },
      "execution_count": 68,
      "outputs": [
        {
          "output_type": "stream",
          "name": "stdout",
          "text": [
            "Model: \"model\"\n",
            "_________________________________________________________________\n",
            " Layer (type)                Output Shape              Param #   \n",
            "=================================================================\n",
            " input_1 (InputLayer)        [(None, 16)]              0         \n",
            "                                                                 \n",
            " hidden_1 (Dense)            (None, 20)                340       \n",
            "                                                                 \n",
            " batch_normalization (BatchN  (None, 20)               80        \n",
            " ormalization)                                                   \n",
            "                                                                 \n",
            " dropout (Dropout)           (None, 20)                0         \n",
            "                                                                 \n",
            " last_hidden (Dense)         (None, 27)                567       \n",
            "                                                                 \n",
            " output (Dense)              (None, 1)                 28        \n",
            "                                                                 \n",
            "=================================================================\n",
            "Total params: 1,015\n",
            "Trainable params: 975\n",
            "Non-trainable params: 40\n",
            "_________________________________________________________________\n"
          ]
        }
      ]
    },
    {
      "cell_type": "code",
      "source": [
        "loss, accuracy, auc = best_model.evaluate(X_val, y_val)"
      ],
      "metadata": {
        "colab": {
          "base_uri": "https://localhost:8080/"
        },
        "id": "VdHdG6yMGYGl",
        "outputId": "8f801a17-ccf2-4156-dfec-4b1b86851948"
      },
      "execution_count": 69,
      "outputs": [
        {
          "output_type": "stream",
          "name": "stdout",
          "text": [
            "68/68 [==============================] - 0s 3ms/step - loss: 0.4751 - accuracy: 0.7861 - auc: 0.8636\n"
          ]
        }
      ]
    },
    {
      "cell_type": "markdown",
      "source": [
        "# Save Best Model"
      ],
      "metadata": {
        "id": "DOGFoYXJZ7Nu"
      }
    },
    {
      "cell_type": "code",
      "source": [
        "best_model.save(\"reports/final_model.h5\")"
      ],
      "metadata": {
        "id": "aiOKlUytZvlV"
      },
      "execution_count": 70,
      "outputs": []
    },
    {
      "cell_type": "markdown",
      "source": [
        "# Predict Submission Dataset"
      ],
      "metadata": {
        "id": "LHmti67KeXdk"
      }
    },
    {
      "cell_type": "code",
      "source": [
        "X_test = np.load(\"data/test.npz\")[\"x\"]\n",
        "\n",
        "X_test.shape"
      ],
      "metadata": {
        "colab": {
          "base_uri": "https://localhost:8080/"
        },
        "id": "RRuqK5_aeWzf",
        "outputId": "69cf6879-45bc-49a2-d05b-36b92d9a157e"
      },
      "execution_count": 71,
      "outputs": [
        {
          "output_type": "execute_result",
          "data": {
            "text/plain": [
              "(4277, 16)"
            ]
          },
          "metadata": {},
          "execution_count": 71
        }
      ]
    },
    {
      "cell_type": "code",
      "source": [
        "y_pred = best_model.predict(X_test,)"
      ],
      "metadata": {
        "colab": {
          "base_uri": "https://localhost:8080/"
        },
        "id": "UyYUalwHjB71",
        "outputId": "35da2135-13a0-4ca1-bad5-46622a993d67"
      },
      "execution_count": 72,
      "outputs": [
        {
          "output_type": "stream",
          "name": "stdout",
          "text": [
            "134/134 [==============================] - 0s 1ms/step\n"
          ]
        }
      ]
    },
    {
      "cell_type": "code",
      "source": [
        "np.unique(y_pred)"
      ],
      "metadata": {
        "colab": {
          "base_uri": "https://localhost:8080/"
        },
        "id": "ZsHSiKCocuul",
        "outputId": "c1b73c83-a1cf-4c1e-de03-19c1c14eac33"
      },
      "execution_count": 73,
      "outputs": [
        {
          "output_type": "execute_result",
          "data": {
            "text/plain": [
              "array([0.57035404, 0.57091355, 0.5715986 , ..., 0.96966994, 0.96967834,\n",
              "       0.9696941 ], dtype=float32)"
            ]
          },
          "metadata": {},
          "execution_count": 73
        }
      ]
    },
    {
      "cell_type": "code",
      "source": [
        "df = pd.read_csv(\"data/sample_submission.csv\")\n",
        "df.head()"
      ],
      "metadata": {
        "colab": {
          "base_uri": "https://localhost:8080/",
          "height": 206
        },
        "id": "PHrpiUc2EVBF",
        "outputId": "2a8942d2-d0cd-4a33-c4ce-912a35f3c3bb"
      },
      "execution_count": 74,
      "outputs": [
        {
          "output_type": "execute_result",
          "data": {
            "text/plain": [
              "  PassengerId  Transported\n",
              "0     0013_01        False\n",
              "1     0018_01        False\n",
              "2     0019_01        False\n",
              "3     0021_01        False\n",
              "4     0023_01        False"
            ],
            "text/html": [
              "\n",
              "  <div id=\"df-39b977dc-ccd5-4db5-b53f-fec238b7ac97\">\n",
              "    <div class=\"colab-df-container\">\n",
              "      <div>\n",
              "<style scoped>\n",
              "    .dataframe tbody tr th:only-of-type {\n",
              "        vertical-align: middle;\n",
              "    }\n",
              "\n",
              "    .dataframe tbody tr th {\n",
              "        vertical-align: top;\n",
              "    }\n",
              "\n",
              "    .dataframe thead th {\n",
              "        text-align: right;\n",
              "    }\n",
              "</style>\n",
              "<table border=\"1\" class=\"dataframe\">\n",
              "  <thead>\n",
              "    <tr style=\"text-align: right;\">\n",
              "      <th></th>\n",
              "      <th>PassengerId</th>\n",
              "      <th>Transported</th>\n",
              "    </tr>\n",
              "  </thead>\n",
              "  <tbody>\n",
              "    <tr>\n",
              "      <th>0</th>\n",
              "      <td>0013_01</td>\n",
              "      <td>False</td>\n",
              "    </tr>\n",
              "    <tr>\n",
              "      <th>1</th>\n",
              "      <td>0018_01</td>\n",
              "      <td>False</td>\n",
              "    </tr>\n",
              "    <tr>\n",
              "      <th>2</th>\n",
              "      <td>0019_01</td>\n",
              "      <td>False</td>\n",
              "    </tr>\n",
              "    <tr>\n",
              "      <th>3</th>\n",
              "      <td>0021_01</td>\n",
              "      <td>False</td>\n",
              "    </tr>\n",
              "    <tr>\n",
              "      <th>4</th>\n",
              "      <td>0023_01</td>\n",
              "      <td>False</td>\n",
              "    </tr>\n",
              "  </tbody>\n",
              "</table>\n",
              "</div>\n",
              "      <button class=\"colab-df-convert\" onclick=\"convertToInteractive('df-39b977dc-ccd5-4db5-b53f-fec238b7ac97')\"\n",
              "              title=\"Convert this dataframe to an interactive table.\"\n",
              "              style=\"display:none;\">\n",
              "        \n",
              "  <svg xmlns=\"http://www.w3.org/2000/svg\" height=\"24px\"viewBox=\"0 0 24 24\"\n",
              "       width=\"24px\">\n",
              "    <path d=\"M0 0h24v24H0V0z\" fill=\"none\"/>\n",
              "    <path d=\"M18.56 5.44l.94 2.06.94-2.06 2.06-.94-2.06-.94-.94-2.06-.94 2.06-2.06.94zm-11 1L8.5 8.5l.94-2.06 2.06-.94-2.06-.94L8.5 2.5l-.94 2.06-2.06.94zm10 10l.94 2.06.94-2.06 2.06-.94-2.06-.94-.94-2.06-.94 2.06-2.06.94z\"/><path d=\"M17.41 7.96l-1.37-1.37c-.4-.4-.92-.59-1.43-.59-.52 0-1.04.2-1.43.59L10.3 9.45l-7.72 7.72c-.78.78-.78 2.05 0 2.83L4 21.41c.39.39.9.59 1.41.59.51 0 1.02-.2 1.41-.59l7.78-7.78 2.81-2.81c.8-.78.8-2.07 0-2.86zM5.41 20L4 18.59l7.72-7.72 1.47 1.35L5.41 20z\"/>\n",
              "  </svg>\n",
              "      </button>\n",
              "      \n",
              "  <style>\n",
              "    .colab-df-container {\n",
              "      display:flex;\n",
              "      flex-wrap:wrap;\n",
              "      gap: 12px;\n",
              "    }\n",
              "\n",
              "    .colab-df-convert {\n",
              "      background-color: #E8F0FE;\n",
              "      border: none;\n",
              "      border-radius: 50%;\n",
              "      cursor: pointer;\n",
              "      display: none;\n",
              "      fill: #1967D2;\n",
              "      height: 32px;\n",
              "      padding: 0 0 0 0;\n",
              "      width: 32px;\n",
              "    }\n",
              "\n",
              "    .colab-df-convert:hover {\n",
              "      background-color: #E2EBFA;\n",
              "      box-shadow: 0px 1px 2px rgba(60, 64, 67, 0.3), 0px 1px 3px 1px rgba(60, 64, 67, 0.15);\n",
              "      fill: #174EA6;\n",
              "    }\n",
              "\n",
              "    [theme=dark] .colab-df-convert {\n",
              "      background-color: #3B4455;\n",
              "      fill: #D2E3FC;\n",
              "    }\n",
              "\n",
              "    [theme=dark] .colab-df-convert:hover {\n",
              "      background-color: #434B5C;\n",
              "      box-shadow: 0px 1px 3px 1px rgba(0, 0, 0, 0.15);\n",
              "      filter: drop-shadow(0px 1px 2px rgba(0, 0, 0, 0.3));\n",
              "      fill: #FFFFFF;\n",
              "    }\n",
              "  </style>\n",
              "\n",
              "      <script>\n",
              "        const buttonEl =\n",
              "          document.querySelector('#df-39b977dc-ccd5-4db5-b53f-fec238b7ac97 button.colab-df-convert');\n",
              "        buttonEl.style.display =\n",
              "          google.colab.kernel.accessAllowed ? 'block' : 'none';\n",
              "\n",
              "        async function convertToInteractive(key) {\n",
              "          const element = document.querySelector('#df-39b977dc-ccd5-4db5-b53f-fec238b7ac97');\n",
              "          const dataTable =\n",
              "            await google.colab.kernel.invokeFunction('convertToInteractive',\n",
              "                                                     [key], {});\n",
              "          if (!dataTable) return;\n",
              "\n",
              "          const docLinkHtml = 'Like what you see? Visit the ' +\n",
              "            '<a target=\"_blank\" href=https://colab.research.google.com/notebooks/data_table.ipynb>data table notebook</a>'\n",
              "            + ' to learn more about interactive tables.';\n",
              "          element.innerHTML = '';\n",
              "          dataTable['output_type'] = 'display_data';\n",
              "          await google.colab.output.renderOutput(dataTable, element);\n",
              "          const docLink = document.createElement('div');\n",
              "          docLink.innerHTML = docLinkHtml;\n",
              "          element.appendChild(docLink);\n",
              "        }\n",
              "      </script>\n",
              "    </div>\n",
              "  </div>\n",
              "  "
            ]
          },
          "metadata": {},
          "execution_count": 74
        }
      ]
    },
    {
      "cell_type": "code",
      "source": [
        "def get_prediction(test_data):\n",
        "    y_pred = best_model.predict(test_data)\n",
        "    y_pred = [True if y > 0.5 else False for y in y_pred]\n",
        "    df[\"Transported\"] = y_pred"
      ],
      "metadata": {
        "id": "aIrt_7Y9EYBB"
      },
      "execution_count": 75,
      "outputs": []
    },
    {
      "cell_type": "code",
      "source": [
        "get_prediction(X_test)"
      ],
      "metadata": {
        "colab": {
          "base_uri": "https://localhost:8080/"
        },
        "id": "YcbX30ApQgM4",
        "outputId": "a9589d76-7e42-4a7c-be08-9a093a3ebb4f"
      },
      "execution_count": 76,
      "outputs": [
        {
          "output_type": "stream",
          "name": "stdout",
          "text": [
            "134/134 [==============================] - 0s 1ms/step\n"
          ]
        }
      ]
    },
    {
      "cell_type": "code",
      "source": [
        "np.unique(df[\"Transported\"])"
      ],
      "metadata": {
        "colab": {
          "base_uri": "https://localhost:8080/"
        },
        "id": "UqILkhvxQiqx",
        "outputId": "8edfa54a-9b74-4851-801e-0ca34998d7ae"
      },
      "execution_count": 77,
      "outputs": [
        {
          "output_type": "execute_result",
          "data": {
            "text/plain": [
              "array([ True])"
            ]
          },
          "metadata": {},
          "execution_count": 77
        }
      ]
    },
    {
      "cell_type": "code",
      "source": [
        "df.to_csv(\"reports/output.csv\", index=False)"
      ],
      "metadata": {
        "id": "y_s_rqypdhWx"
      },
      "execution_count": 78,
      "outputs": []
    }
  ]
}