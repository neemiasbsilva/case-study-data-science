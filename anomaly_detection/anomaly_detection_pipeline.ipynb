{
  "nbformat": 4,
  "nbformat_minor": 0,
  "metadata": {
    "colab": {
      "name": "anomaly_detection_pipeline.ipynb",
      "provenance": [],
      "mount_file_id": "1RdJXKqgBHSRnMeRwOrNl0rJHf8CP10j6",
      "authorship_tag": "ABX9TyPhQeAKyfvCAhNClWFiMqnx"
    },
    "kernelspec": {
      "name": "python3",
      "display_name": "Python 3"
    },
    "language_info": {
      "name": "python"
    },
    "gpuClass": "standard"
  },
  "cells": [
    {
      "cell_type": "markdown",
      "source": [
        "# Setup & Import Libraries"
      ],
      "metadata": {
        "id": "wHleLGsipmgF"
      }
    },
    {
      "cell_type": "code",
      "source": [
        "!pip install Jinja2 -q\n",
        "!pip install pycaret -q\n",
        "!pip install ipympl -q\n",
        "!python -m pip uninstall matplotlib\n",
        "!pip install matplotlib==3.1.3 -q"
      ],
      "metadata": {
        "colab": {
          "base_uri": "https://localhost:8080/"
        },
        "id": "KMxNfY1DqNxT",
        "outputId": "6812f950-3706-4213-e916-d47529fad258"
      },
      "execution_count": 30,
      "outputs": [
        {
          "output_type": "stream",
          "name": "stdout",
          "text": [
            "Found existing installation: matplotlib 3.5.3\n",
            "Uninstalling matplotlib-3.5.3:\n",
            "  Would remove:\n",
            "    /usr/local/lib/python3.7/dist-packages/matplotlib-3.5.3-py3.7-nspkg.pth\n",
            "    /usr/local/lib/python3.7/dist-packages/matplotlib-3.5.3.dist-info/*\n",
            "    /usr/local/lib/python3.7/dist-packages/matplotlib/*\n",
            "    /usr/local/lib/python3.7/dist-packages/mpl_toolkits/axes_grid/*\n",
            "    /usr/local/lib/python3.7/dist-packages/mpl_toolkits/axes_grid1/*\n",
            "    /usr/local/lib/python3.7/dist-packages/mpl_toolkits/axisartist/*\n",
            "    /usr/local/lib/python3.7/dist-packages/mpl_toolkits/mplot3d/*\n",
            "    /usr/local/lib/python3.7/dist-packages/mpl_toolkits/tests/*\n",
            "    /usr/local/lib/python3.7/dist-packages/pylab.py\n",
            "Proceed (y/n)? y\n",
            "  Successfully uninstalled matplotlib-3.5.3\n",
            "\u001b[K     |████████████████████████████████| 13.1 MB 4.5 MB/s \n",
            "\u001b[31mERROR: pip's dependency resolver does not currently take into account all the packages that are installed. This behaviour is the source of the following dependency conflicts.\n",
            "pandas-profiling 3.2.0 requires matplotlib>=3.2.0, but you have matplotlib 3.1.3 which is incompatible.\n",
            "ipympl 0.9.2 requires matplotlib<4,>=3.4.0, but you have matplotlib 3.1.3 which is incompatible.\u001b[0m\n",
            "\u001b[?25h"
          ]
        }
      ]
    },
    {
      "cell_type": "code",
      "source": [
        "import pycaret"
      ],
      "metadata": {
        "id": "je-pE1PTrYrV"
      },
      "execution_count": 11,
      "outputs": []
    },
    {
      "cell_type": "code",
      "execution_count": 24,
      "metadata": {
        "id": "kiyBFBXJpcgV"
      },
      "outputs": [],
      "source": [
        "import os\n",
        "import numpy as np\n",
        "import pandas as pd\n",
        "import pycaret\n",
        "from sklearn import preprocessing\n",
        "from sklearn.ensemble import IsolationForest\n",
        "from sklearn.cluster import KMeans\n",
        "from scipy.stats import kurtosis\n",
        "from sklearn.decomposition import PCA\n",
        "\n",
        "import seaborn as sns\n",
        "import matplotlib.pyplot as plt\n",
        "from mpl_toolkits.mplot3d import Axes3D\n",
        "import ipympl\n",
        "%matplotlib inline"
      ]
    },
    {
      "cell_type": "markdown",
      "source": [
        "# Load Dataset"
      ],
      "metadata": {
        "id": "BZa2LaTptHRG"
      }
    },
    {
      "cell_type": "code",
      "source": [
        "df = pd.read_csv(\"data.csv\", sep=';', header=0)\n",
        "\n",
        "df.head()"
      ],
      "metadata": {
        "colab": {
          "base_uri": "https://localhost:8080/",
          "height": 300
        },
        "id": "XRjie8Ocp3hr",
        "outputId": "9d958173-1153-4df6-de70-5e6b245566df"
      },
      "execution_count": 21,
      "outputs": [
        {
          "output_type": "execute_result",
          "data": {
            "text/plain": [
              "   idnr  b1            b2   b3    b4  c1  c2            c3   c4   c5  ...  \\\n",
              "0     1   0  b982aebe4b85  306  2698   0   0  7e8b1406d903  0.0  0.0  ...   \n",
              "1     2   0  615d2eb5810a  105   145   0   0  7e8b1406d903  0.0  0.0  ...   \n",
              "2     3   0  b982aebe4b85  197  9287   0   0  7e8b1406d903  0.0  0.0  ...   \n",
              "3     4   0  b982aebe4b85  247  1581   0   0  7e8b1406d903  0.0  0.0  ...   \n",
              "4     5   0  b982aebe4b85  233  1120   0   0  7e8b1406d903  0.0  0.0  ...   \n",
              "\n",
              "    c28           c29   c30 c31   c32  c33  c34  c35  c36  c37  \n",
              "0  1.00  7e8b1406d903  0.00   0  0.00  0.0  0.0  0.0    0  255  \n",
              "1  0.86  7e8b1406d903  0.00   0  0.01  0.0  0.0  0.0    0  115  \n",
              "2  1.00  7e8b1406d903  0.00   0  0.00  0.0  0.0  0.0    0  255  \n",
              "3  1.00  7e8b1406d903  0.03   0  0.20  0.0  0.0  0.0    0    5  \n",
              "4  1.00  7e8b1406d903  0.04   0  0.01  0.0  0.0  0.0    0   68  \n",
              "\n",
              "[5 rows x 42 columns]"
            ],
            "text/html": [
              "\n",
              "  <div id=\"df-0c77fc90-36eb-4e52-9c3a-41f4fb2a7598\">\n",
              "    <div class=\"colab-df-container\">\n",
              "      <div>\n",
              "<style scoped>\n",
              "    .dataframe tbody tr th:only-of-type {\n",
              "        vertical-align: middle;\n",
              "    }\n",
              "\n",
              "    .dataframe tbody tr th {\n",
              "        vertical-align: top;\n",
              "    }\n",
              "\n",
              "    .dataframe thead th {\n",
              "        text-align: right;\n",
              "    }\n",
              "</style>\n",
              "<table border=\"1\" class=\"dataframe\">\n",
              "  <thead>\n",
              "    <tr style=\"text-align: right;\">\n",
              "      <th></th>\n",
              "      <th>idnr</th>\n",
              "      <th>b1</th>\n",
              "      <th>b2</th>\n",
              "      <th>b3</th>\n",
              "      <th>b4</th>\n",
              "      <th>c1</th>\n",
              "      <th>c2</th>\n",
              "      <th>c3</th>\n",
              "      <th>c4</th>\n",
              "      <th>c5</th>\n",
              "      <th>...</th>\n",
              "      <th>c28</th>\n",
              "      <th>c29</th>\n",
              "      <th>c30</th>\n",
              "      <th>c31</th>\n",
              "      <th>c32</th>\n",
              "      <th>c33</th>\n",
              "      <th>c34</th>\n",
              "      <th>c35</th>\n",
              "      <th>c36</th>\n",
              "      <th>c37</th>\n",
              "    </tr>\n",
              "  </thead>\n",
              "  <tbody>\n",
              "    <tr>\n",
              "      <th>0</th>\n",
              "      <td>1</td>\n",
              "      <td>0</td>\n",
              "      <td>b982aebe4b85</td>\n",
              "      <td>306</td>\n",
              "      <td>2698</td>\n",
              "      <td>0</td>\n",
              "      <td>0</td>\n",
              "      <td>7e8b1406d903</td>\n",
              "      <td>0.0</td>\n",
              "      <td>0.0</td>\n",
              "      <td>...</td>\n",
              "      <td>1.00</td>\n",
              "      <td>7e8b1406d903</td>\n",
              "      <td>0.00</td>\n",
              "      <td>0</td>\n",
              "      <td>0.00</td>\n",
              "      <td>0.0</td>\n",
              "      <td>0.0</td>\n",
              "      <td>0.0</td>\n",
              "      <td>0</td>\n",
              "      <td>255</td>\n",
              "    </tr>\n",
              "    <tr>\n",
              "      <th>1</th>\n",
              "      <td>2</td>\n",
              "      <td>0</td>\n",
              "      <td>615d2eb5810a</td>\n",
              "      <td>105</td>\n",
              "      <td>145</td>\n",
              "      <td>0</td>\n",
              "      <td>0</td>\n",
              "      <td>7e8b1406d903</td>\n",
              "      <td>0.0</td>\n",
              "      <td>0.0</td>\n",
              "      <td>...</td>\n",
              "      <td>0.86</td>\n",
              "      <td>7e8b1406d903</td>\n",
              "      <td>0.00</td>\n",
              "      <td>0</td>\n",
              "      <td>0.01</td>\n",
              "      <td>0.0</td>\n",
              "      <td>0.0</td>\n",
              "      <td>0.0</td>\n",
              "      <td>0</td>\n",
              "      <td>115</td>\n",
              "    </tr>\n",
              "    <tr>\n",
              "      <th>2</th>\n",
              "      <td>3</td>\n",
              "      <td>0</td>\n",
              "      <td>b982aebe4b85</td>\n",
              "      <td>197</td>\n",
              "      <td>9287</td>\n",
              "      <td>0</td>\n",
              "      <td>0</td>\n",
              "      <td>7e8b1406d903</td>\n",
              "      <td>0.0</td>\n",
              "      <td>0.0</td>\n",
              "      <td>...</td>\n",
              "      <td>1.00</td>\n",
              "      <td>7e8b1406d903</td>\n",
              "      <td>0.00</td>\n",
              "      <td>0</td>\n",
              "      <td>0.00</td>\n",
              "      <td>0.0</td>\n",
              "      <td>0.0</td>\n",
              "      <td>0.0</td>\n",
              "      <td>0</td>\n",
              "      <td>255</td>\n",
              "    </tr>\n",
              "    <tr>\n",
              "      <th>3</th>\n",
              "      <td>4</td>\n",
              "      <td>0</td>\n",
              "      <td>b982aebe4b85</td>\n",
              "      <td>247</td>\n",
              "      <td>1581</td>\n",
              "      <td>0</td>\n",
              "      <td>0</td>\n",
              "      <td>7e8b1406d903</td>\n",
              "      <td>0.0</td>\n",
              "      <td>0.0</td>\n",
              "      <td>...</td>\n",
              "      <td>1.00</td>\n",
              "      <td>7e8b1406d903</td>\n",
              "      <td>0.03</td>\n",
              "      <td>0</td>\n",
              "      <td>0.20</td>\n",
              "      <td>0.0</td>\n",
              "      <td>0.0</td>\n",
              "      <td>0.0</td>\n",
              "      <td>0</td>\n",
              "      <td>5</td>\n",
              "    </tr>\n",
              "    <tr>\n",
              "      <th>4</th>\n",
              "      <td>5</td>\n",
              "      <td>0</td>\n",
              "      <td>b982aebe4b85</td>\n",
              "      <td>233</td>\n",
              "      <td>1120</td>\n",
              "      <td>0</td>\n",
              "      <td>0</td>\n",
              "      <td>7e8b1406d903</td>\n",
              "      <td>0.0</td>\n",
              "      <td>0.0</td>\n",
              "      <td>...</td>\n",
              "      <td>1.00</td>\n",
              "      <td>7e8b1406d903</td>\n",
              "      <td>0.04</td>\n",
              "      <td>0</td>\n",
              "      <td>0.01</td>\n",
              "      <td>0.0</td>\n",
              "      <td>0.0</td>\n",
              "      <td>0.0</td>\n",
              "      <td>0</td>\n",
              "      <td>68</td>\n",
              "    </tr>\n",
              "  </tbody>\n",
              "</table>\n",
              "<p>5 rows × 42 columns</p>\n",
              "</div>\n",
              "      <button class=\"colab-df-convert\" onclick=\"convertToInteractive('df-0c77fc90-36eb-4e52-9c3a-41f4fb2a7598')\"\n",
              "              title=\"Convert this dataframe to an interactive table.\"\n",
              "              style=\"display:none;\">\n",
              "        \n",
              "  <svg xmlns=\"http://www.w3.org/2000/svg\" height=\"24px\"viewBox=\"0 0 24 24\"\n",
              "       width=\"24px\">\n",
              "    <path d=\"M0 0h24v24H0V0z\" fill=\"none\"/>\n",
              "    <path d=\"M18.56 5.44l.94 2.06.94-2.06 2.06-.94-2.06-.94-.94-2.06-.94 2.06-2.06.94zm-11 1L8.5 8.5l.94-2.06 2.06-.94-2.06-.94L8.5 2.5l-.94 2.06-2.06.94zm10 10l.94 2.06.94-2.06 2.06-.94-2.06-.94-.94-2.06-.94 2.06-2.06.94z\"/><path d=\"M17.41 7.96l-1.37-1.37c-.4-.4-.92-.59-1.43-.59-.52 0-1.04.2-1.43.59L10.3 9.45l-7.72 7.72c-.78.78-.78 2.05 0 2.83L4 21.41c.39.39.9.59 1.41.59.51 0 1.02-.2 1.41-.59l7.78-7.78 2.81-2.81c.8-.78.8-2.07 0-2.86zM5.41 20L4 18.59l7.72-7.72 1.47 1.35L5.41 20z\"/>\n",
              "  </svg>\n",
              "      </button>\n",
              "      \n",
              "  <style>\n",
              "    .colab-df-container {\n",
              "      display:flex;\n",
              "      flex-wrap:wrap;\n",
              "      gap: 12px;\n",
              "    }\n",
              "\n",
              "    .colab-df-convert {\n",
              "      background-color: #E8F0FE;\n",
              "      border: none;\n",
              "      border-radius: 50%;\n",
              "      cursor: pointer;\n",
              "      display: none;\n",
              "      fill: #1967D2;\n",
              "      height: 32px;\n",
              "      padding: 0 0 0 0;\n",
              "      width: 32px;\n",
              "    }\n",
              "\n",
              "    .colab-df-convert:hover {\n",
              "      background-color: #E2EBFA;\n",
              "      box-shadow: 0px 1px 2px rgba(60, 64, 67, 0.3), 0px 1px 3px 1px rgba(60, 64, 67, 0.15);\n",
              "      fill: #174EA6;\n",
              "    }\n",
              "\n",
              "    [theme=dark] .colab-df-convert {\n",
              "      background-color: #3B4455;\n",
              "      fill: #D2E3FC;\n",
              "    }\n",
              "\n",
              "    [theme=dark] .colab-df-convert:hover {\n",
              "      background-color: #434B5C;\n",
              "      box-shadow: 0px 1px 3px 1px rgba(0, 0, 0, 0.15);\n",
              "      filter: drop-shadow(0px 1px 2px rgba(0, 0, 0, 0.3));\n",
              "      fill: #FFFFFF;\n",
              "    }\n",
              "  </style>\n",
              "\n",
              "      <script>\n",
              "        const buttonEl =\n",
              "          document.querySelector('#df-0c77fc90-36eb-4e52-9c3a-41f4fb2a7598 button.colab-df-convert');\n",
              "        buttonEl.style.display =\n",
              "          google.colab.kernel.accessAllowed ? 'block' : 'none';\n",
              "\n",
              "        async function convertToInteractive(key) {\n",
              "          const element = document.querySelector('#df-0c77fc90-36eb-4e52-9c3a-41f4fb2a7598');\n",
              "          const dataTable =\n",
              "            await google.colab.kernel.invokeFunction('convertToInteractive',\n",
              "                                                     [key], {});\n",
              "          if (!dataTable) return;\n",
              "\n",
              "          const docLinkHtml = 'Like what you see? Visit the ' +\n",
              "            '<a target=\"_blank\" href=https://colab.research.google.com/notebooks/data_table.ipynb>data table notebook</a>'\n",
              "            + ' to learn more about interactive tables.';\n",
              "          element.innerHTML = '';\n",
              "          dataTable['output_type'] = 'display_data';\n",
              "          await google.colab.output.renderOutput(dataTable, element);\n",
              "          const docLink = document.createElement('div');\n",
              "          docLink.innerHTML = docLinkHtml;\n",
              "          element.appendChild(docLink);\n",
              "        }\n",
              "      </script>\n",
              "    </div>\n",
              "  </div>\n",
              "  "
            ]
          },
          "metadata": {},
          "execution_count": 21
        }
      ]
    },
    {
      "cell_type": "markdown",
      "source": [
        "# Exploratory Data Analysis - EDA"
      ],
      "metadata": {
        "id": "dCCsFLY8tmec"
      }
    },
    {
      "cell_type": "code",
      "source": [
        "df.info()"
      ],
      "metadata": {
        "colab": {
          "base_uri": "https://localhost:8080/"
        },
        "id": "qNAy2XJDtuuG",
        "outputId": "af02dfad-f6fc-474e-c095-0c88cbabf417"
      },
      "execution_count": 23,
      "outputs": [
        {
          "output_type": "stream",
          "name": "stdout",
          "text": [
            "<class 'pandas.core.frame.DataFrame'>\n",
            "RangeIndex: 78764 entries, 0 to 78763\n",
            "Data columns (total 42 columns):\n",
            " #   Column  Non-Null Count  Dtype  \n",
            "---  ------  --------------  -----  \n",
            " 0   idnr    78764 non-null  int64  \n",
            " 1   b1      78764 non-null  int64  \n",
            " 2   b2      78764 non-null  object \n",
            " 3   b3      78764 non-null  int64  \n",
            " 4   b4      78764 non-null  int64  \n",
            " 5   c1      78764 non-null  int64  \n",
            " 6   c2      78764 non-null  int64  \n",
            " 7   c3      78764 non-null  object \n",
            " 8   c4      78764 non-null  float64\n",
            " 9   c5      78764 non-null  float64\n",
            " 10  c6      78764 non-null  int64  \n",
            " 11  c7      78764 non-null  float64\n",
            " 12  c8      78764 non-null  float64\n",
            " 13  c9      78764 non-null  object \n",
            " 14  c10     78764 non-null  float64\n",
            " 15  c11     78764 non-null  float64\n",
            " 16  c12     78764 non-null  float64\n",
            " 17  c13     78764 non-null  int64  \n",
            " 18  c14     78764 non-null  int64  \n",
            " 19  c15     78764 non-null  object \n",
            " 20  c16     78764 non-null  int64  \n",
            " 21  c17     78764 non-null  int64  \n",
            " 22  c18     78764 non-null  object \n",
            " 23  c19     78764 non-null  object \n",
            " 24  c20     78764 non-null  object \n",
            " 25  c21     78764 non-null  float64\n",
            " 26  c22     78764 non-null  int64  \n",
            " 27  c23     78764 non-null  float64\n",
            " 28  c24     78764 non-null  int64  \n",
            " 29  c25     78764 non-null  int64  \n",
            " 30  c26     78764 non-null  object \n",
            " 31  c27     78764 non-null  int64  \n",
            " 32  c28     78764 non-null  float64\n",
            " 33  c29     78764 non-null  object \n",
            " 34  c30     78764 non-null  float64\n",
            " 35  c31     78764 non-null  int64  \n",
            " 36  c32     78764 non-null  float64\n",
            " 37  c33     78764 non-null  float64\n",
            " 38  c34     78764 non-null  float64\n",
            " 39  c35     78764 non-null  float64\n",
            " 40  c36     78764 non-null  int64  \n",
            " 41  c37     78764 non-null  int64  \n",
            "dtypes: float64(15), int64(18), object(9)\n",
            "memory usage: 25.2+ MB\n"
          ]
        }
      ]
    },
    {
      "cell_type": "code",
      "source": [
        "df.describe()"
      ],
      "metadata": {
        "colab": {
          "base_uri": "https://localhost:8080/",
          "height": 394
        },
        "id": "kONFs4YVtb4U",
        "outputId": "97438116-4040-421d-8267-eb2c0df1cd28"
      },
      "execution_count": 22,
      "outputs": [
        {
          "output_type": "execute_result",
          "data": {
            "text/plain": [
              "               idnr            b1            b3            b4            c1  \\\n",
              "count  78764.000000  78764.000000  7.876400e+04  7.876400e+04  78764.000000   \n",
              "mean   39382.500000    221.334506  4.212667e+03  4.081650e+03      0.005853   \n",
              "std    22737.352638   1379.419351  1.306736e+05  7.252236e+04      0.233825   \n",
              "min        1.000000      0.000000  0.000000e+00  0.000000e+00      0.000000   \n",
              "25%    19691.750000      0.000000  1.470000e+02  1.310000e+02      0.000000   \n",
              "50%    39382.500000      0.000000  2.320000e+02  4.150000e+02      0.000000   \n",
              "75%    59073.250000      0.000000  3.150000e+02  2.126000e+03      0.000000   \n",
              "max    78764.000000  58329.000000  5.135678e+06  5.155468e+06     28.000000   \n",
              "\n",
              "                 c2            c4            c5       c6            c7  ...  \\\n",
              "count  78764.000000  78764.000000  78764.000000  78764.0  78764.000000  ...   \n",
              "mean       0.057641      0.057039      0.055584      0.0      0.985690  ...   \n",
              "std        4.893374      0.223525      0.226614      0.0      0.091636  ...   \n",
              "min        0.000000      0.000000      0.000000      0.0      0.000000  ...   \n",
              "25%        0.000000      0.000000      0.000000      0.0      1.000000  ...   \n",
              "50%        0.000000      0.000000      0.000000      0.0      1.000000  ...   \n",
              "75%        0.000000      0.000000      0.000000      0.0      1.000000  ...   \n",
              "max      993.000000      1.000000      1.000000      0.0      1.000000  ...   \n",
              "\n",
              "                c27           c28           c30           c31           c32  \\\n",
              "count  78764.000000  78764.000000  78764.000000  78764.000000  78764.000000   \n",
              "mean       0.126555      0.844032      0.024944      0.000089      0.139964   \n",
              "std        1.700752      0.306045      0.051542      0.013800      0.289011   \n",
              "min        0.000000      0.000000      0.000000      0.000000      0.000000   \n",
              "25%        0.000000      0.910000      0.000000      0.000000      0.000000   \n",
              "50%        0.000000      1.000000      0.010000      0.000000      0.010000   \n",
              "75%        0.000000      1.000000      0.030000      0.000000      0.080000   \n",
              "max       30.000000      1.000000      1.000000      3.000000      1.000000   \n",
              "\n",
              "                c33           c34           c35           c36           c37  \n",
              "count  78764.000000  78764.000000  78764.000000  78764.000000  78764.000000  \n",
              "mean       0.001912      0.055261      0.018022      0.030941    147.690798  \n",
              "std        0.028438      0.227704      0.115842      4.374954    103.717580  \n",
              "min        0.000000      0.000000      0.000000      0.000000      0.000000  \n",
              "25%        0.000000      0.000000      0.000000      0.000000     37.000000  \n",
              "50%        0.000000      0.000000      0.000000      0.000000    158.000000  \n",
              "75%        0.000000      0.000000      0.000000      0.000000    255.000000  \n",
              "max        1.000000      1.000000      1.000000    884.000000    255.000000  \n",
              "\n",
              "[8 rows x 33 columns]"
            ],
            "text/html": [
              "\n",
              "  <div id=\"df-0310f48d-8c16-4b35-9469-022c570fa7d6\">\n",
              "    <div class=\"colab-df-container\">\n",
              "      <div>\n",
              "<style scoped>\n",
              "    .dataframe tbody tr th:only-of-type {\n",
              "        vertical-align: middle;\n",
              "    }\n",
              "\n",
              "    .dataframe tbody tr th {\n",
              "        vertical-align: top;\n",
              "    }\n",
              "\n",
              "    .dataframe thead th {\n",
              "        text-align: right;\n",
              "    }\n",
              "</style>\n",
              "<table border=\"1\" class=\"dataframe\">\n",
              "  <thead>\n",
              "    <tr style=\"text-align: right;\">\n",
              "      <th></th>\n",
              "      <th>idnr</th>\n",
              "      <th>b1</th>\n",
              "      <th>b3</th>\n",
              "      <th>b4</th>\n",
              "      <th>c1</th>\n",
              "      <th>c2</th>\n",
              "      <th>c4</th>\n",
              "      <th>c5</th>\n",
              "      <th>c6</th>\n",
              "      <th>c7</th>\n",
              "      <th>...</th>\n",
              "      <th>c27</th>\n",
              "      <th>c28</th>\n",
              "      <th>c30</th>\n",
              "      <th>c31</th>\n",
              "      <th>c32</th>\n",
              "      <th>c33</th>\n",
              "      <th>c34</th>\n",
              "      <th>c35</th>\n",
              "      <th>c36</th>\n",
              "      <th>c37</th>\n",
              "    </tr>\n",
              "  </thead>\n",
              "  <tbody>\n",
              "    <tr>\n",
              "      <th>count</th>\n",
              "      <td>78764.000000</td>\n",
              "      <td>78764.000000</td>\n",
              "      <td>7.876400e+04</td>\n",
              "      <td>7.876400e+04</td>\n",
              "      <td>78764.000000</td>\n",
              "      <td>78764.000000</td>\n",
              "      <td>78764.000000</td>\n",
              "      <td>78764.000000</td>\n",
              "      <td>78764.0</td>\n",
              "      <td>78764.000000</td>\n",
              "      <td>...</td>\n",
              "      <td>78764.000000</td>\n",
              "      <td>78764.000000</td>\n",
              "      <td>78764.000000</td>\n",
              "      <td>78764.000000</td>\n",
              "      <td>78764.000000</td>\n",
              "      <td>78764.000000</td>\n",
              "      <td>78764.000000</td>\n",
              "      <td>78764.000000</td>\n",
              "      <td>78764.000000</td>\n",
              "      <td>78764.000000</td>\n",
              "    </tr>\n",
              "    <tr>\n",
              "      <th>mean</th>\n",
              "      <td>39382.500000</td>\n",
              "      <td>221.334506</td>\n",
              "      <td>4.212667e+03</td>\n",
              "      <td>4.081650e+03</td>\n",
              "      <td>0.005853</td>\n",
              "      <td>0.057641</td>\n",
              "      <td>0.057039</td>\n",
              "      <td>0.055584</td>\n",
              "      <td>0.0</td>\n",
              "      <td>0.985690</td>\n",
              "      <td>...</td>\n",
              "      <td>0.126555</td>\n",
              "      <td>0.844032</td>\n",
              "      <td>0.024944</td>\n",
              "      <td>0.000089</td>\n",
              "      <td>0.139964</td>\n",
              "      <td>0.001912</td>\n",
              "      <td>0.055261</td>\n",
              "      <td>0.018022</td>\n",
              "      <td>0.030941</td>\n",
              "      <td>147.690798</td>\n",
              "    </tr>\n",
              "    <tr>\n",
              "      <th>std</th>\n",
              "      <td>22737.352638</td>\n",
              "      <td>1379.419351</td>\n",
              "      <td>1.306736e+05</td>\n",
              "      <td>7.252236e+04</td>\n",
              "      <td>0.233825</td>\n",
              "      <td>4.893374</td>\n",
              "      <td>0.223525</td>\n",
              "      <td>0.226614</td>\n",
              "      <td>0.0</td>\n",
              "      <td>0.091636</td>\n",
              "      <td>...</td>\n",
              "      <td>1.700752</td>\n",
              "      <td>0.306045</td>\n",
              "      <td>0.051542</td>\n",
              "      <td>0.013800</td>\n",
              "      <td>0.289011</td>\n",
              "      <td>0.028438</td>\n",
              "      <td>0.227704</td>\n",
              "      <td>0.115842</td>\n",
              "      <td>4.374954</td>\n",
              "      <td>103.717580</td>\n",
              "    </tr>\n",
              "    <tr>\n",
              "      <th>min</th>\n",
              "      <td>1.000000</td>\n",
              "      <td>0.000000</td>\n",
              "      <td>0.000000e+00</td>\n",
              "      <td>0.000000e+00</td>\n",
              "      <td>0.000000</td>\n",
              "      <td>0.000000</td>\n",
              "      <td>0.000000</td>\n",
              "      <td>0.000000</td>\n",
              "      <td>0.0</td>\n",
              "      <td>0.000000</td>\n",
              "      <td>...</td>\n",
              "      <td>0.000000</td>\n",
              "      <td>0.000000</td>\n",
              "      <td>0.000000</td>\n",
              "      <td>0.000000</td>\n",
              "      <td>0.000000</td>\n",
              "      <td>0.000000</td>\n",
              "      <td>0.000000</td>\n",
              "      <td>0.000000</td>\n",
              "      <td>0.000000</td>\n",
              "      <td>0.000000</td>\n",
              "    </tr>\n",
              "    <tr>\n",
              "      <th>25%</th>\n",
              "      <td>19691.750000</td>\n",
              "      <td>0.000000</td>\n",
              "      <td>1.470000e+02</td>\n",
              "      <td>1.310000e+02</td>\n",
              "      <td>0.000000</td>\n",
              "      <td>0.000000</td>\n",
              "      <td>0.000000</td>\n",
              "      <td>0.000000</td>\n",
              "      <td>0.0</td>\n",
              "      <td>1.000000</td>\n",
              "      <td>...</td>\n",
              "      <td>0.000000</td>\n",
              "      <td>0.910000</td>\n",
              "      <td>0.000000</td>\n",
              "      <td>0.000000</td>\n",
              "      <td>0.000000</td>\n",
              "      <td>0.000000</td>\n",
              "      <td>0.000000</td>\n",
              "      <td>0.000000</td>\n",
              "      <td>0.000000</td>\n",
              "      <td>37.000000</td>\n",
              "    </tr>\n",
              "    <tr>\n",
              "      <th>50%</th>\n",
              "      <td>39382.500000</td>\n",
              "      <td>0.000000</td>\n",
              "      <td>2.320000e+02</td>\n",
              "      <td>4.150000e+02</td>\n",
              "      <td>0.000000</td>\n",
              "      <td>0.000000</td>\n",
              "      <td>0.000000</td>\n",
              "      <td>0.000000</td>\n",
              "      <td>0.0</td>\n",
              "      <td>1.000000</td>\n",
              "      <td>...</td>\n",
              "      <td>0.000000</td>\n",
              "      <td>1.000000</td>\n",
              "      <td>0.010000</td>\n",
              "      <td>0.000000</td>\n",
              "      <td>0.010000</td>\n",
              "      <td>0.000000</td>\n",
              "      <td>0.000000</td>\n",
              "      <td>0.000000</td>\n",
              "      <td>0.000000</td>\n",
              "      <td>158.000000</td>\n",
              "    </tr>\n",
              "    <tr>\n",
              "      <th>75%</th>\n",
              "      <td>59073.250000</td>\n",
              "      <td>0.000000</td>\n",
              "      <td>3.150000e+02</td>\n",
              "      <td>2.126000e+03</td>\n",
              "      <td>0.000000</td>\n",
              "      <td>0.000000</td>\n",
              "      <td>0.000000</td>\n",
              "      <td>0.000000</td>\n",
              "      <td>0.0</td>\n",
              "      <td>1.000000</td>\n",
              "      <td>...</td>\n",
              "      <td>0.000000</td>\n",
              "      <td>1.000000</td>\n",
              "      <td>0.030000</td>\n",
              "      <td>0.000000</td>\n",
              "      <td>0.080000</td>\n",
              "      <td>0.000000</td>\n",
              "      <td>0.000000</td>\n",
              "      <td>0.000000</td>\n",
              "      <td>0.000000</td>\n",
              "      <td>255.000000</td>\n",
              "    </tr>\n",
              "    <tr>\n",
              "      <th>max</th>\n",
              "      <td>78764.000000</td>\n",
              "      <td>58329.000000</td>\n",
              "      <td>5.135678e+06</td>\n",
              "      <td>5.155468e+06</td>\n",
              "      <td>28.000000</td>\n",
              "      <td>993.000000</td>\n",
              "      <td>1.000000</td>\n",
              "      <td>1.000000</td>\n",
              "      <td>0.0</td>\n",
              "      <td>1.000000</td>\n",
              "      <td>...</td>\n",
              "      <td>30.000000</td>\n",
              "      <td>1.000000</td>\n",
              "      <td>1.000000</td>\n",
              "      <td>3.000000</td>\n",
              "      <td>1.000000</td>\n",
              "      <td>1.000000</td>\n",
              "      <td>1.000000</td>\n",
              "      <td>1.000000</td>\n",
              "      <td>884.000000</td>\n",
              "      <td>255.000000</td>\n",
              "    </tr>\n",
              "  </tbody>\n",
              "</table>\n",
              "<p>8 rows × 33 columns</p>\n",
              "</div>\n",
              "      <button class=\"colab-df-convert\" onclick=\"convertToInteractive('df-0310f48d-8c16-4b35-9469-022c570fa7d6')\"\n",
              "              title=\"Convert this dataframe to an interactive table.\"\n",
              "              style=\"display:none;\">\n",
              "        \n",
              "  <svg xmlns=\"http://www.w3.org/2000/svg\" height=\"24px\"viewBox=\"0 0 24 24\"\n",
              "       width=\"24px\">\n",
              "    <path d=\"M0 0h24v24H0V0z\" fill=\"none\"/>\n",
              "    <path d=\"M18.56 5.44l.94 2.06.94-2.06 2.06-.94-2.06-.94-.94-2.06-.94 2.06-2.06.94zm-11 1L8.5 8.5l.94-2.06 2.06-.94-2.06-.94L8.5 2.5l-.94 2.06-2.06.94zm10 10l.94 2.06.94-2.06 2.06-.94-2.06-.94-.94-2.06-.94 2.06-2.06.94z\"/><path d=\"M17.41 7.96l-1.37-1.37c-.4-.4-.92-.59-1.43-.59-.52 0-1.04.2-1.43.59L10.3 9.45l-7.72 7.72c-.78.78-.78 2.05 0 2.83L4 21.41c.39.39.9.59 1.41.59.51 0 1.02-.2 1.41-.59l7.78-7.78 2.81-2.81c.8-.78.8-2.07 0-2.86zM5.41 20L4 18.59l7.72-7.72 1.47 1.35L5.41 20z\"/>\n",
              "  </svg>\n",
              "      </button>\n",
              "      \n",
              "  <style>\n",
              "    .colab-df-container {\n",
              "      display:flex;\n",
              "      flex-wrap:wrap;\n",
              "      gap: 12px;\n",
              "    }\n",
              "\n",
              "    .colab-df-convert {\n",
              "      background-color: #E8F0FE;\n",
              "      border: none;\n",
              "      border-radius: 50%;\n",
              "      cursor: pointer;\n",
              "      display: none;\n",
              "      fill: #1967D2;\n",
              "      height: 32px;\n",
              "      padding: 0 0 0 0;\n",
              "      width: 32px;\n",
              "    }\n",
              "\n",
              "    .colab-df-convert:hover {\n",
              "      background-color: #E2EBFA;\n",
              "      box-shadow: 0px 1px 2px rgba(60, 64, 67, 0.3), 0px 1px 3px 1px rgba(60, 64, 67, 0.15);\n",
              "      fill: #174EA6;\n",
              "    }\n",
              "\n",
              "    [theme=dark] .colab-df-convert {\n",
              "      background-color: #3B4455;\n",
              "      fill: #D2E3FC;\n",
              "    }\n",
              "\n",
              "    [theme=dark] .colab-df-convert:hover {\n",
              "      background-color: #434B5C;\n",
              "      box-shadow: 0px 1px 3px 1px rgba(0, 0, 0, 0.15);\n",
              "      filter: drop-shadow(0px 1px 2px rgba(0, 0, 0, 0.3));\n",
              "      fill: #FFFFFF;\n",
              "    }\n",
              "  </style>\n",
              "\n",
              "      <script>\n",
              "        const buttonEl =\n",
              "          document.querySelector('#df-0310f48d-8c16-4b35-9469-022c570fa7d6 button.colab-df-convert');\n",
              "        buttonEl.style.display =\n",
              "          google.colab.kernel.accessAllowed ? 'block' : 'none';\n",
              "\n",
              "        async function convertToInteractive(key) {\n",
              "          const element = document.querySelector('#df-0310f48d-8c16-4b35-9469-022c570fa7d6');\n",
              "          const dataTable =\n",
              "            await google.colab.kernel.invokeFunction('convertToInteractive',\n",
              "                                                     [key], {});\n",
              "          if (!dataTable) return;\n",
              "\n",
              "          const docLinkHtml = 'Like what you see? Visit the ' +\n",
              "            '<a target=\"_blank\" href=https://colab.research.google.com/notebooks/data_table.ipynb>data table notebook</a>'\n",
              "            + ' to learn more about interactive tables.';\n",
              "          element.innerHTML = '';\n",
              "          dataTable['output_type'] = 'display_data';\n",
              "          await google.colab.output.renderOutput(dataTable, element);\n",
              "          const docLink = document.createElement('div');\n",
              "          docLink.innerHTML = docLinkHtml;\n",
              "          element.appendChild(docLink);\n",
              "        }\n",
              "      </script>\n",
              "    </div>\n",
              "  </div>\n",
              "  "
            ]
          },
          "metadata": {},
          "execution_count": 22
        }
      ]
    },
    {
      "cell_type": "markdown",
      "source": [
        "**Visualize behavioural features**"
      ],
      "metadata": {
        "id": "BffOoHgKwBnQ"
      }
    },
    {
      "cell_type": "code",
      "source": [
        "plt.plot(df[\"b1\"], color=\"grey\")\n",
        "plt.title(\"Feature: b1\")\n",
        "plt.show()"
      ],
      "metadata": {
        "colab": {
          "base_uri": "https://localhost:8080/",
          "height": 281
        },
        "id": "GAoPsqqGttac",
        "outputId": "5a03f9c0-9cf0-4ab2-8413-1c1bb10b961b"
      },
      "execution_count": 34,
      "outputs": [
        {
          "output_type": "display_data",
          "data": {
            "text/plain": [
              "<Figure size 432x288 with 1 Axes>"
            ],
            "image/png": "[encoded data removed]"
          },
          "metadata": {
            "needs_background": "light"
          }
        }
      ]
    },
    {
      "cell_type": "code",
      "source": [
        "plt.plot(df[\"b3\"], color=\"grey\")\n",
        "plt.title(\"Feature: b3\")\n",
        "plt.show()"
      ],
      "metadata": {
        "colab": {
          "base_uri": "https://localhost:8080/",
          "height": 281
        },
        "id": "CbSzCqrewb4P",
        "outputId": "a26e5821-4916-4283-e847-b11fe4b42d3f"
      },
      "execution_count": 37,
      "outputs": [
        {
          "output_type": "display_data",
          "data": {
            "text/plain": [
              "<Figure size 432x288 with 1 Axes>"
            ],
            "image/png": "[encoded data removed]"
          },
          "metadata": {
            "needs_background": "light"
          }
        }
      ]
    },
    {
      "cell_type": "code",
      "source": [
        "plt.plot(df[\"b4\"], color=\"grey\")\n",
        "plt.title(\"Feature: b4\")\n",
        "plt.show()"
      ],
      "metadata": {
        "colab": {
          "base_uri": "https://localhost:8080/",
          "height": 281
        },
        "id": "8VLxRYpQxmVa",
        "outputId": "c77b6150-a88e-400d-d8ee-343d437cdca0"
      },
      "execution_count": 38,
      "outputs": [
        {
          "output_type": "display_data",
          "data": {
            "text/plain": [
              "<Figure size 432x288 with 1 Axes>"
            ],
            "image/png": "[encoded data removed]"
          },
          "metadata": {
            "needs_background": "light"
          }
        }
      ]
    },
    {
      "cell_type": "code",
      "source": [
        "plt.figure(figsize=(10,5))\n",
        "plt.hist(df.b1, color=\"grey\", density=True, rwidth=0.9)\n",
        "plt.show()"
      ],
      "metadata": {
        "colab": {
          "base_uri": "https://localhost:8080/",
          "height": 320
        },
        "id": "eNoFI-J-xoau",
        "outputId": "690830a3-3c47-4dc7-c2a7-cbe29142ae87"
      },
      "execution_count": 49,
      "outputs": [
        {
          "output_type": "display_data",
          "data": {
            "text/plain": [
              "<Figure size 720x360 with 1 Axes>"
            ],
            "image/png": "[encoded data removed]"
          },
          "metadata": {
            "needs_background": "light"
          }
        }
      ]
    },
    {
      "cell_type": "code",
      "source": [
        "plt.figure(figsize=(10,5))\n",
        "plt.hist(df.b3, color=\"grey\", density=True, rwidth=0.9)\n",
        "plt.show()"
      ],
      "metadata": {
        "colab": {
          "base_uri": "https://localhost:8080/",
          "height": 344
        },
        "id": "DP7SGY92x7CQ",
        "outputId": "5ad797d9-7376-4118-8e50-33e4e2dbaa73"
      },
      "execution_count": 50,
      "outputs": [
        {
          "output_type": "display_data",
          "data": {
            "text/plain": [
              "<Figure size 720x360 with 1 Axes>"
            ],
            "image/png": "[encoded data removed]"
          },
          "metadata": {
            "needs_background": "light"
          }
        }
      ]
    },
    {
      "cell_type": "code",
      "source": [
        "plt.figure(figsize=(10,5))\n",
        "plt.hist(df.b4, color=\"grey\", density=True, rwidth=0.8)\n",
        "plt.show()"
      ],
      "metadata": {
        "colab": {
          "base_uri": "https://localhost:8080/",
          "height": 344
        },
        "id": "Wnj79SpOzAJe",
        "outputId": "a160066a-a936-4275-c32e-773f0677407f"
      },
      "execution_count": 52,
      "outputs": [
        {
          "output_type": "display_data",
          "data": {
            "text/plain": [
              "<Figure size 720x360 with 1 Axes>"
            ],
            "image/png": "[encoded data removed]"
          },
          "metadata": {
            "needs_background": "light"
          }
        }
      ]
    },
    {
      "cell_type": "code",
      "source": [
        "sns.pairplot(df[[\"b1\", \"b3\", \"b4\"]], hue=None, hue_order=None,\n",
        "             palette=None, vars=None, x_vars=None, y_vars=None, \n",
        "             kind=\"scatter\", diag_kind=\"auto\", markers=None)\n",
        "plt.show()"
      ],
      "metadata": {
        "colab": {
          "base_uri": "https://localhost:8080/",
          "height": 550
        },
        "id": "Rtlaq9mDzDau",
        "outputId": "9176da2a-b36d-4f7e-fe09-f1306c26f1e8"
      },
      "execution_count": 54,
      "outputs": [
        {
          "output_type": "display_data",
          "data": {
            "text/plain": [
              "<Figure size 540x540 with 12 Axes>"
            ],
            "image/png": "[encoded data removed]"
          },
          "metadata": {
            "needs_background": "light"
          }
        }
      ]
    },
    {
      "cell_type": "code",
      "source": [],
      "metadata": {
        "id": "1UJ2i4otzu99"
      },
      "execution_count": null,
      "outputs": []
    }
  ]
}