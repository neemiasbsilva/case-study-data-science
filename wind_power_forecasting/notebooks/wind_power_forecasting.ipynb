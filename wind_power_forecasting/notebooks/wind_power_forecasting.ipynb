{
  "nbformat": 4,
  "nbformat_minor": 0,
  "metadata": {
    "colab": {
      "provenance": [],
      "toc_visible": true,
      "authorship_tag": "ABX9TyPEA+fqakwIae105iwmhMWP"
    },
    "kernelspec": {
      "name": "python3",
      "display_name": "Python 3"
    },
    "language_info": {
      "name": "python"
    },
    "gpuClass": "standard"
  },
  "cells": [
    {
      "cell_type": "markdown",
      "source": [
        "# Setup & Import Libraries"
      ],
      "metadata": {
        "id": "gdzIZ_Dhk8oI"
      }
    },
    {
      "cell_type": "code",
      "source": [
        "! pip install -q kaggle"
      ],
      "metadata": {
        "id": "ypf5pIowco17"
      },
      "execution_count": 1,
      "outputs": []
    },
    {
      "cell_type": "code",
      "source": [
        "from google.colab import files\n",
        "import os\n",
        "import numpy as np\n",
        "import pandas as pd\n",
        "import datetime\n",
        "\n",
        "import tensorflow as tf\n",
        "\n",
        "import seaborn as sns\n",
        "import matplotlib.pyplot as plt\n",
        "%matplotlib inline"
      ],
      "metadata": {
        "id": "LFI0rWsqk-6f"
      },
      "execution_count": 2,
      "outputs": []
    },
    {
      "cell_type": "markdown",
      "source": [
        "# Download the Dataset"
      ],
      "metadata": {
        "id": "4g5jPf5xkr5G"
      }
    },
    {
      "cell_type": "code",
      "metadata": {
        "id": "b6-vq2AtsxUl"
      },
      "source": [
        "files.upload() #upload kaggle.json."
      ],
      "execution_count": null,
      "outputs": []
    },
    {
      "cell_type": "code",
      "metadata": {
        "id": "emZJXHzrs3KB",
        "colab": {
          "base_uri": "https://localhost:8080/"
        },
        "outputId": "ecb011fb-9224-4917-ec94-b61381e72ab6"
      },
      "source": [
        "! mkdir ~/.kaggle \n",
        "! cp kaggle.json ~/.kaggle/\n",
        "! chmod 600 ~/.kaggle/kaggle.json\n",
        "!kaggle datasets download -d theforcecoder/wind-power-forecasting\n",
        "!unzip wind-power-forecasting.zip\n",
        "\n",
        "os.remove('wind-power-forecasting.zip')  "
      ],
      "execution_count": 4,
      "outputs": [
        {
          "output_type": "stream",
          "name": "stdout",
          "text": [
            "Downloading wind-power-forecasting.zip to /content\n",
            "\r  0% 0.00/7.51M [00:00<?, ?B/s]\r 93% 7.00M/7.51M [00:00<00:00, 72.3MB/s]\n",
            "\r100% 7.51M/7.51M [00:00<00:00, 75.5MB/s]\n",
            "Archive:  wind-power-forecasting.zip\n",
            "  inflating: Turbine_Data.csv        \n"
          ]
        }
      ]
    }
  ]
}